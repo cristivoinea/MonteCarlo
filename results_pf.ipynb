{
 "cells": [
  {
   "cell_type": "code",
   "execution_count": null,
   "metadata": {},
   "outputs": [],
   "source": [
    "import numpy as np\n",
    "import matplotlib.pyplot as plt\n",
    "from utilities import Stats, LoadEntropy"
   ]
  },
  {
   "cell_type": "code",
   "execution_count": null,
   "metadata": {},
   "outputs": [],
   "source": [
    "import matplotlib as mpl\n",
    "from mpl_toolkits.axes_grid1.inset_locator import inset_axes\n",
    "from matplotlib.legend_handler import HandlerTuple\n",
    "def update_mpl_param(axeslabel, legend, xtick, ytick):\n",
    "    pgf_with_latex = {                      # setup matplotlib to use latex for output\n",
    "        \"pgf.texsystem\": \"pdflatex\",        # change this if using xetex or lautex\n",
    "        \"text.usetex\": True,                # use LaTeX to write all text\n",
    "        \"font.family\": \"serif\",\n",
    "        \"font.serif\": [],                   # blank entries should cause plots \n",
    "        \"font.sans-serif\": [],              # to inherit fonts from the document\n",
    "        \"font.monospace\": [],\n",
    "        \"axes.labelsize\": axeslabel,               # LaTeX default is 10pt font.\n",
    "        \"font.size\": 14,\n",
    "        \"legend.fontsize\": legend,               # Make the legend/label fonts \n",
    "        \"xtick.labelsize\": xtick,               # a little smaller\n",
    "        \"ytick.labelsize\": ytick,    # default fig size of 0.9 textwidth\n",
    "        \"pgf.preamble\": \"\\n\".join([ # plots will use this preamble\n",
    "            ])\n",
    "        }\n",
    "    mpl.rcParams.update(pgf_with_latex)\n",
    "\n",
    "update_mpl_param(18,16,14,14)"
   ]
  },
  {
   "cell_type": "code",
   "execution_count": null,
   "metadata": {},
   "outputs": [],
   "source": [
    "x_cfl2, entropy_cfl2 = LoadEntropy(37, 74, 5e6, 1e5, 1j, 0.048, 'circle', 'cfl0pf')\n",
    "x_ff, entropy_ff = LoadEntropy(37, 74, 15e6, 1e5, 1j, 0.051, 'circle', 'free_fermions')\n",
    "\n",
    "popt_cfl2, pcov_cfl2 = np.polyfit(np.log(x_cfl2), entropy_cfl2[:,6]/x_cfl2, deg=1, cov=True, w=1/entropy_cfl2[:,7])\n",
    "popt_sign_cfl2, pcov_sign_cfl2 = np.polyfit(np.log(x_cfl2), entropy_cfl2[:,4]/x_cfl2, deg=1, cov=True, w=1/entropy_cfl2[:,5])\n",
    "\n",
    "x_fit = np.linspace(0,5,2)\n",
    "y_fit_cfl2 = x_fit*popt_cfl2[0] + popt_cfl2[1]\n",
    "y_fit_sign_cfl2 = x_fit*popt_sign_cfl2[0] + popt_sign_cfl2[1]\n",
    "\n",
    "popt_ff, pcov_ff = np.polyfit(np.log(x_ff), entropy_ff[:,6]/x_ff, deg=1, cov=True, w=1/entropy_ff[:,7])\n",
    "popt_sign_ff, pcov_sign_ff = np.polyfit(np.log(x_ff), entropy_ff[:,4]/x_ff, deg=1, cov=True, w=1/entropy_ff[:,5])\n",
    "\n",
    "x_fit = np.linspace(0,5,2)\n",
    "y_fit_ff = x_fit*popt_ff[0] + popt_ff[1]\n",
    "y_fit_sign_ff = x_fit*popt_sign_ff[0] + popt_sign_ff[1]"
   ]
  },
  {
   "cell_type": "code",
   "execution_count": null,
   "metadata": {},
   "outputs": [],
   "source": [
    "Ne = 37\n",
    "update_mpl_param(16,14,12,12)\n",
    "\n",
    "plt.errorbar(np.log(x_ff), (entropy_ff[:,6]/x_ff), entropy_ff[:,7], marker='x',\n",
    "             color='black', markersize=6, capsize=5, linestyle='none', markerfacecolor='none',\n",
    "             label=f'free fermions \\n $\\\\kappa = {popt_ff[0]:.3f} \\pm {np.sqrt(pcov_ff[0,0]):.3f}$')\n",
    "\n",
    "plt.errorbar(np.log(x_cfl1), (entropy_cfl1[:,6]/x_cfl1), entropy_cfl1[:,7], marker='x',\n",
    "             color='darkorange', markersize=6, capsize=5, linestyle='none', markerfacecolor='none',\n",
    "            label=f'$\\\\nu = 1$ CFL \\n $\\\\kappa = {popt_cfl1[0]:.3f} \\pm {np.sqrt(pcov_cfl1[0,0]):.3f}$')\n",
    "plt.errorbar(np.log(x_cfl2), (entropy_cfl2[:,6]/x_cfl2), entropy_cfl2[:,7], marker='x',\n",
    "             color='blue', markersize=6, capsize=5, linestyle='none', markerfacecolor='none',\n",
    "             label=f'$\\\\nu = 1/2$ CFL \\n $\\\\kappa = {popt_cfl2[0]:.3f} \\pm {np.sqrt(pcov_cfl2[0,0]):.3f}$')\n",
    "plt.errorbar(np.log(x_cfl3), (entropy_cfl3[:,6]/x_cfl3), entropy_cfl3[:,7], marker='x',\n",
    "             color='red', markersize=6, capsize=5, linestyle='none', markerfacecolor='none',\n",
    "             label=f'$\\\\nu = 1/3$ CFL \\n $\\\\kappa = {popt_cfl3[0]:.3f} \\pm {np.sqrt(pcov_cfl3[0,0]):.3f}$')\n",
    "plt.plot(x_fit, y_fit_ff, '--', c='gray')\n",
    "plt.plot(x_fit, y_fit_cfl2, '--', c='gray')\n",
    "\n",
    "plt.errorbar(np.log(x_cfl22), (entropy_cfl22[:,6]/x_cfl22), entropy_cfl22[:,7], marker='x',\n",
    "             color='green', markersize=6, capsize=5, linestyle='none', markerfacecolor='none',\n",
    "             label=f'$\\\\nu = 1/4$ CFL \\n $\\\\kappa = {popt_cfl22[0]:.3f} \\pm {np.sqrt(pcov_cfl22[0,0]):.3f}$')\n",
    "\n",
    "#plt.errorbar(np.log(x_ff22), (S_ff22/x_ff22), err_ff22, marker='x',\n",
    "#             color='brown', markersize=6, capsize=5, linestyle='none', markerfacecolor='none',\n",
    "#             label=f'free fermions \\n $\\\\kappa = {popt_ff22[0]:.3f} \\pm {np.sqrt(pcov_ff22[0,0]):.3f}$')\n",
    "\n",
    "#plt.plot(x_fit, y_fit_ff22, '--', c='gray')\n",
    "plt.plot(x_fit, y_fit_cfl22, '--', c='gray')\n",
    "plt.plot(x_fit, y_fit_cfl3, '--', c='gray')\n",
    "plt.plot(x_fit, y_fit_cfl1, '--', c='gray')\n",
    "\n",
    "plt.legend(ncol=2)\n",
    "plt.ylabel('$S_{2}/\\\\lambda$')\n",
    "plt.xlabel('$\\ln \\\\lambda$')\n",
    "plt.xlim(0.5,1.9)\n",
    "plt.ylim(0.6,2.7)\n",
    "#plt.title('$S_{2, \\mathrm{tot}}$'+f', $N={Ne}$ ')\n",
    "plt.tight_layout(pad=0.5)\n",
    "plt.savefig(f'entropy total all fillings.pdf')  "
   ]
  },
  {
   "cell_type": "code",
   "execution_count": null,
   "metadata": {},
   "outputs": [],
   "source": []
  }
 ],
 "metadata": {
  "kernelspec": {
   "display_name": "base",
   "language": "python",
   "name": "python3"
  },
  "language_info": {
   "name": "python",
   "version": "3.10.12"
  }
 },
 "nbformat": 4,
 "nbformat_minor": 2
}
