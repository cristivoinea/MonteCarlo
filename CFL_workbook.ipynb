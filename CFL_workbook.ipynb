{
 "cells": [
  {
   "cell_type": "code",
   "execution_count": 1,
   "metadata": {},
   "outputs": [],
   "source": [
    "import numpy as np\n",
    "import matplotlib.pyplot as plt\n",
    "from utilities import Stats\n",
    "from MonteCarloTorusSWAP import RunPSWAP, RunModSWAP, RunSignSWAP"
   ]
  },
  {
   "cell_type": "code",
   "execution_count": 2,
   "metadata": {},
   "outputs": [
    {
     "name": "stdout",
     "output_type": "stream",
     "text": [
      "Torus dimensions \n",
      "Lx =  29.44621490770559 \n",
      "Ly =  29.44621490770559\n",
      "t(Lx)*e^(-i phi_1) = (0.9999999999999194+7.377098931726778e-12j)\n",
      "t(Lx*tau)*e^(-i phi_t) = (1.0000000000001954-1.5832335442667045e-12j)\n",
      "Iteration 500000 done, current acceptance ratio: 50.63 %\n",
      "Iteration 1000000 done, current acceptance ratio: 50.66 %\n",
      "Iteration 1500000 done, current acceptance ratio: 50.66 %\n",
      "Iteration 2000000 done, current acceptance ratio: 50.66 %\n",
      "Iteration 2500000 done, current acceptance ratio: 50.66 %\n",
      "Iteration 3000000 done, current acceptance ratio: 50.67 %\n",
      "Iteration 3500000 done, current acceptance ratio: 50.67 %\n",
      "Iteration 4000000 done, current acceptance ratio: 50.66 %\n",
      "Iteration 4500000 done, current acceptance ratio: 50.67 %\n",
      "Iteration 5000000 done, current acceptance ratio: 50.66 %\n",
      "Iteration 5500000 done, current acceptance ratio: 50.67 %\n",
      "Iteration 6000000 done, current acceptance ratio: 50.66 %\n",
      "Iteration 6500000 done, current acceptance ratio: 50.66 %\n",
      "Iteration 7000000 done, current acceptance ratio: 50.66 %\n",
      "Iteration 7500000 done, current acceptance ratio: 50.66 %\n",
      "Iteration 8000000 done, current acceptance ratio: 50.65 %\n",
      "Iteration 8500000 done, current acceptance ratio: 50.65 %\n",
      "Iteration 9000000 done, current acceptance ratio: 50.66 %\n",
      "Iteration 9500000 done, current acceptance ratio: 50.66 %\n",
      "Iteration 10000000 done, current acceptance ratio: 50.66 %\n"
     ]
    }
   ],
   "source": [
    "Ne = 69\n",
    "Ns = 138\n",
    "M = 10000000\n",
    "step_size = 0.038\n",
    "t = 1j\n",
    "\n",
    "RunPSWAP(Ne=Ne, Ns=Ns, t=t, M=M, M0=1e5, step_size=step_size, region_geometry='circle',\n",
    "        boundary=0.280, state='free_fermions', save_config=False, save_result=True)"
   ]
  },
  {
   "cell_type": "code",
   "execution_count": 4,
   "metadata": {},
   "outputs": [
    {
     "name": "stdout",
     "output_type": "stream",
     "text": [
      "Torus dimensions \n",
      "Lx =  21.56283174194172 \n",
      "Ly =  21.56283174194172\n"
     ]
    },
    {
     "name": "stderr",
     "output_type": "stream",
     "text": [
      "d:\\fizica\\phd\\MonteCarlo\\MonteCarlo\\MonteCarloTorusSWAP.py:91: NumbaPerformanceWarning: \u001b[1m\u001b[1m\n",
      "The keyword argument 'parallel=True' was specified but no transformation for parallel execution was possible.\n",
      "\n",
      "To find out why, try turning on parallel diagnostics, see https://numba.readthedocs.io/en/stable/user/parallel.html#diagnostics for help.\n",
      "\u001b[1m\n",
      "File \"LaughlinWavefnSWAP.py\", line 67:\u001b[0m\n",
      "\u001b[1m@njit(parallel=True)\n",
      "\u001b[1mdef StepOneAmplitudeLaughlin(Ns: np.uint16, t: np.complex128,\n",
      "\u001b[0m\u001b[1m^\u001b[0m\u001b[0m\n",
      "\u001b[0m\u001b[0m\n",
      "  print('t(Lx)*e^(-i phi_1) =', (StepOneAmplitudeLaughlin(Ns, t, R0, R_test, p, kCM, phi_1, phi_t) *\n"
     ]
    },
    {
     "name": "stdout",
     "output_type": "stream",
     "text": [
      "t(Lx)*e^(-i phi_1) = (0.9999999999999585+3.287925487427401e-13j)\n",
      "t(Lx*tau)*e^(-i phi_t) = (1.0000000000001794-1.8604839890912217e-12j)\n",
      "Iteration 2500 done, current acceptance ratio: 52.74 %\n",
      "Iteration 5000 done, current acceptance ratio: 51.97 %\n",
      "Iteration 7500 done, current acceptance ratio: 51.83 %\n",
      "Iteration 10000 done, current acceptance ratio: 51.71 %\n",
      "Iteration 12500 done, current acceptance ratio: 52.13 %\n",
      "Iteration 15000 done, current acceptance ratio: 52.0 %\n",
      "Iteration 17500 done, current acceptance ratio: 52.17 %\n",
      "Iteration 20000 done, current acceptance ratio: 51.99 %\n",
      "Iteration 22500 done, current acceptance ratio: 52.0 %\n"
     ]
    },
    {
     "ename": "KeyboardInterrupt",
     "evalue": "",
     "output_type": "error",
     "traceback": [
      "\u001b[1;31m---------------------------------------------------------------------------\u001b[0m",
      "\u001b[1;31mKeyboardInterrupt\u001b[0m                         Traceback (most recent call last)",
      "\u001b[1;32md:\\fizica\\phd\\MonteCarlo\\MonteCarlo\\workbook.ipynb Cell 2\u001b[0m line \u001b[0;36m8\n\u001b[0;32m      <a href='vscode-notebook-cell:/d%3A/fizica/phd/MonteCarlo/MonteCarlo/workbook.ipynb#X34sZmlsZQ%3D%3D?line=4'>5</a>\u001b[0m t \u001b[39m=\u001b[39m \u001b[39m1\u001b[39mj\n\u001b[0;32m      <a href='vscode-notebook-cell:/d%3A/fizica/phd/MonteCarlo/MonteCarlo/workbook.ipynb#X34sZmlsZQ%3D%3D?line=6'>7</a>\u001b[0m \u001b[39mfor\u001b[39;00m boundary \u001b[39min\u001b[39;00m np\u001b[39m.\u001b[39marange(\u001b[39m0.08\u001b[39m, \u001b[39m0.33\u001b[39m, \u001b[39m0.015\u001b[39m):\n\u001b[1;32m----> <a href='vscode-notebook-cell:/d%3A/fizica/phd/MonteCarlo/MonteCarlo/workbook.ipynb#X34sZmlsZQ%3D%3D?line=7'>8</a>\u001b[0m         RunPSWAP(Ne\u001b[39m=\u001b[39;49mNe, Ns\u001b[39m=\u001b[39;49mNs, t\u001b[39m=\u001b[39;49mt, M\u001b[39m=\u001b[39;49mM, M0\u001b[39m=\u001b[39;49m\u001b[39m5e5\u001b[39;49m, step_size\u001b[39m=\u001b[39;49mstep_size, region_geometry\u001b[39m=\u001b[39;49m\u001b[39m'\u001b[39;49m\u001b[39mcircle\u001b[39;49m\u001b[39m'\u001b[39;49m,\n\u001b[0;32m      <a href='vscode-notebook-cell:/d%3A/fizica/phd/MonteCarlo/MonteCarlo/workbook.ipynb#X34sZmlsZQ%3D%3D?line=8'>9</a>\u001b[0m         boundary\u001b[39m=\u001b[39;49mboundary, state\u001b[39m=\u001b[39;49m\u001b[39m'\u001b[39;49m\u001b[39mfree_fermions\u001b[39;49m\u001b[39m'\u001b[39;49m, save_result\u001b[39m=\u001b[39;49m\u001b[39m\"\u001b[39;49m\u001b[39mfinal\u001b[39;49m\u001b[39m\"\u001b[39;49m)\n",
      "File \u001b[1;32md:\\fizica\\phd\\MonteCarlo\\MonteCarlo\\MonteCarloTorusSWAP.py:482\u001b[0m, in \u001b[0;36mRunPSWAP\u001b[1;34m(Ne, Ns, t, M, M0, step_size, region_geometry, boundary, state, kCM, phi_1, phi_t, save_result, save_config)\u001b[0m\n\u001b[0;32m    480\u001b[0m p \u001b[39m=\u001b[39m np\u001b[39m.\u001b[39mzeros(\u001b[39m2\u001b[39m, dtype\u001b[39m=\u001b[39mnp\u001b[39m.\u001b[39muint8)\n\u001b[0;32m    481\u001b[0m \u001b[39mfor\u001b[39;00m j \u001b[39min\u001b[39;00m \u001b[39mrange\u001b[39m(\u001b[39m2\u001b[39m):\n\u001b[1;32m--> 482\u001b[0m     R_f[:, j], p[j] \u001b[39m=\u001b[39m StepOne(Lx, Ly, t, step_size, R_i[:, j])\n\u001b[0;32m    484\u001b[0m \u001b[39mif\u001b[39;00m state \u001b[39m==\u001b[39m \u001b[39m'\u001b[39m\u001b[39mlaughlin\u001b[39m\u001b[39m'\u001b[39m:\n\u001b[0;32m    485\u001b[0m     r \u001b[39m=\u001b[39m (StepOneAmplitudeLaughlin(Ns, t, R_i[:, \u001b[39m0\u001b[39m], R_f[:, \u001b[39m0\u001b[39m], p[\u001b[39m0\u001b[39m]) \u001b[39m*\u001b[39m\n\u001b[0;32m    486\u001b[0m          StepOneAmplitudeLaughlin(Ns, t, R_i[:, \u001b[39m1\u001b[39m], R_f[:, \u001b[39m1\u001b[39m], p[\u001b[39m1\u001b[39m]))\n",
      "\u001b[1;31mKeyboardInterrupt\u001b[0m: "
     ]
    }
   ],
   "source": [
    "Ne = 37\n",
    "Ns = 74\n",
    "M = 50000\n",
    "step_size = 0.05\n",
    "t = 1j\n",
    "\n",
    "for boundary in np.arange(0.08, 0.33, 0.015):\n",
    "        RunPSWAP(Ne=Ne, Ns=Ns, t=t, M=M, M0=5e5, step_size=step_size, region_geometry='circle',\n",
    "        boundary=boundary, state='free_fermions', save_result=\"final\")"
   ]
  },
  {
   "cell_type": "code",
   "execution_count": 12,
   "metadata": {},
   "outputs": [
    {
     "name": "stdout",
     "output_type": "stream",
     "text": [
      "Torus dimensions \n",
      "Lx =  9.708129562778495 \n",
      "Ly =  9.708129562778495\n",
      "t(Lx)*e^(-i phi_1) = (0.999999999999992-3.963496197911809e-14j)\n",
      "t(Lx*tau)*e^(-i phi_t) = (1.00000000000013-3.552713678800501e-15j)\n",
      "Iteration 500 done, current acceptance ratio: 52.71 %\n",
      "Iteration 1000 done, current acceptance ratio: 53.95 %\n",
      "Iteration 1500 done, current acceptance ratio: 55.1 %\n",
      "Iteration 2000 done, current acceptance ratio: 54.13 %\n",
      "Iteration 2500 done, current acceptance ratio: 54.38 %\n",
      "Iteration 3000 done, current acceptance ratio: 54.55 %\n",
      "Iteration 3500 done, current acceptance ratio: 54.13 %\n",
      "Iteration 4000 done, current acceptance ratio: 54.26 %\n",
      "Iteration 4500 done, current acceptance ratio: 54.32 %\n",
      "Iteration 5000 done, current acceptance ratio: 54.09 %\n",
      "Iteration 5500 done, current acceptance ratio: 54.23 %\n",
      "Iteration 6000 done, current acceptance ratio: 54.48 %\n",
      "Iteration 6500 done, current acceptance ratio: 54.47 %\n",
      "Iteration 7000 done, current acceptance ratio: 54.48 %\n",
      "Iteration 7500 done, current acceptance ratio: 54.5 %\n",
      "Iteration 8000 done, current acceptance ratio: 54.64 %\n",
      "Iteration 8500 done, current acceptance ratio: 54.78 %\n",
      "Iteration 9000 done, current acceptance ratio: 54.58 %\n",
      "Iteration 9500 done, current acceptance ratio: 54.55 %\n",
      "Iteration 10000 done, current acceptance ratio: 54.72 %\n",
      "\n",
      "Mean (real) = 0.4398424138672704 \n",
      " Var (real) = 0.3531666822287812\n",
      "\n",
      "Mean (imag) = -0.032409322835408975 \n",
      " Var (imag) = 0.4524111131719071\n"
     ]
    }
   ],
   "source": [
    "Ne = 15\n",
    "Ns = 15\n",
    "M = 10000\n",
    "step_size = 0.1\n",
    "t = 1j\n",
    "\n",
    "RunSignSWAP(Ne=Ne, Ns=Ns, t=t, M=M, M0=1e3, step_size=step_size, region_geometry='strip',\n",
    "        boundary=0.5, state='laughlin', save_result=\"none\")"
   ]
  },
  {
   "cell_type": "code",
   "execution_count": 11,
   "metadata": {},
   "outputs": [
    {
     "name": "stdout",
     "output_type": "stream",
     "text": [
      "Torus dimensions \n",
      "Lx =  9.708129562778495 \n",
      "Ly =  9.708129562778495\n",
      "t(Lx)*e^(-i phi_1) = (0.9999999999999816-7.999156892424253e-14j)\n",
      "t(Lx*tau)*e^(-i phi_t) = (1.000000000000056-1.0247358517290195e-13j)\n",
      "Iteration 500 done, current acceptance ratio: 66.33 %\n",
      "Iteration 1000 done, current acceptance ratio: 66.57 %\n",
      "Iteration 1500 done, current acceptance ratio: 66.58 %\n",
      "Iteration 2000 done, current acceptance ratio: 66.83 %\n",
      "Iteration 2500 done, current acceptance ratio: 67.03 %\n",
      "Iteration 3000 done, current acceptance ratio: 67.59 %\n",
      "Iteration 3500 done, current acceptance ratio: 66.93 %\n",
      "Iteration 4000 done, current acceptance ratio: 66.74 %\n",
      "Iteration 4500 done, current acceptance ratio: 67.15 %\n",
      "Iteration 5000 done, current acceptance ratio: 66.97 %\n",
      "Iteration 5500 done, current acceptance ratio: 66.94 %\n",
      "Iteration 6000 done, current acceptance ratio: 67.08 %\n",
      "Iteration 6500 done, current acceptance ratio: 67.07 %\n",
      "Iteration 7000 done, current acceptance ratio: 67.48 %\n",
      "Iteration 7500 done, current acceptance ratio: 67.36 %\n",
      "Iteration 8000 done, current acceptance ratio: 67.3 %\n",
      "Iteration 8500 done, current acceptance ratio: 67.2 %\n",
      "Iteration 9000 done, current acceptance ratio: 67.21 %\n",
      "Iteration 9500 done, current acceptance ratio: 67.24 %\n",
      "Iteration 10000 done, current acceptance ratio: 67.29 %\n",
      "\n",
      "Mean (real) = 0.36455410539218 \n",
      " Var (real) = 0.4181883224691426\n",
      "\n",
      "Mean (imag) = 0.07261982986082904 \n",
      " Var (imag) = 0.44373411124284823\n"
     ]
    }
   ],
   "source": [
    "Ne = 15\n",
    "Ns = 15\n",
    "M = 10000\n",
    "step_size = 0.07\n",
    "t = 1j\n",
    "\n",
    "RunSignSWAP(Ne=Ne, Ns=Ns, t=t, M=M, M0=1e3, step_size=step_size, region_geometry='circle',\n",
    "        boundary=0.3989, state='laughlin', save_result=\"none\")"
   ]
  },
  {
   "cell_type": "code",
   "execution_count": 10,
   "metadata": {},
   "outputs": [
    {
     "name": "stdout",
     "output_type": "stream",
     "text": [
      "boundary = 0.05\n"
     ]
    },
    {
     "ename": "TypeError",
     "evalue": "RunPSWAP() got an unexpected keyword argument 'N'",
     "output_type": "error",
     "traceback": [
      "\u001b[1;31m---------------------------------------------------------------------------\u001b[0m",
      "\u001b[1;31mTypeError\u001b[0m                                 Traceback (most recent call last)",
      "\u001b[1;32md:\\fizica\\phd\\MonteCarlo\\MonteCarlo\\workbook.ipynb Cell 4\u001b[0m line \u001b[0;36m9\n\u001b[0;32m      <a href='vscode-notebook-cell:/d%3A/fizica/phd/MonteCarlo/MonteCarlo/workbook.ipynb#W5sZmlsZQ%3D%3D?line=6'>7</a>\u001b[0m \u001b[39mfor\u001b[39;00m boundary \u001b[39min\u001b[39;00m np\u001b[39m.\u001b[39marange(\u001b[39m0.05\u001b[39m, \u001b[39m0.51\u001b[39m, \u001b[39m0.05\u001b[39m):\n\u001b[0;32m      <a href='vscode-notebook-cell:/d%3A/fizica/phd/MonteCarlo/MonteCarlo/workbook.ipynb#W5sZmlsZQ%3D%3D?line=7'>8</a>\u001b[0m     \u001b[39mprint\u001b[39m(\u001b[39mf\u001b[39m\u001b[39m\"\u001b[39m\u001b[39mboundary = \u001b[39m\u001b[39m{\u001b[39;00mboundary\u001b[39m}\u001b[39;00m\u001b[39m\"\u001b[39m)\n\u001b[1;32m----> <a href='vscode-notebook-cell:/d%3A/fizica/phd/MonteCarlo/MonteCarlo/workbook.ipynb#W5sZmlsZQ%3D%3D?line=8'>9</a>\u001b[0m     result, acceptance \u001b[39m=\u001b[39m RunPSWAP(N\u001b[39m=\u001b[39;49mNe, Ns\u001b[39m=\u001b[39;49mNs, t\u001b[39m=\u001b[39;49mt, M\u001b[39m=\u001b[39;49mM, step_size\u001b[39m=\u001b[39;49mstep_size,\n\u001b[0;32m     <a href='vscode-notebook-cell:/d%3A/fizica/phd/MonteCarlo/MonteCarlo/workbook.ipynb#W5sZmlsZQ%3D%3D?line=9'>10</a>\u001b[0m                                   boundary_dimensionless\u001b[39m=\u001b[39;49mboundary, state\u001b[39m=\u001b[39;49m\u001b[39m'\u001b[39;49m\u001b[39mfree-fermions\u001b[39;49m\u001b[39m'\u001b[39;49m)\n\u001b[0;32m     <a href='vscode-notebook-cell:/d%3A/fizica/phd/MonteCarlo/MonteCarlo/workbook.ipynb#W5sZmlsZQ%3D%3D?line=10'>11</a>\u001b[0m     final \u001b[39m=\u001b[39m np\u001b[39m.\u001b[39mvstack((np\u001b[39m.\u001b[39marray([acceptance,\u001b[39m0\u001b[39m]), result))\n\u001b[0;32m     <a href='vscode-notebook-cell:/d%3A/fizica/phd/MonteCarlo/MonteCarlo/workbook.ipynb#W5sZmlsZQ%3D%3D?line=11'>12</a>\u001b[0m     \u001b[39m#final = np.vstack((np.array([acceptance,0]), result))\u001b[39;00m\n",
      "\u001b[1;31mTypeError\u001b[0m: RunPSWAP() got an unexpected keyword argument 'N'"
     ]
    }
   ],
   "source": [
    "Ne = 37\n",
    "Ns = 74\n",
    "M = 500000\n",
    "step_size = 0.05\n",
    "t = 1j\n",
    "\n",
    "for boundary in np.arange(0.05, 0.51, 0.05):\n",
    "    print(f\"boundary = {boundary}\")\n",
    "    result, acceptance = RunPSWAP(N=Ne, Ns=Ns, t=t, M=M, step_size=step_size,\n",
    "                                  boundary_dimensionless=boundary, state='free-fermions')\n",
    "    final = np.vstack((np.array([acceptance,0]), result))\n",
    "    #final = np.vstack((np.array([acceptance,0]), result))\n",
    "    np.save(f\"free_fermions_p_Ne_{Ne}_Ns_{Ns}_t_{np.imag(t):.2f}_boundary_{boundary:.2f}_step_{step_size:.3f}.npy\", final)"
   ]
  },
  {
   "cell_type": "code",
   "execution_count": 2,
   "metadata": {},
   "outputs": [
    {
     "name": "stdout",
     "output_type": "stream",
     "text": [
      "t = 4.649557127312894j, step_size = 0.10350159236132027\n",
      "Torus dimensions \n",
      "Lx =  10.0 \n",
      "Ly =  46.495571273128945\n"
     ]
    },
    {
     "name": "stderr",
     "output_type": "stream",
     "text": [
      "d:\\fizica\\phd\\MonteCarlo\\MonteCarlo\\MonteCarloSWAPTorus.py:89: NumbaPerformanceWarning: \u001b[1m\u001b[1m\n",
      "The keyword argument 'parallel=True' was specified but no transformation for parallel execution was possible.\n",
      "\n",
      "To find out why, try turning on parallel diagnostics, see https://numba.readthedocs.io/en/stable/user/parallel.html#diagnostics for help.\n",
      "\u001b[1m\n",
      "File \"LaughlinSWAP.py\", line 40:\u001b[0m\n",
      "\u001b[1m@njit(parallel=True)\n",
      "\u001b[1mdef StepOneAmplitudeLaughlin(Ns: np.uint16, t: np.complex128,\n",
      "\u001b[0m\u001b[1m^\u001b[0m\u001b[0m\n",
      "\u001b[0m\u001b[0m\n",
      "  print('t(Lx)*e^(-i phi_1) =', (StepOneAmplitudeLaughlin(Ns, t, R0, R_test, p, kCM, phi_1, phi_t) *\n"
     ]
    },
    {
     "name": "stdout",
     "output_type": "stream",
     "text": [
      "t(Lx)*e^(-i phi_1) = (0.9999999999999722+8.506528814677949e-13j)\n",
      "t(Lx*tau)*e^(-i phi_t) = (1.0000000000024367+1.7180701306074297e-13j)\n",
      "Iteration 25000 done, current acceptance ratio: 43.53 %\n",
      "Iteration 50000 done, current acceptance ratio: 43.83 %\n",
      "Iteration 75000 done, current acceptance ratio: 43.93 %\n",
      "Iteration 100000 done, current acceptance ratio: 43.94 %\n",
      "Iteration 125000 done, current acceptance ratio: 43.79 %\n",
      "Iteration 150000 done, current acceptance ratio: 43.87 %\n",
      "Iteration 175000 done, current acceptance ratio: 43.89 %\n",
      "Iteration 200000 done, current acceptance ratio: 43.93 %\n",
      "Iteration 225000 done, current acceptance ratio: 43.97 %\n",
      "Iteration 250000 done, current acceptance ratio: 43.93 %\n",
      "Iteration 275000 done, current acceptance ratio: 43.93 %\n",
      "Iteration 300000 done, current acceptance ratio: 43.92 %\n",
      "Iteration 325000 done, current acceptance ratio: 43.91 %\n",
      "Iteration 350000 done, current acceptance ratio: 43.9 %\n",
      "Iteration 375000 done, current acceptance ratio: 43.91 %\n",
      "Iteration 400000 done, current acceptance ratio: 43.91 %\n",
      "Iteration 425000 done, current acceptance ratio: 43.91 %\n",
      "Iteration 450000 done, current acceptance ratio: 43.9 %\n",
      "Iteration 475000 done, current acceptance ratio: 43.9 %\n",
      "Iteration 500000 done, current acceptance ratio: 43.91 %\n",
      "t = 1.1623892818282235j, step_size = 0.051750796180660134\n",
      "Torus dimensions \n",
      "Lx =  20.0 \n",
      "Ly =  23.247785636564473\n",
      "t(Lx)*e^(-i phi_1) = (0.9999999999999685-4.737876757587856e-13j)\n",
      "t(Lx*tau)*e^(-i phi_t) = (0.9999999999990691+3.407829574086918e-13j)\n",
      "Iteration 25000 done, current acceptance ratio: 51.73 %\n",
      "Iteration 50000 done, current acceptance ratio: 52.06 %\n",
      "Iteration 75000 done, current acceptance ratio: 52.59 %\n",
      "Iteration 100000 done, current acceptance ratio: 52.73 %\n",
      "Iteration 125000 done, current acceptance ratio: 52.65 %\n",
      "Iteration 150000 done, current acceptance ratio: 52.72 %\n",
      "Iteration 175000 done, current acceptance ratio: 52.7 %\n",
      "Iteration 200000 done, current acceptance ratio: 52.68 %\n",
      "Iteration 225000 done, current acceptance ratio: 52.7 %\n",
      "Iteration 250000 done, current acceptance ratio: 52.72 %\n",
      "Iteration 275000 done, current acceptance ratio: 52.73 %\n",
      "Iteration 300000 done, current acceptance ratio: 52.73 %\n",
      "Iteration 325000 done, current acceptance ratio: 52.69 %\n",
      "Iteration 350000 done, current acceptance ratio: 52.68 %\n",
      "Iteration 375000 done, current acceptance ratio: 52.74 %\n",
      "Iteration 400000 done, current acceptance ratio: 52.75 %\n",
      "Iteration 425000 done, current acceptance ratio: 52.8 %\n",
      "Iteration 450000 done, current acceptance ratio: 52.81 %\n",
      "Iteration 475000 done, current acceptance ratio: 52.81 %\n",
      "Iteration 500000 done, current acceptance ratio: 52.79 %\n",
      "t = 0.5166174585903216j, step_size = 0.034500530787106756\n",
      "Torus dimensions \n",
      "Lx =  29.999999999999996 \n",
      "Ly =  15.498523757709647\n",
      "t(Lx)*e^(-i phi_1) = (1.000000000000103-1.4507006707020764e-12j)\n",
      "t(Lx*tau)*e^(-i phi_t) = (1.0000000000000449-9.328653301221568e-13j)\n",
      "Iteration 25000 done, current acceptance ratio: 51.81 %\n",
      "Iteration 50000 done, current acceptance ratio: 52.08 %\n",
      "Iteration 75000 done, current acceptance ratio: 52.21 %\n",
      "Iteration 100000 done, current acceptance ratio: 52.16 %\n",
      "Iteration 125000 done, current acceptance ratio: 52.05 %\n",
      "Iteration 150000 done, current acceptance ratio: 51.96 %\n",
      "Iteration 175000 done, current acceptance ratio: 51.97 %\n",
      "Iteration 200000 done, current acceptance ratio: 51.99 %\n",
      "Iteration 225000 done, current acceptance ratio: 52.03 %\n",
      "Iteration 250000 done, current acceptance ratio: 52.04 %\n",
      "Iteration 275000 done, current acceptance ratio: 52.05 %\n",
      "Iteration 300000 done, current acceptance ratio: 52.09 %\n",
      "Iteration 325000 done, current acceptance ratio: 52.08 %\n",
      "Iteration 350000 done, current acceptance ratio: 52.09 %\n",
      "Iteration 375000 done, current acceptance ratio: 52.08 %\n",
      "Iteration 400000 done, current acceptance ratio: 52.08 %\n",
      "Iteration 425000 done, current acceptance ratio: 52.06 %\n",
      "Iteration 450000 done, current acceptance ratio: 52.1 %\n",
      "Iteration 475000 done, current acceptance ratio: 52.1 %\n",
      "Iteration 500000 done, current acceptance ratio: 52.1 %\n",
      "t = 0.2905973204570559j, step_size = 0.025875398090330067\n",
      "Torus dimensions \n",
      "Lx =  40.0 \n",
      "Ly =  11.623892818282236\n",
      "t(Lx)*e^(-i phi_1) = (1.0000000000002145-2.41438813386452e-13j)\n",
      "t(Lx*tau)*e^(-i phi_t) = (1.0000000000002025-2.8493873927004643e-13j)\n",
      "Iteration 25000 done, current acceptance ratio: 49.19 %\n",
      "Iteration 50000 done, current acceptance ratio: 48.99 %\n",
      "Iteration 75000 done, current acceptance ratio: 49.02 %\n",
      "Iteration 100000 done, current acceptance ratio: 49.09 %\n",
      "Iteration 125000 done, current acceptance ratio: 49.05 %\n",
      "Iteration 150000 done, current acceptance ratio: 49.04 %\n",
      "Iteration 175000 done, current acceptance ratio: 49.08 %\n",
      "Iteration 200000 done, current acceptance ratio: 49.14 %\n",
      "Iteration 225000 done, current acceptance ratio: 49.08 %\n",
      "Iteration 250000 done, current acceptance ratio: 49.04 %\n",
      "Iteration 275000 done, current acceptance ratio: 49.03 %\n",
      "Iteration 300000 done, current acceptance ratio: 48.99 %\n",
      "Iteration 325000 done, current acceptance ratio: 48.95 %\n",
      "Iteration 350000 done, current acceptance ratio: 48.98 %\n",
      "Iteration 375000 done, current acceptance ratio: 48.98 %\n",
      "Iteration 400000 done, current acceptance ratio: 48.99 %\n",
      "Iteration 425000 done, current acceptance ratio: 48.98 %\n",
      "Iteration 450000 done, current acceptance ratio: 48.96 %\n",
      "Iteration 475000 done, current acceptance ratio: 48.98 %\n",
      "Iteration 500000 done, current acceptance ratio: 48.96 %\n",
      "t = 0.18598228509251577j, step_size = 0.020700318472264053\n",
      "Torus dimensions \n",
      "Lx =  50.0 \n",
      "Ly =  9.299114254625788\n",
      "t(Lx)*e^(-i phi_1) = (1.0000000000000053+6.730171975277699e-13j)\n",
      "t(Lx*tau)*e^(-i phi_t) = (1.0000000000001303+5.480615961062085e-13j)\n",
      "Iteration 25000 done, current acceptance ratio: 46.18 %\n",
      "Iteration 50000 done, current acceptance ratio: 46.39 %\n",
      "Iteration 75000 done, current acceptance ratio: 46.39 %\n",
      "Iteration 100000 done, current acceptance ratio: 46.4 %\n",
      "Iteration 125000 done, current acceptance ratio: 46.46 %\n",
      "Iteration 150000 done, current acceptance ratio: 46.52 %\n",
      "Iteration 175000 done, current acceptance ratio: 46.44 %\n",
      "Iteration 200000 done, current acceptance ratio: 46.49 %\n",
      "Iteration 225000 done, current acceptance ratio: 46.41 %\n",
      "Iteration 250000 done, current acceptance ratio: 46.47 %\n",
      "Iteration 275000 done, current acceptance ratio: 46.46 %\n",
      "Iteration 300000 done, current acceptance ratio: 46.47 %\n",
      "Iteration 325000 done, current acceptance ratio: 46.5 %\n",
      "Iteration 350000 done, current acceptance ratio: 46.51 %\n",
      "Iteration 375000 done, current acceptance ratio: 46.55 %\n",
      "Iteration 400000 done, current acceptance ratio: 46.51 %\n",
      "Iteration 425000 done, current acceptance ratio: 46.5 %\n",
      "Iteration 450000 done, current acceptance ratio: 46.5 %\n",
      "Iteration 475000 done, current acceptance ratio: 46.51 %\n",
      "Iteration 500000 done, current acceptance ratio: 46.5 %\n",
      "t = 0.1291543646475804j, step_size = 0.017250265393553378\n",
      "Torus dimensions \n",
      "Lx =  59.99999999999999 \n",
      "Ly =  7.749261878854823\n",
      "t(Lx)*e^(-i phi_1) = (1.0000000000001144+4.430344979766687e-13j)\n",
      "t(Lx*tau)*e^(-i phi_t) = (0.9999999999998057-9.87598891555308e-13j)\n",
      "Iteration 25000 done, current acceptance ratio: 45.02 %\n",
      "Iteration 50000 done, current acceptance ratio: 45.21 %\n",
      "Iteration 75000 done, current acceptance ratio: 45.43 %\n",
      "Iteration 100000 done, current acceptance ratio: 45.23 %\n",
      "Iteration 125000 done, current acceptance ratio: 45.17 %\n",
      "Iteration 150000 done, current acceptance ratio: 45.17 %\n",
      "Iteration 175000 done, current acceptance ratio: 45.24 %\n",
      "Iteration 200000 done, current acceptance ratio: 45.28 %\n",
      "Iteration 225000 done, current acceptance ratio: 45.26 %\n",
      "Iteration 250000 done, current acceptance ratio: 45.2 %\n",
      "Iteration 275000 done, current acceptance ratio: 45.23 %\n",
      "Iteration 300000 done, current acceptance ratio: 45.25 %\n",
      "Iteration 325000 done, current acceptance ratio: 45.24 %\n",
      "Iteration 350000 done, current acceptance ratio: 45.24 %\n",
      "Iteration 375000 done, current acceptance ratio: 45.23 %\n",
      "Iteration 400000 done, current acceptance ratio: 45.2 %\n",
      "Iteration 425000 done, current acceptance ratio: 45.26 %\n",
      "Iteration 450000 done, current acceptance ratio: 45.21 %\n",
      "Iteration 475000 done, current acceptance ratio: 45.17 %\n",
      "Iteration 500000 done, current acceptance ratio: 45.19 %\n",
      "t = 0.09488892096556927j, step_size = 0.014785941765902895\n",
      "Torus dimensions \n",
      "Lx =  70.0 \n",
      "Ly =  6.642224467589848\n",
      "t(Lx)*e^(-i phi_1) = (1.000000000000129-8.117291561138273e-14j)\n",
      "t(Lx*tau)*e^(-i phi_t) = (1.0000000000005103-5.991318552389657e-13j)\n",
      "Iteration 25000 done, current acceptance ratio: 44.97 %\n",
      "Iteration 50000 done, current acceptance ratio: 44.66 %\n",
      "Iteration 75000 done, current acceptance ratio: 44.46 %\n",
      "Iteration 100000 done, current acceptance ratio: 44.31 %\n",
      "Iteration 125000 done, current acceptance ratio: 44.46 %\n",
      "Iteration 150000 done, current acceptance ratio: 44.48 %\n",
      "Iteration 175000 done, current acceptance ratio: 44.45 %\n",
      "Iteration 200000 done, current acceptance ratio: 44.43 %\n",
      "Iteration 225000 done, current acceptance ratio: 44.43 %\n",
      "Iteration 250000 done, current acceptance ratio: 44.41 %\n",
      "Iteration 275000 done, current acceptance ratio: 44.47 %\n",
      "Iteration 300000 done, current acceptance ratio: 44.56 %\n",
      "Iteration 325000 done, current acceptance ratio: 44.59 %\n",
      "Iteration 350000 done, current acceptance ratio: 44.6 %\n",
      "Iteration 375000 done, current acceptance ratio: 44.53 %\n",
      "Iteration 400000 done, current acceptance ratio: 44.51 %\n",
      "Iteration 425000 done, current acceptance ratio: 44.49 %\n",
      "Iteration 450000 done, current acceptance ratio: 44.47 %\n",
      "Iteration 475000 done, current acceptance ratio: 44.48 %\n",
      "Iteration 500000 done, current acceptance ratio: 44.52 %\n",
      "t = 0.07264933011426397j, step_size = 0.012937699045165034\n",
      "Torus dimensions \n",
      "Lx =  80.0 \n",
      "Ly =  5.811946409141118\n",
      "t(Lx)*e^(-i phi_1) = (0.9999999999999987+1.6613932452003155e-12j)\n",
      "t(Lx*tau)*e^(-i phi_t) = (1.0000000000045774-8.18585477180278e-12j)\n",
      "Iteration 25000 done, current acceptance ratio: 44.35 %\n",
      "Iteration 50000 done, current acceptance ratio: 44.94 %\n",
      "Iteration 75000 done, current acceptance ratio: 44.86 %\n",
      "Iteration 100000 done, current acceptance ratio: 44.77 %\n",
      "Iteration 125000 done, current acceptance ratio: 44.79 %\n",
      "Iteration 150000 done, current acceptance ratio: 44.92 %\n",
      "Iteration 175000 done, current acceptance ratio: 44.95 %\n",
      "Iteration 200000 done, current acceptance ratio: 44.89 %\n",
      "Iteration 225000 done, current acceptance ratio: 44.93 %\n",
      "Iteration 250000 done, current acceptance ratio: 45.01 %\n",
      "Iteration 275000 done, current acceptance ratio: 45.07 %\n",
      "Iteration 300000 done, current acceptance ratio: 45.06 %\n",
      "Iteration 325000 done, current acceptance ratio: 45.09 %\n",
      "Iteration 350000 done, current acceptance ratio: 45.14 %\n",
      "Iteration 375000 done, current acceptance ratio: 45.08 %\n",
      "Iteration 400000 done, current acceptance ratio: 45.12 %\n",
      "Iteration 425000 done, current acceptance ratio: 45.11 %\n",
      "Iteration 450000 done, current acceptance ratio: 45.09 %\n",
      "Iteration 475000 done, current acceptance ratio: 45.12 %\n",
      "Iteration 500000 done, current acceptance ratio: 45.09 %\n",
      "t = 0.05740193984336906j, step_size = 0.011500176929035584\n",
      "Torus dimensions \n",
      "Lx =  90.0 \n",
      "Ly =  5.1661745859032155\n",
      "t(Lx)*e^(-i phi_1) = (0.9999999998514233+6.819333986385345e-11j)\n",
      "t(Lx*tau)*e^(-i phi_t) = (0.9999999996852234-1.118322101589797e-11j)\n",
      "Iteration 25000 done, current acceptance ratio: 45.51 %\n",
      "Iteration 50000 done, current acceptance ratio: 46.34 %\n",
      "Iteration 75000 done, current acceptance ratio: 46.17 %\n",
      "Iteration 100000 done, current acceptance ratio: 46.21 %\n",
      "Iteration 125000 done, current acceptance ratio: 46.08 %\n",
      "Iteration 150000 done, current acceptance ratio: 46.02 %\n",
      "Iteration 175000 done, current acceptance ratio: 46.06 %\n",
      "Iteration 200000 done, current acceptance ratio: 46.05 %\n",
      "Iteration 225000 done, current acceptance ratio: 46.07 %\n",
      "Iteration 250000 done, current acceptance ratio: 46.02 %\n",
      "Iteration 275000 done, current acceptance ratio: 45.99 %\n",
      "Iteration 300000 done, current acceptance ratio: 45.99 %\n",
      "Iteration 325000 done, current acceptance ratio: 45.97 %\n",
      "Iteration 350000 done, current acceptance ratio: 45.94 %\n",
      "Iteration 375000 done, current acceptance ratio: 45.89 %\n",
      "Iteration 400000 done, current acceptance ratio: 45.86 %\n",
      "Iteration 425000 done, current acceptance ratio: 45.88 %\n",
      "Iteration 450000 done, current acceptance ratio: 45.89 %\n",
      "Iteration 475000 done, current acceptance ratio: 45.89 %\n",
      "Iteration 500000 done, current acceptance ratio: 45.92 %\n"
     ]
    }
   ],
   "source": [
    "Ne = 37\n",
    "Ns = 74\n",
    "boundary = 0.5\n",
    "M = 500000\n",
    "step_const = 0.048\n",
    "\n",
    "Lxs = np.arange(10,91,10)\n",
    "Lys = 2*np.pi*Ns/Lxs\n",
    "rs = Lys/Lxs\n",
    "\n",
    "for r in rs:\n",
    "    t = np.complex128(1j*r)\n",
    "    step_size = step_const*np.sqrt(r)\n",
    "    print(f\"t = {t}, step_size = {step_size}\")\n",
    "    result, acceptance = RunSignSWAP(N=Ne, Ns=Ns, t=t, M=M, step_size=step_size,\n",
    "                                  boundary_dimensionless=boundary, state='free-fermions')\n",
    "    final = np.hstack((np.array([acceptance]), result))\n",
    "    #final = np.vstack((np.array([acceptance,0]), result))\n",
    "    np.save(f\"free_fermions_sign_Ne_{Ne}_Ns_{Ns}_t_{np.imag(t):.2f}_step_{step_size:.3f}.npy\", final)"
   ]
  },
  {
   "cell_type": "code",
   "execution_count": 5,
   "metadata": {},
   "outputs": [
    {
     "data": {
      "text/plain": [
       "10000"
      ]
     },
     "execution_count": 5,
     "metadata": {},
     "output_type": "execute_result"
    }
   ],
   "source": [
    "result.size"
   ]
  },
  {
   "cell_type": "code",
   "execution_count": 8,
   "metadata": {},
   "outputs": [
    {
     "data": {
      "text/plain": [
       "(9.686967939716203e-16, 6.977199328159922e-27)"
      ]
     },
     "execution_count": 8,
     "metadata": {},
     "output_type": "execute_result"
    }
   ],
   "source": [
    "Stats(np.imag(result[100:]))"
   ]
  },
  {
   "cell_type": "code",
   "execution_count": 4,
   "metadata": {},
   "outputs": [
    {
     "name": "stdout",
     "output_type": "stream",
     "text": [
      "t = 1j, step_size = 0.051\n",
      "Torus dimensions \n",
      "Lx =  19.41625912555699 \n",
      "Ly =  19.41625912555699\n",
      "t(Lx)*e^(-i phi_1) = (1.0000000000000524+7.335798635210722e-13j)\n",
      "t(Lx*tau)*e^(-i phi_t) = (1.0000000000002196+5.929701174522961e-13j)\n",
      "Iteration 2500 done, current acceptance ratio: 47.94 %\n",
      "Iteration 5000 done, current acceptance ratio: 49.05 %\n"
     ]
    },
    {
     "ename": "KeyboardInterrupt",
     "evalue": "",
     "output_type": "error",
     "traceback": [
      "\u001b[1;31m---------------------------------------------------------------------------\u001b[0m",
      "\u001b[1;31mKeyboardInterrupt\u001b[0m                         Traceback (most recent call last)",
      "\u001b[1;32md:\\fizica\\phd\\MonteCarlo\\MonteCarlo\\workbook.ipynb Cell 2\u001b[0m line \u001b[0;36m1\n\u001b[0;32m      <a href='vscode-notebook-cell:/d%3A/fizica/phd/MonteCarlo/MonteCarlo/workbook.ipynb#W1sZmlsZQ%3D%3D?line=8'>9</a>\u001b[0m step_size \u001b[39m=\u001b[39m step_const\u001b[39m*\u001b[39mnp\u001b[39m.\u001b[39msqrt(r)\n\u001b[0;32m     <a href='vscode-notebook-cell:/d%3A/fizica/phd/MonteCarlo/MonteCarlo/workbook.ipynb#W1sZmlsZQ%3D%3D?line=9'>10</a>\u001b[0m \u001b[39mprint\u001b[39m(\u001b[39mf\u001b[39m\u001b[39m\"\u001b[39m\u001b[39mt = \u001b[39m\u001b[39m{\u001b[39;00mt\u001b[39m}\u001b[39;00m\u001b[39m, step_size = \u001b[39m\u001b[39m{\u001b[39;00mstep_size\u001b[39m}\u001b[39;00m\u001b[39m\"\u001b[39m)\n\u001b[1;32m---> <a href='vscode-notebook-cell:/d%3A/fizica/phd/MonteCarlo/MonteCarlo/workbook.ipynb#W1sZmlsZQ%3D%3D?line=10'>11</a>\u001b[0m result, acceptance \u001b[39m=\u001b[39m RunSignSWAP(N\u001b[39m=\u001b[39;49mNe, Ns\u001b[39m=\u001b[39;49mNs, t\u001b[39m=\u001b[39;49mt, M\u001b[39m=\u001b[39;49mM, step_size\u001b[39m=\u001b[39;49mstep_size, boundary_dimensionless\u001b[39m=\u001b[39;49mboundary)\n\u001b[0;32m     <a href='vscode-notebook-cell:/d%3A/fizica/phd/MonteCarlo/MonteCarlo/workbook.ipynb#W1sZmlsZQ%3D%3D?line=11'>12</a>\u001b[0m final \u001b[39m=\u001b[39m np\u001b[39m.\u001b[39mvstack((np\u001b[39m.\u001b[39marray([acceptance,\u001b[39m0\u001b[39m]), result))\n\u001b[0;32m     <a href='vscode-notebook-cell:/d%3A/fizica/phd/MonteCarlo/MonteCarlo/workbook.ipynb#W1sZmlsZQ%3D%3D?line=12'>13</a>\u001b[0m \u001b[39m#np.save(f\"p_swap_Ne_{Ne}_Ns_{Ns}_t_{np.imag(t):.2f}_step_{step_size:.3f}.npy\", final)\u001b[39;00m\n",
      "File \u001b[1;32md:\\fizica\\phd\\MonteCarlo\\MonteCarlo\\MonteCarloSWAPTorus.py:935\u001b[0m, in \u001b[0;36mRunSignSWAP\u001b[1;34m(N, Ns, t, M, step_size, boundary_dimensionless, kCM, phi_1, phi_t)\u001b[0m\n\u001b[0;32m    921\u001b[0m p_swap_order \u001b[39m=\u001b[39m np\u001b[39m.\u001b[39marray([swap_order_f[p[\u001b[39m0\u001b[39m], \u001b[39m0\u001b[39m], swap_order_f[p[\u001b[39m1\u001b[39m], \u001b[39m1\u001b[39m]])\n\u001b[0;32m    923\u001b[0m \u001b[39m\u001b[39m\u001b[39m\"\"\"\u001b[39;00m\n\u001b[0;32m    924\u001b[0m \u001b[39mr = 1\u001b[39;00m\n\u001b[0;32m    925\u001b[0m \u001b[39mfor j in prange(3):\u001b[39;00m\n\u001b[1;32m   (...)\u001b[0m\n\u001b[0;32m    930\u001b[0m \u001b[39m        r *= RatioStepOne(Ns, t, R_i[:, j], R_f[:, j], p[j])\u001b[39;00m\n\u001b[0;32m    931\u001b[0m \u001b[39m\"\"\"\u001b[39;00m\n\u001b[0;32m    933\u001b[0m r \u001b[39m=\u001b[39m (np\u001b[39m.\u001b[39mconj(RatioStepOneSWAP(Ns, t, swap_R_i, swap_R_f, p_swap_order)) \u001b[39m*\u001b[39m\n\u001b[0;32m    934\u001b[0m      RatioStepOne(Ns, t, R_i[:, \u001b[39m0\u001b[39m], R_f[:, \u001b[39m0\u001b[39m], p[\u001b[39m0\u001b[39m]) \u001b[39m*\u001b[39m\n\u001b[1;32m--> 935\u001b[0m      RatioStepOne(Ns, t, R_i[:, \u001b[39m1\u001b[39;49m], R_f[:, \u001b[39m1\u001b[39;49m], p[\u001b[39m1\u001b[39;49m]))\n\u001b[0;32m    937\u001b[0m \u001b[39mif\u001b[39;00m np\u001b[39m.\u001b[39mabs(r) \u001b[39m>\u001b[39m np\u001b[39m.\u001b[39mrandom\u001b[39m.\u001b[39mrandom():\n\u001b[0;32m    938\u001b[0m     accept_bit \u001b[39m=\u001b[39m \u001b[39m1\u001b[39m\n",
      "\u001b[1;31mKeyboardInterrupt\u001b[0m: "
     ]
    }
   ],
   "source": [
    "Ne = 20\n",
    "Ns = 60\n",
    "boundary = 0.5\n",
    "M = 50000\n",
    "step_const = 0.051\n",
    "\n",
    "for r in np.linspace(1, 1, 1, endpoint=True):\n",
    "    t = np.complex128(1j*r)\n",
    "    step_size = step_const*np.sqrt(r)\n",
    "    print(f\"t = {t}, step_size = {step_size}\")\n",
    "    result, acceptance = RunSignSWAP(N=Ne, Ns=Ns, t=t, M=M, step_size=step_size, boundary_dimensionless=boundary)\n",
    "    final = np.vstack((np.array([acceptance,0]), result))\n",
    "    #np.save(f\"p_swap_Ne_{Ne}_Ns_{Ns}_t_{np.imag(t):.2f}_step_{step_size:.3f}.npy\", final)"
   ]
  },
  {
   "cell_type": "code",
   "execution_count": 32,
   "metadata": {},
   "outputs": [],
   "source": [
    "result = np.load(\"mod_swap_Ne_20_Ns_60_t_1.00_step_0.051.npy\")"
   ]
  },
  {
   "cell_type": "code",
   "execution_count": 33,
   "metadata": {},
   "outputs": [
    {
     "data": {
      "text/plain": [
       "(0.4945600000000007+0j)"
      ]
     },
     "execution_count": 33,
     "metadata": {},
     "output_type": "execute_result"
    }
   ],
   "source": [
    "result[0]"
   ]
  },
  {
   "cell_type": "code",
   "execution_count": 29,
   "metadata": {},
   "outputs": [
    {
     "name": "stdout",
     "output_type": "stream",
     "text": [
      "0.09103474883062757 0.09656731914805998\n"
     ]
    }
   ],
   "source": [
    "mean, var = Stats(np.real(result[25000:]))\n",
    "print(mean, var)"
   ]
  },
  {
   "cell_type": "code",
   "execution_count": 11,
   "metadata": {},
   "outputs": [
    {
     "name": "stdout",
     "output_type": "stream",
     "text": [
      "n_A = 3.0\n",
      "Sample acceptance: 51.82711999999272\n",
      "n_A = 4.0\n",
      "Sample acceptance: 51.86338000000041\n",
      "n_A = 5.0\n",
      "Sample acceptance: 51.81570000000835\n",
      "n_A = 6.0\n",
      "Sample acceptance: 51.82552000000336\n",
      "n_A = 7.0\n",
      "Sample acceptance: 51.865519999997424\n",
      "n_A = 8.0\n",
      "Sample acceptance: 51.84830000000268\n",
      "n_A = 9.0\n",
      "Sample acceptance: 51.799580000001534\n",
      "n_A = 10.0\n",
      "Sample acceptance: 51.84727999999761\n",
      "n_A = 11.0\n",
      "Sample acceptance: 51.81658000000694\n",
      "n_A = 12.0\n",
      "Sample acceptance: 51.855680000003126\n"
     ]
    }
   ],
   "source": [
    "for i in range(n):\n",
    "    print(f\"n_A = {i+(N+1-n)/2}\")\n",
    "    data = np.load(f\"p_sector_N_{N}_t_{t:.2f}_step_{step:.3f}_i_{i}.npy\")\n",
    "    print(f\"Sample acceptance: {data[0]*100}\")\n",
    "    check = (data[1:] == i+(N+1-n)/2)\n",
    "    means[i],vars[i] = Stats(check[M0:])"
   ]
  },
  {
   "cell_type": "code",
   "execution_count": 49,
   "metadata": {},
   "outputs": [],
   "source": [
    "N = 15\n",
    "M0 = int(5e5)\n",
    "M = 5e6\n",
    "t = 1\n",
    "steps = np.arange(0.12,0.21,0.02)\n",
    "acc = np.zeros(steps.size)\n",
    "means = np.zeros(steps.size)\n",
    "vars = np.zeros(steps.size)"
   ]
  },
  {
   "cell_type": "code",
   "execution_count": 17,
   "metadata": {},
   "outputs": [
    {
     "name": "stdout",
     "output_type": "stream",
     "text": [
      "Step size: 0.12\n",
      "Copy 1/2 acceptance: 61.15642000000099, 61.09083999999875\n",
      "Avg acceptance: 61.12362999999987\n",
      "Step size: 0.16\n",
      "Copy 1/2 acceptance: 51.86338000000041, 51.81570000000835\n",
      "Avg acceptance: 51.83954000000438\n",
      "Step size: 0.2\n",
      "Copy 1/2 acceptance: 44.91776000000001, 44.51735999999993\n",
      "Avg acceptance: 44.71755999999997\n"
     ]
    }
   ],
   "source": [
    "for i in range(steps.size):\n",
    "    print(f\"Step size: {steps[i]}\")\n",
    "    data0 = np.load(f\"p_sector_N_{N}_t_{t:.2f}_step_{steps[i]:.3f}_i_1.npy\")\n",
    "    data1 = np.load(f\"p_sector_N_{N}_t_{t:.2f}_step_{steps[i]:.3f}_i_2.npy\")\n",
    "    print(f\"Copy 1/2 acceptance: {data0[0]*100}, {data1[0]*100}\")\n",
    "    print(f\"Avg acceptance: {(data0[0]*100 + data1[0]*100)/2}\")\n",
    "    acc[i] = (data0[0]*100 + data1[0]*100)/2\n",
    "    check = (data0[1:] == data1[1:])\n",
    "    means[i],vars[i] = Stats(check[M0:])"
   ]
  },
  {
   "cell_type": "code",
   "execution_count": 15,
   "metadata": {},
   "outputs": [
    {
     "name": "stdout",
     "output_type": "stream",
     "text": [
      "[0.25301267 0.25430667 0.263084  ]\n",
      "[0.00020494 0.00020528 0.00020756]\n"
     ]
    }
   ],
   "source": [
    "print(means)\n",
    "print(np.sqrt(vars/(M-M0)))"
   ]
  },
  {
   "cell_type": "code",
   "execution_count": 18,
   "metadata": {},
   "outputs": [
    {
     "name": "stdout",
     "output_type": "stream",
     "text": [
      "[0.25247822 0.25179511 0.26471311]\n",
      "[0.00020479 0.00020461 0.00020797]\n"
     ]
    }
   ],
   "source": [
    "print(means)\n",
    "print(np.sqrt(vars/(M-M0)))"
   ]
  },
  {
   "cell_type": "code",
   "execution_count": 20,
   "metadata": {},
   "outputs": [
    {
     "data": {
      "text/plain": [
       "Text(0.5, 1.0, '$P_{\\\\mathrm{SWAP}}$ using single-copy MC')"
      ]
     },
     "execution_count": 20,
     "metadata": {},
     "output_type": "execute_result"
    },
    {
     "data": {
      "image/png": "[encoded data removed]",
      "text/plain": [
       "<Figure size 640x480 with 1 Axes>"
      ]
     },
     "metadata": {},
     "output_type": "display_data"
    }
   ],
   "source": [
    "plt.errorbar(acc,means,np.sqrt(vars/(M-M0)))\n",
    "plt.xlabel(\"Acceptance ratio\")\n",
    "plt.ylabel(\"$P_{\\\\mathrm{SWAP}}$\")\n",
    "plt.title(\"$P_{\\\\mathrm{SWAP}}$ using single-copy MC\")"
   ]
  },
  {
   "cell_type": "code",
   "execution_count": 11,
   "metadata": {},
   "outputs": [
    {
     "data": {
      "text/plain": [
       "Text(0.5, 1.0, '$P_{\\\\mathrm{SWAP}}$ using single-copy MC')"
      ]
     },
     "execution_count": 11,
     "metadata": {},
     "output_type": "execute_result"
    },
    {
     "data": {
      "image/png": "[encoded data removed]",
      "text/plain": [
       "<Figure size 640x480 with 1 Axes>"
      ]
     },
     "metadata": {},
     "output_type": "display_data"
    }
   ],
   "source": [
    "plt.errorbar(acc[:-1],means[:-1],np.sqrt(vars[:-1]/(M-M0)))\n",
    "plt.xlabel(\"Acceptance ratio\")\n",
    "plt.ylabel(\"$P_{\\\\mathrm{SWAP}}$\")\n",
    "plt.title(\"$P_{\\\\mathrm{SWAP}}$ using single-copy MC\")"
   ]
  },
  {
   "cell_type": "code",
   "execution_count": 13,
   "metadata": {},
   "outputs": [
    {
     "data": {
      "text/plain": [
       "Text(0.5, 1.0, '$- \\\\ln (P_{\\\\mathrm{SWAP}})$ using single-copy MC')"
      ]
     },
     "execution_count": 13,
     "metadata": {},
     "output_type": "execute_result"
    },
    {
     "data": {
      "image/png": "[encoded data removed]",
      "text/plain": [
       "<Figure size 640x480 with 1 Axes>"
      ]
     },
     "metadata": {},
     "output_type": "display_data"
    }
   ],
   "source": [
    "plt.errorbar(acc[:-1],-np.log(means[:-1]),np.sqrt(vars[:-1]/(means[:-1]**2))/np.sqrt(M-M0))\n",
    "plt.xlabel(\"Acceptance ratio\")\n",
    "plt.ylabel(\"$-\\\\ln (P_{\\\\mathrm{SWAP}})$\")\n",
    "plt.title(\"$- \\\\ln (P_{\\\\mathrm{SWAP}})$ using single-copy MC\")"
   ]
  },
  {
   "cell_type": "code",
   "execution_count": 3,
   "metadata": {},
   "outputs": [],
   "source": [
    "x_th = np.arange(0,16,0.1)\n",
    "y_th = 2*0.15884297*x_th"
   ]
  },
  {
   "cell_type": "code",
   "execution_count": 10,
   "metadata": {},
   "outputs": [],
   "source": [
    "N = 15\n",
    "Ns = 15\n",
    "M0 = int(2e4)\n",
    "M = 1e5"
   ]
  },
  {
   "cell_type": "code",
   "execution_count": 21,
   "metadata": {},
   "outputs": [
    {
     "data": {
      "text/plain": [
       "array([[30.05, 30.36, 30.65],\n",
       "       [31.07, 31.39, 31.41],\n",
       "       [30.69, 30.75, 31.22]])"
      ]
     },
     "execution_count": 21,
     "metadata": {},
     "output_type": "execute_result"
    }
   ],
   "source": [
    "acc_30"
   ]
  },
  {
   "cell_type": "code",
   "execution_count": 17,
   "metadata": {},
   "outputs": [],
   "source": [
    "rs= np.linspace(0.8, 1.2, 3, endpoint=True)\n",
    "Lxs = np.sqrt(2*np.pi*Ns/rs)\n",
    "Lys = Lxs*rs\n",
    "acc_30 = np.array([[30.05,30.36,30.65],[31.07,31.39,31.41],[30.69,30.75,31.22]])\n",
    "acc_50 = np.array([[50.11,50.14,50.32],[49.25,50.42,50.45],[49.46,49.59,49.88]])\n",
    "acc_70 = np.array([[70.44,70.84,70.85],[69.64,69.81,70.03],[70.23,70.42,70.55]])\n",
    "\n",
    "p_means_30 = np.zeros((rs.size,3))\n",
    "p_vars_30 = np.zeros((rs.size,3))\n",
    "p_means_50 = np.zeros((rs.size,3))\n",
    "p_vars_50 = np.zeros((rs.size,3))\n",
    "p_means_70 = np.zeros((rs.size,3))\n",
    "p_vars_70 = np.zeros((rs.size,3))\n",
    "for i in range(rs.size):\n",
    "    for j in range(3):\n",
    "        p = np.real(np.loadtxt(f\"p_N_{N}_r_{rs[i]:.2f}_acc_{acc_30[i,j]}.dat\", dtype=complex))\n",
    "        p = p[M0:]\n",
    "        p_means_30[i,j], p_vars_30[i,j] = Stats(p)\n",
    "\n",
    "        p = np.real(np.loadtxt(f\"p_N_{N}_r_{rs[i]:.2f}_acc_{acc_50[i,j]}.dat\", dtype=complex))\n",
    "        p = p[M0:]\n",
    "        p_means_50[i,j], p_vars_50[i,j] = Stats(p)\n",
    "\n",
    "        p = np.real(np.loadtxt(f\"p_N_{N}_r_{rs[i]:.2f}_acc_{acc_70[i,j]}.dat\", dtype=complex))\n",
    "        p = p[M0:]\n",
    "        p_means_70[i,j], p_vars_70[i,j] = Stats(p)"
   ]
  },
  {
   "cell_type": "code",
   "execution_count": 20,
   "metadata": {},
   "outputs": [
    {
     "data": {
      "image/png": "[encoded data removed]",
      "text/plain": [
       "<Figure size 640x480 with 1 Axes>"
      ]
     },
     "metadata": {},
     "output_type": "display_data"
    }
   ],
   "source": [
    "for i in range(3):\n",
    "    plt.errorbar(Lxs, -np.log(p_means_30[:,i]), np.sqrt(p_vars_30[:,i]/(M-M0)), color='blue')\n",
    "    plt.errorbar(Lxs, -np.log(p_means_50[:,i]), np.sqrt(p_vars_50[:,i]/(M-M0)), color='green')\n",
    "    plt.errorbar(Lxs, -np.log(p_means_70[:,i]), np.sqrt(p_vars_70[:,i]/(M-M0)), color='red')"
   ]
  },
  {
   "cell_type": "code",
   "execution_count": null,
   "metadata": {},
   "outputs": [],
   "source": [
    "rs= np.linspace(0.8, 1.2, 3, endpoint=True)\n",
    "Lxs = np.sqrt(2*np.pi*Ns/rs)\n",
    "Lys = Lxs*rs\n",
    "\n",
    "acc_30 = np.array([[30.05,30.36,30.65],[31.07,31.39,31.41],[30.69,30.75,31.22]])\n",
    "mod_acc = [41.34, 41.06, 41.54]\n",
    "\n",
    "p_means = np.zeros(rs.size)\n",
    "p_vars= np.zeros(rs.size)\n",
    "mod_means = np.zeros(rs.size)\n",
    "mod_vars = np.zeros(rs.size)\n",
    "\n",
    "for i in range(rs.size):\n",
    "    print(f\"t = {rs[i]}j:\")\n",
    "    p = np.real(np.loadtxt(f\"IQHE_entropy_results/N_{N}/MC/p_N_{N}_r_{rs[i]:.2f}_acc_{p[i]}.dat\", dtype=complex))\n",
    "    p = p[M0:]\n",
    "    p_means[i], p_vars[i] = Stats(p)\n",
    "    print(f\"p = {p_means[i]} +- {np.sqrt(p_vars[i]/p.size)}\")\n",
    "    \n",
    "    mod = np.real(np.loadtxt(f\"IQHE_entropy_results/N_{N}/MC/mod_N_{N}_r_{rs[i]:.2f}_acc_{mod[i]}.dat\", dtype=complex))\n",
    "        #mod = np.loadtxt(f\"IQHE_entropy_results/N_{N}/MC/mod_N_{N}_r_{rs[i]:.2f}_acc_49.41.dat\")\n",
    "    mod = mod[M0:]\n",
    "    mod_means[i], mod_vars[i] = Stats(mod)\n",
    "    print(f\"mod = {mod_means [i]} +- {np.sqrt(mod_vars[i]/mod.size)}\")\n",
    "  \n",
    "    \"\"\"\n",
    "    sign = np.real(np.loadtxt(f\"IQHE_entropy_results/N_{N}/MC/sign_N_{N}_r_{rs[i]:.2f}_acc_49.69.dat\", dtype=complex))\n",
    "    imag = np.imag(sign[M0:])\n",
    "    mean_imag, std_imag = Stats(imag)\n",
    "    #sign = sign[M0:]\n",
    "    sign = np.real(sign[M0:])\n",
    "    sign_means[i], sign_vars[i] = Stats(sign)\n",
    "    print(f\"sign = {sign_means[i]} +- {np.sqrt(sign_vars[i]/sign.size)}\")\n",
    "    print(f\"Im(sign) = {mean_imag} +- {std_imag/np.sqrt(imag.size)} \\n\")\n",
    "    \"\"\""
   ]
  }
 ],
 "metadata": {
  "kernelspec": {
   "display_name": "base",
   "language": "python",
   "name": "python3"
  },
  "language_info": {
   "codemirror_mode": {
    "name": "ipython",
    "version": 3
   },
   "file_extension": ".py",
   "mimetype": "text/x-python",
   "name": "python",
   "nbconvert_exporter": "python",
   "pygments_lexer": "ipython3",
   "version": "3.10.12"
  },
  "orig_nbformat": 4
 },
 "nbformat": 4,
 "nbformat_minor": 2
}
