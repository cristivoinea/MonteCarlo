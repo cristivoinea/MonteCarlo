{
 "cells": [
  {
   "cell_type": "code",
   "execution_count": 1,
   "metadata": {},
   "outputs": [],
   "source": [
    "import numpy as np\n",
    "import matplotlib.pyplot as plt\n",
    "from MonteCarloTorus import ThetaFunction\n",
    "from FQHEWaveFunctions import LLLSymmetricGauge, LLLSymmetricGaugeGrid\n",
    "from scipy.integrate import dblquad"
   ]
  },
  {
   "cell_type": "code",
   "execution_count": 2,
   "metadata": {},
   "outputs": [
    {
     "name": "stdout",
     "output_type": "stream",
     "text": [
      "Torus dimensions at t = 0.7j \n",
      "Lx =  13.398491713813575 \n",
      "Ly =  9.378944199669503\n",
      "Torus dimensions at t = 0.7999999999999999j \n",
      "Lx =  12.533141373155003 \n",
      "Ly =  10.026513098524001\n",
      "Torus dimensions at t = 0.8999999999999999j \n",
      "Lx =  11.816359006036773 \n",
      "Ly =  10.634723105433094\n",
      "Torus dimensions at t = 0.9999999999999999j \n",
      "Lx =  11.209982432795858 \n",
      "Ly =  11.209982432795856\n",
      "Torus dimensions at t = 1.0999999999999999j \n",
      "Lx =  10.688298875771142 \n",
      "Ly =  11.757128763348256\n",
      "Torus dimensions at t = 1.1999999999999997j \n",
      "Lx =  10.233267079464886 \n",
      "Ly =  12.27992049535786\n",
      "Torus dimensions at t = 1.2999999999999998j \n",
      "Lx =  9.831804988974529 \n",
      "Ly =  12.781346485666885\n"
     ]
    }
   ],
   "source": [
    "N = 20\n",
    "Ns = N\n",
    "ts = 1j*np.arange(0.7,1.3,0.1)\n",
    "Lxs = np.sqrt(2*np.pi*Ns/np.imag(ts))\n",
    "Lys = Lxs*np.imag(ts)\n",
    "\n",
    "for i in range(ts.size):\n",
    "    print(f\"Torus dimensions at t = {ts[i]} \\nLx = \",Lxs[i], \"\\nLy = \",Lys[i])"
   ]
  },
  {
   "cell_type": "code",
   "execution_count": 51,
   "metadata": {},
   "outputs": [
    {
     "name": "stdout",
     "output_type": "stream",
     "text": [
      "Calculating norm of state 0..\n",
      "Calculating norm of state 1..\n",
      "Calculating norm of state 2..\n",
      "Calculating norm of state 3..\n",
      "Calculating norm of state 4..\n",
      "Calculating norm of state 5..\n",
      "Calculating norm of state 6..\n",
      "Calculating norm of state 7..\n",
      "Calculating norm of state 8..\n",
      "Calculating norm of state 9..\n",
      "Calculating norm of state 10..\n",
      "Calculating norm of state 11..\n",
      "Calculating norm of state 12..\n",
      "Calculating norm of state 13..\n",
      "Calculating norm of state 14..\n",
      "Calculating norm of state 15..\n",
      "Calculating norm of state 16..\n",
      "Calculating norm of state 17..\n",
      "Calculating norm of state 18..\n",
      "Calculating norm of state 19..\n",
      "Calculating norm of state 0..\n",
      "Calculating norm of state 1..\n",
      "Calculating norm of state 2..\n",
      "Calculating norm of state 3..\n",
      "Calculating norm of state 4..\n",
      "Calculating norm of state 5..\n",
      "Calculating norm of state 6..\n",
      "Calculating norm of state 7..\n",
      "Calculating norm of state 8..\n",
      "Calculating norm of state 9..\n",
      "Calculating norm of state 10..\n",
      "Calculating norm of state 11..\n",
      "Calculating norm of state 12..\n",
      "Calculating norm of state 13..\n",
      "Calculating norm of state 14..\n",
      "Calculating norm of state 15..\n",
      "Calculating norm of state 16..\n",
      "Calculating norm of state 17..\n",
      "Calculating norm of state 18..\n",
      "Calculating norm of state 19..\n",
      "Calculating norm of state 0..\n",
      "Calculating norm of state 1..\n",
      "Calculating norm of state 2..\n",
      "Calculating norm of state 3..\n",
      "Calculating norm of state 4..\n",
      "Calculating norm of state 5..\n",
      "Calculating norm of state 6..\n",
      "Calculating norm of state 7..\n",
      "Calculating norm of state 8..\n",
      "Calculating norm of state 9..\n",
      "Calculating norm of state 10..\n",
      "Calculating norm of state 11..\n"
     ]
    }
   ],
   "source": [
    "#get normalisation constants:\n",
    "for k in range(ts.size):\n",
    "    overlaps = np.zeros(Ns, dtype=np.complex128)\n",
    "    errors = np.zeros(Ns, dtype=np.complex128)\n",
    "    for i in range(Ns):\n",
    "        print(f\"Calculating norm of state {i}..\")\n",
    "        re, re_err = dblquad(inner_product_real, -Lxs[k]/2, Lxs[k]/2, -Lys[k]/2, Lys[k]/2, args=(i,i,Ns,ts[k]))\n",
    "        overlaps[i] = re\n",
    "        errors[i] = re_err\n",
    "    np.savetxt(f\"sq_norm_N_{Ns}_r_{np.imag(ts[k]):.3f}.dat\",np.vstack((overlaps,errors)).T)"
   ]
  },
  {
   "cell_type": "code",
   "execution_count": 11,
   "metadata": {},
   "outputs": [],
   "source": [
    "def inner_product_real(y,x,n,m,Ns,t):\n",
    "    return np.real(LLLSymmetricGauge(x+1j*y,Ns,t,m)*np.conj(LLLSymmetricGauge(x+1j*y,Ns,t,n)))\n",
    "def inner_product_imag(y,x,n,m,Ns,t):\n",
    "    return np.imag(LLLSymmetricGauge(x+1j*y,Ns,t,m)*np.conj(LLLSymmetricGauge(x+1j*y,Ns,t,n)))"
   ]
  },
  {
   "cell_type": "code",
   "execution_count": 26,
   "metadata": {},
   "outputs": [
    {
     "name": "stdout",
     "output_type": "stream",
     "text": [
      "Torus dimensions \n",
      "Lx =  7.926654595212022 \n",
      "Ly =  7.926654595212022\n"
     ]
    }
   ],
   "source": [
    "N = 10\n",
    "Ns = N\n",
    "t = np.complex128(1j)\n",
    "Lx = np.sqrt(2*np.pi*Ns/np.imag(t))\n",
    "Ly = Lx*np.imag(t)\n",
    "\n",
    "print(\"Torus dimensions \\nLx = \",Lx, \"\\nLy = \",Ly)"
   ]
  },
  {
   "cell_type": "code",
   "execution_count": 29,
   "metadata": {},
   "outputs": [
    {
     "name": "stdout",
     "output_type": "stream",
     "text": [
      "Calculating norm of state 0..\n",
      "Calculating norm of state 1..\n",
      "Calculating norm of state 2..\n",
      "Calculating norm of state 3..\n",
      "Calculating norm of state 4..\n",
      "Calculating norm of state 5..\n",
      "Calculating norm of state 6..\n",
      "Calculating norm of state 7..\n",
      "Calculating norm of state 8..\n",
      "Calculating norm of state 9..\n"
     ]
    }
   ],
   "source": [
    "#get normalisation constants:\n",
    "norms = np.zeros(Ns, dtype=np.complex128)\n",
    "for i in range(Ns):\n",
    "    print(f\"Calculating norm of state {i}..\")\n",
    "    re, re_err = dblquad(inner_product_real, -Lx/2, Lx/2, -Ly/2, Ly/2, args=(i,i,Ns,t))\n",
    "    im, im_err = dblquad(inner_product_imag, -Lx/2, Lx/2, -Ly/2, Ly/2, args=(i,i,Ns,t))\n",
    "    norms[i] = re + 1j*im\n",
    "\n",
    "if np.any(np.abs(np.imag(norms))>1e-12):\n",
    "    print('error in norms')\n",
    "else:\n",
    "    norms = np.sqrt(np.real(norms))"
   ]
  },
  {
   "cell_type": "code",
   "execution_count": 7,
   "metadata": {},
   "outputs": [
    {
     "name": "stderr",
     "output_type": "stream",
     "text": [
      "C:\\Users\\crist\\AppData\\Local\\Temp\\ipykernel_8816\\883987713.py:4: ComplexWarning: Casting complex values to real discards the imaginary part\n",
      "  norms[k,:] = np.sqrt(data[:,0])\n"
     ]
    }
   ],
   "source": [
    "norms = np.zeros((ts.size,Ns))\n",
    "for k in range(ts.size):\n",
    "    data = np.loadtxt(f\"sq_norm_N_{Ns}_r_{np.imag(ts[k]):.3f}.dat\", dtype=np.complex128)\n",
    "    norms[k,:] = np.sqrt(data[:,0])"
   ]
  },
  {
   "cell_type": "code",
   "execution_count": 14,
   "metadata": {},
   "outputs": [
    {
     "name": "stdout",
     "output_type": "stream",
     "text": [
      "Calculating norm of state (0, 0)..\n",
      "Calculating norm of state (1, 1)..\n",
      "Calculating norm of state (2, 2)..\n",
      "Calculating norm of state (3, 3)..\n",
      "Calculating norm of state (4, 4)..\n",
      "Calculating norm of state (5, 5)..\n",
      "Calculating norm of state (6, 6)..\n",
      "Calculating norm of state (7, 7)..\n",
      "Calculating norm of state (8, 8)..\n",
      "Calculating norm of state (9, 9)..\n",
      "Calculating norm of state (10, 10)..\n",
      "Calculating norm of state (11, 11)..\n",
      "Calculating norm of state (12, 12)..\n",
      "Calculating norm of state (13, 13)..\n",
      "Calculating norm of state (14, 14)..\n",
      "Calculating norm of state (15, 15)..\n",
      "Calculating norm of state (16, 16)..\n",
      "Calculating norm of state (17, 17)..\n",
      "Calculating norm of state (18, 18)..\n",
      "Calculating norm of state (19, 19)..\n",
      "Calculating norm of state (0, 0)..\n",
      "Calculating norm of state (1, 1)..\n",
      "Calculating norm of state (2, 2)..\n",
      "Calculating norm of state (3, 3)..\n",
      "Calculating norm of state (4, 4)..\n",
      "Calculating norm of state (5, 5)..\n",
      "Calculating norm of state (6, 6)..\n",
      "Calculating norm of state (7, 7)..\n",
      "Calculating norm of state (8, 8)..\n",
      "Calculating norm of state (9, 9)..\n",
      "Calculating norm of state (10, 10)..\n",
      "Calculating norm of state (11, 11)..\n",
      "Calculating norm of state (12, 12)..\n",
      "Calculating norm of state (13, 13)..\n",
      "Calculating norm of state (14, 14)..\n",
      "Calculating norm of state (15, 15)..\n",
      "Calculating norm of state (16, 16)..\n",
      "Calculating norm of state (17, 17)..\n",
      "Calculating norm of state (18, 18)..\n",
      "Calculating norm of state (19, 19)..\n",
      "Calculating norm of state (0, 0)..\n",
      "Calculating norm of state (1, 1)..\n",
      "Calculating norm of state (2, 2)..\n",
      "Calculating norm of state (3, 3)..\n",
      "Calculating norm of state (4, 4)..\n",
      "Calculating norm of state (5, 5)..\n",
      "Calculating norm of state (6, 6)..\n",
      "Calculating norm of state (7, 7)..\n",
      "Calculating norm of state (8, 8)..\n",
      "Calculating norm of state (9, 9)..\n",
      "Calculating norm of state (10, 10)..\n",
      "Calculating norm of state (11, 11)..\n",
      "Calculating norm of state (12, 12)..\n",
      "Calculating norm of state (13, 13)..\n",
      "Calculating norm of state (14, 14)..\n",
      "Calculating norm of state (15, 15)..\n",
      "Calculating norm of state (16, 16)..\n",
      "Calculating norm of state (17, 17)..\n",
      "Calculating norm of state (18, 18)..\n",
      "Calculating norm of state (19, 19)..\n",
      "Calculating norm of state (0, 0)..\n",
      "Calculating norm of state (1, 1)..\n",
      "Calculating norm of state (2, 2)..\n",
      "Calculating norm of state (3, 3)..\n",
      "Calculating norm of state (4, 4)..\n",
      "Calculating norm of state (5, 5)..\n",
      "Calculating norm of state (6, 6)..\n",
      "Calculating norm of state (7, 7)..\n",
      "Calculating norm of state (8, 8)..\n",
      "Calculating norm of state (9, 9)..\n",
      "Calculating norm of state (10, 10)..\n",
      "Calculating norm of state (11, 11)..\n",
      "Calculating norm of state (12, 12)..\n",
      "Calculating norm of state (13, 13)..\n",
      "Calculating norm of state (14, 14)..\n",
      "Calculating norm of state (15, 15)..\n",
      "Calculating norm of state (16, 16)..\n",
      "Calculating norm of state (17, 17)..\n",
      "Calculating norm of state (18, 18)..\n",
      "Calculating norm of state (19, 19)..\n",
      "Calculating norm of state (0, 0)..\n",
      "Calculating norm of state (1, 1)..\n",
      "Calculating norm of state (2, 2)..\n",
      "Calculating norm of state (3, 3)..\n",
      "Calculating norm of state (4, 4)..\n",
      "Calculating norm of state (5, 5)..\n",
      "Calculating norm of state (6, 6)..\n",
      "Calculating norm of state (7, 7)..\n",
      "Calculating norm of state (8, 8)..\n",
      "Calculating norm of state (9, 9)..\n",
      "Calculating norm of state (10, 10)..\n",
      "Calculating norm of state (11, 11)..\n",
      "Calculating norm of state (12, 12)..\n",
      "Calculating norm of state (13, 13)..\n",
      "Calculating norm of state (14, 14)..\n",
      "Calculating norm of state (15, 15)..\n",
      "Calculating norm of state (16, 16)..\n",
      "Calculating norm of state (17, 17)..\n",
      "Calculating norm of state (18, 18)..\n",
      "Calculating norm of state (19, 19)..\n",
      "Calculating norm of state (0, 0)..\n",
      "Calculating norm of state (1, 1)..\n",
      "Calculating norm of state (2, 2)..\n",
      "Calculating norm of state (3, 3)..\n",
      "Calculating norm of state (4, 4)..\n",
      "Calculating norm of state (5, 5)..\n",
      "Calculating norm of state (6, 6)..\n",
      "Calculating norm of state (7, 7)..\n",
      "Calculating norm of state (8, 8)..\n",
      "Calculating norm of state (9, 9)..\n",
      "Calculating norm of state (10, 10)..\n",
      "Calculating norm of state (11, 11)..\n",
      "Calculating norm of state (12, 12)..\n",
      "Calculating norm of state (13, 13)..\n",
      "Calculating norm of state (14, 14)..\n",
      "Calculating norm of state (15, 15)..\n",
      "Calculating norm of state (16, 16)..\n",
      "Calculating norm of state (17, 17)..\n",
      "Calculating norm of state (18, 18)..\n",
      "Calculating norm of state (19, 19)..\n",
      "Calculating norm of state (0, 0)..\n",
      "Calculating norm of state (1, 1)..\n",
      "Calculating norm of state (2, 2)..\n",
      "Calculating norm of state (3, 3)..\n",
      "Calculating norm of state (4, 4)..\n",
      "Calculating norm of state (5, 5)..\n",
      "Calculating norm of state (6, 6)..\n",
      "Calculating norm of state (7, 7)..\n",
      "Calculating norm of state (8, 8)..\n",
      "Calculating norm of state (9, 9)..\n",
      "Calculating norm of state (10, 10)..\n",
      "Calculating norm of state (11, 11)..\n",
      "Calculating norm of state (12, 12)..\n",
      "Calculating norm of state (13, 13)..\n",
      "Calculating norm of state (14, 14)..\n",
      "Calculating norm of state (15, 15)..\n",
      "Calculating norm of state (16, 16)..\n",
      "Calculating norm of state (17, 17)..\n",
      "Calculating norm of state (18, 18)..\n",
      "Calculating norm of state (19, 19)..\n"
     ]
    }
   ],
   "source": [
    "for k in range(ts.size):\n",
    "    M = np.zeros(Ns, dtype=np.complex128)\n",
    "    real_errors = np.zeros(Ns, dtype=np.complex128)\n",
    "    imag_errors = np.zeros(Ns, dtype=np.complex128)\n",
    "    for i in range(Ns):\n",
    "        print(f\"Calculating norm of state {i,i}..\")\n",
    "        re, re_err = dblquad(inner_product_real, -Lxs[k]/2, Lxs[k]/2, -Lys[k]/2, 0, args=(i,i,Ns,ts[k]))\n",
    "        im, im_err = dblquad(inner_product_imag, -Lxs[k]/2, Lxs[k]/2, -Lys[k]/2, 0, args=(i,i,Ns,ts[k]))\n",
    "        M[i] = (re+1j*im)/(norms[k,i]**2)\n",
    "        real_errors[i] = re_err/(norms[k,i]**2)\n",
    "        imag_errors[i] = im_err/(norms[k,i]**2)\n",
    "    np.savetxt(f\"overlap_diag_N_{Ns}_r_{np.imag(ts[k]):.3f}.dat\",np.vstack((M,real_errors,imag_errors)).T)"
   ]
  },
  {
   "cell_type": "code",
   "execution_count": 5,
   "metadata": {},
   "outputs": [
    {
     "name": "stderr",
     "output_type": "stream",
     "text": [
      "C:\\Users\\crist\\AppData\\Local\\Temp\\ipykernel_12840\\1857372457.py:4: ComplexWarning: Casting complex values to real discards the imaginary part\n",
      "  S[k] = -np.sum(np.log(M**2 + (1-M)**2))\n"
     ]
    }
   ],
   "source": [
    "S = np.zeros(ts.size)\n",
    "for k in range(ts.size):\n",
    "    M = np.loadtxt(f\"IQHE_entropy_results/overlap_diag_N_20_r_{np.imag(ts[k]):.3f}.dat\", dtype=np.complex128)[0,:]\n",
    "    S[k] = -np.sum(np.log(M**2 + (1-M)**2))"
   ]
  },
  {
   "cell_type": "code",
   "execution_count": 3,
   "metadata": {},
   "outputs": [],
   "source": [
    "S = np.zeros(ts.size)\n",
    "for k in range(ts.size):\n",
    "    M = np.real(np.loadtxt(f\"IQHE_entropy_results/overlap_diag_N_20_r_{np.imag(ts[k]):.3f}.dat\", dtype=np.complex128)[0,:])\n",
    "    S[k] = -np.sum(M*np.log(M) + (1-M)*np.log(1-M))"
   ]
  },
  {
   "cell_type": "code",
   "execution_count": 6,
   "metadata": {},
   "outputs": [
    {
     "data": {
      "text/plain": [
       "[<matplotlib.lines.Line2D at 0x1fa5c2630d0>]"
      ]
     },
     "execution_count": 6,
     "metadata": {},
     "output_type": "execute_result"
    },
    {
     "data": {
      "image/png": "[encoded data removed]",
      "text/plain": [
       "<Figure size 640x480 with 1 Axes>"
      ]
     },
     "metadata": {},
     "output_type": "display_data"
    }
   ],
   "source": [
    "x = np.arange(0,16,0.1)\n",
    "y = 2*0.20329081*x\n",
    "\n",
    "plt.scatter(Lxs, S, color='orange')\n",
    "plt.plot(x,y)"
   ]
  },
  {
   "cell_type": "code",
   "execution_count": 12,
   "metadata": {},
   "outputs": [
    {
     "name": "stdout",
     "output_type": "stream",
     "text": [
      "Calculating norm of state (0, 0)..\n",
      "Calculating norm of state (0, 1)..\n"
     ]
    },
    {
     "name": "stderr",
     "output_type": "stream",
     "text": [
      "c:\\Users\\crist\\anaconda3\\lib\\site-packages\\scipy\\integrate\\_quadpack_py.py:1151: IntegrationWarning: The integral is probably divergent, or slowly convergent.\n",
      "  quad_r = quad(f, low, high, args=args, full_output=self.full_output,\n",
      "c:\\Users\\crist\\anaconda3\\lib\\site-packages\\scipy\\integrate\\_quadpack_py.py:1151: IntegrationWarning: The occurrence of roundoff error is detected, which prevents \n",
      "  the requested tolerance from being achieved.  The error may be \n",
      "  underestimated.\n",
      "  quad_r = quad(f, low, high, args=args, full_output=self.full_output,\n"
     ]
    },
    {
     "name": "stdout",
     "output_type": "stream",
     "text": [
      "Calculating norm of state (0, 2)..\n",
      "Calculating norm of state (0, 3)..\n"
     ]
    },
    {
     "ename": "KeyboardInterrupt",
     "evalue": "",
     "output_type": "error",
     "traceback": [
      "\u001b[1;31m---------------------------------------------------------------------------\u001b[0m",
      "\u001b[1;31mKeyboardInterrupt\u001b[0m                         Traceback (most recent call last)",
      "\u001b[1;32m~\\AppData\\Local\\Temp\\ipykernel_8816\\3310055013.py\u001b[0m in \u001b[0;36m<module>\u001b[1;34m\u001b[0m\n\u001b[0;32m      6\u001b[0m         \u001b[1;32mfor\u001b[0m \u001b[0mj\u001b[0m \u001b[1;32min\u001b[0m \u001b[0mrange\u001b[0m\u001b[1;33m(\u001b[0m\u001b[0mNs\u001b[0m\u001b[1;33m)\u001b[0m\u001b[1;33m:\u001b[0m\u001b[1;33m\u001b[0m\u001b[1;33m\u001b[0m\u001b[0m\n\u001b[0;32m      7\u001b[0m             \u001b[0mprint\u001b[0m\u001b[1;33m(\u001b[0m\u001b[1;34mf\"Calculating norm of state {i,j}..\"\u001b[0m\u001b[1;33m)\u001b[0m\u001b[1;33m\u001b[0m\u001b[1;33m\u001b[0m\u001b[0m\n\u001b[1;32m----> 8\u001b[1;33m             \u001b[0mre\u001b[0m\u001b[1;33m,\u001b[0m \u001b[0mre_err\u001b[0m \u001b[1;33m=\u001b[0m \u001b[0mdblquad\u001b[0m\u001b[1;33m(\u001b[0m\u001b[0minner_product_real\u001b[0m\u001b[1;33m,\u001b[0m \u001b[1;33m-\u001b[0m\u001b[0mLxs\u001b[0m\u001b[1;33m[\u001b[0m\u001b[0mk\u001b[0m\u001b[1;33m]\u001b[0m\u001b[1;33m/\u001b[0m\u001b[1;36m2\u001b[0m\u001b[1;33m,\u001b[0m \u001b[0mLxs\u001b[0m\u001b[1;33m[\u001b[0m\u001b[0mk\u001b[0m\u001b[1;33m]\u001b[0m\u001b[1;33m/\u001b[0m\u001b[1;36m2\u001b[0m\u001b[1;33m,\u001b[0m \u001b[1;33m-\u001b[0m\u001b[0mLys\u001b[0m\u001b[1;33m[\u001b[0m\u001b[0mk\u001b[0m\u001b[1;33m]\u001b[0m\u001b[1;33m/\u001b[0m\u001b[1;36m2\u001b[0m\u001b[1;33m,\u001b[0m \u001b[1;36m0\u001b[0m\u001b[1;33m,\u001b[0m \u001b[0margs\u001b[0m\u001b[1;33m=\u001b[0m\u001b[1;33m(\u001b[0m\u001b[0mi\u001b[0m\u001b[1;33m,\u001b[0m\u001b[0mj\u001b[0m\u001b[1;33m,\u001b[0m\u001b[0mNs\u001b[0m\u001b[1;33m,\u001b[0m\u001b[0mts\u001b[0m\u001b[1;33m[\u001b[0m\u001b[0mk\u001b[0m\u001b[1;33m]\u001b[0m\u001b[1;33m)\u001b[0m\u001b[1;33m)\u001b[0m\u001b[1;33m\u001b[0m\u001b[1;33m\u001b[0m\u001b[0m\n\u001b[0m\u001b[0;32m      9\u001b[0m             \u001b[0mim\u001b[0m\u001b[1;33m,\u001b[0m \u001b[0mim_err\u001b[0m \u001b[1;33m=\u001b[0m \u001b[0mdblquad\u001b[0m\u001b[1;33m(\u001b[0m\u001b[0minner_product_imag\u001b[0m\u001b[1;33m,\u001b[0m \u001b[1;33m-\u001b[0m\u001b[0mLxs\u001b[0m\u001b[1;33m[\u001b[0m\u001b[0mk\u001b[0m\u001b[1;33m]\u001b[0m\u001b[1;33m/\u001b[0m\u001b[1;36m2\u001b[0m\u001b[1;33m,\u001b[0m \u001b[0mLxs\u001b[0m\u001b[1;33m[\u001b[0m\u001b[0mk\u001b[0m\u001b[1;33m]\u001b[0m\u001b[1;33m/\u001b[0m\u001b[1;36m2\u001b[0m\u001b[1;33m,\u001b[0m \u001b[1;33m-\u001b[0m\u001b[0mLys\u001b[0m\u001b[1;33m[\u001b[0m\u001b[0mk\u001b[0m\u001b[1;33m]\u001b[0m\u001b[1;33m/\u001b[0m\u001b[1;36m2\u001b[0m\u001b[1;33m,\u001b[0m \u001b[1;36m0\u001b[0m\u001b[1;33m,\u001b[0m \u001b[0margs\u001b[0m\u001b[1;33m=\u001b[0m\u001b[1;33m(\u001b[0m\u001b[0mi\u001b[0m\u001b[1;33m,\u001b[0m\u001b[0mj\u001b[0m\u001b[1;33m,\u001b[0m\u001b[0mNs\u001b[0m\u001b[1;33m,\u001b[0m\u001b[0mts\u001b[0m\u001b[1;33m[\u001b[0m\u001b[0mk\u001b[0m\u001b[1;33m]\u001b[0m\u001b[1;33m)\u001b[0m\u001b[1;33m)\u001b[0m\u001b[1;33m\u001b[0m\u001b[1;33m\u001b[0m\u001b[0m\n\u001b[0;32m     10\u001b[0m             \u001b[0mM\u001b[0m\u001b[1;33m[\u001b[0m\u001b[0mi\u001b[0m\u001b[1;33m,\u001b[0m\u001b[0mj\u001b[0m\u001b[1;33m]\u001b[0m \u001b[1;33m=\u001b[0m \u001b[1;33m(\u001b[0m\u001b[0mre\u001b[0m\u001b[1;33m+\u001b[0m\u001b[1;36m1j\u001b[0m\u001b[1;33m*\u001b[0m\u001b[0mim\u001b[0m\u001b[1;33m)\u001b[0m\u001b[1;33m/\u001b[0m\u001b[1;33m(\u001b[0m\u001b[0mnorms\u001b[0m\u001b[1;33m[\u001b[0m\u001b[0mk\u001b[0m\u001b[1;33m,\u001b[0m\u001b[0mi\u001b[0m\u001b[1;33m]\u001b[0m\u001b[1;33m*\u001b[0m\u001b[0mnorms\u001b[0m\u001b[1;33m[\u001b[0m\u001b[0mk\u001b[0m\u001b[1;33m,\u001b[0m\u001b[0mj\u001b[0m\u001b[1;33m]\u001b[0m\u001b[1;33m)\u001b[0m\u001b[1;33m\u001b[0m\u001b[1;33m\u001b[0m\u001b[0m\n",
      "\u001b[1;32mc:\\Users\\crist\\anaconda3\\lib\\site-packages\\scipy\\integrate\\_quadpack_py.py\u001b[0m in \u001b[0;36mdblquad\u001b[1;34m(func, a, b, gfun, hfun, args, epsabs, epsrel)\u001b[0m\n\u001b[0;32m    707\u001b[0m                 hfun(args[0]) if callable(hfun) else hfun]\n\u001b[0;32m    708\u001b[0m \u001b[1;33m\u001b[0m\u001b[0m\n\u001b[1;32m--> 709\u001b[1;33m     return nquad(func, [temp_ranges, [a, b]], args=args,\n\u001b[0m\u001b[0;32m    710\u001b[0m             opts={\"epsabs\": epsabs, \"epsrel\": epsrel})\n\u001b[0;32m    711\u001b[0m \u001b[1;33m\u001b[0m\u001b[0m\n",
      "\u001b[1;32mc:\\Users\\crist\\anaconda3\\lib\\site-packages\\scipy\\integrate\\_quadpack_py.py\u001b[0m in \u001b[0;36mnquad\u001b[1;34m(func, ranges, args, opts, full_output)\u001b[0m\n\u001b[0;32m   1095\u001b[0m     \u001b[1;32melse\u001b[0m\u001b[1;33m:\u001b[0m\u001b[1;33m\u001b[0m\u001b[1;33m\u001b[0m\u001b[0m\n\u001b[0;32m   1096\u001b[0m         \u001b[0mopts\u001b[0m \u001b[1;33m=\u001b[0m \u001b[1;33m[\u001b[0m\u001b[0mopt\u001b[0m \u001b[1;32mif\u001b[0m \u001b[0mcallable\u001b[0m\u001b[1;33m(\u001b[0m\u001b[0mopt\u001b[0m\u001b[1;33m)\u001b[0m \u001b[1;32melse\u001b[0m \u001b[0m_OptFunc\u001b[0m\u001b[1;33m(\u001b[0m\u001b[0mopt\u001b[0m\u001b[1;33m)\u001b[0m \u001b[1;32mfor\u001b[0m \u001b[0mopt\u001b[0m \u001b[1;32min\u001b[0m \u001b[0mopts\u001b[0m\u001b[1;33m]\u001b[0m\u001b[1;33m\u001b[0m\u001b[1;33m\u001b[0m\u001b[0m\n\u001b[1;32m-> 1097\u001b[1;33m     \u001b[1;32mreturn\u001b[0m \u001b[0m_NQuad\u001b[0m\u001b[1;33m(\u001b[0m\u001b[0mfunc\u001b[0m\u001b[1;33m,\u001b[0m \u001b[0mranges\u001b[0m\u001b[1;33m,\u001b[0m \u001b[0mopts\u001b[0m\u001b[1;33m,\u001b[0m \u001b[0mfull_output\u001b[0m\u001b[1;33m)\u001b[0m\u001b[1;33m.\u001b[0m\u001b[0mintegrate\u001b[0m\u001b[1;33m(\u001b[0m\u001b[1;33m*\u001b[0m\u001b[0margs\u001b[0m\u001b[1;33m)\u001b[0m\u001b[1;33m\u001b[0m\u001b[1;33m\u001b[0m\u001b[0m\n\u001b[0m\u001b[0;32m   1098\u001b[0m \u001b[1;33m\u001b[0m\u001b[0m\n\u001b[0;32m   1099\u001b[0m \u001b[1;33m\u001b[0m\u001b[0m\n",
      "\u001b[1;32mc:\\Users\\crist\\anaconda3\\lib\\site-packages\\scipy\\integrate\\_quadpack_py.py\u001b[0m in \u001b[0;36mintegrate\u001b[1;34m(self, *args, **kwargs)\u001b[0m\n\u001b[0;32m   1149\u001b[0m         \u001b[1;32melse\u001b[0m\u001b[1;33m:\u001b[0m\u001b[1;33m\u001b[0m\u001b[1;33m\u001b[0m\u001b[0m\n\u001b[0;32m   1150\u001b[0m             \u001b[0mf\u001b[0m \u001b[1;33m=\u001b[0m \u001b[0mpartial\u001b[0m\u001b[1;33m(\u001b[0m\u001b[0mself\u001b[0m\u001b[1;33m.\u001b[0m\u001b[0mintegrate\u001b[0m\u001b[1;33m,\u001b[0m \u001b[0mdepth\u001b[0m\u001b[1;33m=\u001b[0m\u001b[0mdepth\u001b[0m\u001b[1;33m+\u001b[0m\u001b[1;36m1\u001b[0m\u001b[1;33m)\u001b[0m\u001b[1;33m\u001b[0m\u001b[1;33m\u001b[0m\u001b[0m\n\u001b[1;32m-> 1151\u001b[1;33m         quad_r = quad(f, low, high, args=args, full_output=self.full_output,\n\u001b[0m\u001b[0;32m   1152\u001b[0m                       **opt)\n\u001b[0;32m   1153\u001b[0m         \u001b[0mvalue\u001b[0m \u001b[1;33m=\u001b[0m \u001b[0mquad_r\u001b[0m\u001b[1;33m[\u001b[0m\u001b[1;36m0\u001b[0m\u001b[1;33m]\u001b[0m\u001b[1;33m\u001b[0m\u001b[1;33m\u001b[0m\u001b[0m\n",
      "\u001b[1;32mc:\\Users\\crist\\anaconda3\\lib\\site-packages\\scipy\\integrate\\_quadpack_py.py\u001b[0m in \u001b[0;36mquad\u001b[1;34m(func, a, b, args, full_output, epsabs, epsrel, limit, points, weight, wvar, wopts, maxp1, limlst)\u001b[0m\n\u001b[0;32m    409\u001b[0m \u001b[1;33m\u001b[0m\u001b[0m\n\u001b[0;32m    410\u001b[0m     \u001b[1;32mif\u001b[0m \u001b[0mweight\u001b[0m \u001b[1;32mis\u001b[0m \u001b[1;32mNone\u001b[0m\u001b[1;33m:\u001b[0m\u001b[1;33m\u001b[0m\u001b[1;33m\u001b[0m\u001b[0m\n\u001b[1;32m--> 411\u001b[1;33m         retval = _quad(func, a, b, args, full_output, epsabs, epsrel, limit,\n\u001b[0m\u001b[0;32m    412\u001b[0m                        points)\n\u001b[0;32m    413\u001b[0m     \u001b[1;32melse\u001b[0m\u001b[1;33m:\u001b[0m\u001b[1;33m\u001b[0m\u001b[1;33m\u001b[0m\u001b[0m\n",
      "\u001b[1;32mc:\\Users\\crist\\anaconda3\\lib\\site-packages\\scipy\\integrate\\_quadpack_py.py\u001b[0m in \u001b[0;36m_quad\u001b[1;34m(func, a, b, args, full_output, epsabs, epsrel, limit, points)\u001b[0m\n\u001b[0;32m    521\u001b[0m     \u001b[1;32mif\u001b[0m \u001b[0mpoints\u001b[0m \u001b[1;32mis\u001b[0m \u001b[1;32mNone\u001b[0m\u001b[1;33m:\u001b[0m\u001b[1;33m\u001b[0m\u001b[1;33m\u001b[0m\u001b[0m\n\u001b[0;32m    522\u001b[0m         \u001b[1;32mif\u001b[0m \u001b[0minfbounds\u001b[0m \u001b[1;33m==\u001b[0m \u001b[1;36m0\u001b[0m\u001b[1;33m:\u001b[0m\u001b[1;33m\u001b[0m\u001b[1;33m\u001b[0m\u001b[0m\n\u001b[1;32m--> 523\u001b[1;33m             \u001b[1;32mreturn\u001b[0m \u001b[0m_quadpack\u001b[0m\u001b[1;33m.\u001b[0m\u001b[0m_qagse\u001b[0m\u001b[1;33m(\u001b[0m\u001b[0mfunc\u001b[0m\u001b[1;33m,\u001b[0m\u001b[0ma\u001b[0m\u001b[1;33m,\u001b[0m\u001b[0mb\u001b[0m\u001b[1;33m,\u001b[0m\u001b[0margs\u001b[0m\u001b[1;33m,\u001b[0m\u001b[0mfull_output\u001b[0m\u001b[1;33m,\u001b[0m\u001b[0mepsabs\u001b[0m\u001b[1;33m,\u001b[0m\u001b[0mepsrel\u001b[0m\u001b[1;33m,\u001b[0m\u001b[0mlimit\u001b[0m\u001b[1;33m)\u001b[0m\u001b[1;33m\u001b[0m\u001b[1;33m\u001b[0m\u001b[0m\n\u001b[0m\u001b[0;32m    524\u001b[0m         \u001b[1;32melse\u001b[0m\u001b[1;33m:\u001b[0m\u001b[1;33m\u001b[0m\u001b[1;33m\u001b[0m\u001b[0m\n\u001b[0;32m    525\u001b[0m             \u001b[1;32mreturn\u001b[0m \u001b[0m_quadpack\u001b[0m\u001b[1;33m.\u001b[0m\u001b[0m_qagie\u001b[0m\u001b[1;33m(\u001b[0m\u001b[0mfunc\u001b[0m\u001b[1;33m,\u001b[0m\u001b[0mbound\u001b[0m\u001b[1;33m,\u001b[0m\u001b[0minfbounds\u001b[0m\u001b[1;33m,\u001b[0m\u001b[0margs\u001b[0m\u001b[1;33m,\u001b[0m\u001b[0mfull_output\u001b[0m\u001b[1;33m,\u001b[0m\u001b[0mepsabs\u001b[0m\u001b[1;33m,\u001b[0m\u001b[0mepsrel\u001b[0m\u001b[1;33m,\u001b[0m\u001b[0mlimit\u001b[0m\u001b[1;33m)\u001b[0m\u001b[1;33m\u001b[0m\u001b[1;33m\u001b[0m\u001b[0m\n",
      "\u001b[1;32mc:\\Users\\crist\\anaconda3\\lib\\site-packages\\scipy\\integrate\\_quadpack_py.py\u001b[0m in \u001b[0;36mintegrate\u001b[1;34m(self, *args, **kwargs)\u001b[0m\n\u001b[0;32m   1149\u001b[0m         \u001b[1;32melse\u001b[0m\u001b[1;33m:\u001b[0m\u001b[1;33m\u001b[0m\u001b[1;33m\u001b[0m\u001b[0m\n\u001b[0;32m   1150\u001b[0m             \u001b[0mf\u001b[0m \u001b[1;33m=\u001b[0m \u001b[0mpartial\u001b[0m\u001b[1;33m(\u001b[0m\u001b[0mself\u001b[0m\u001b[1;33m.\u001b[0m\u001b[0mintegrate\u001b[0m\u001b[1;33m,\u001b[0m \u001b[0mdepth\u001b[0m\u001b[1;33m=\u001b[0m\u001b[0mdepth\u001b[0m\u001b[1;33m+\u001b[0m\u001b[1;36m1\u001b[0m\u001b[1;33m)\u001b[0m\u001b[1;33m\u001b[0m\u001b[1;33m\u001b[0m\u001b[0m\n\u001b[1;32m-> 1151\u001b[1;33m         quad_r = quad(f, low, high, args=args, full_output=self.full_output,\n\u001b[0m\u001b[0;32m   1152\u001b[0m                       **opt)\n\u001b[0;32m   1153\u001b[0m         \u001b[0mvalue\u001b[0m \u001b[1;33m=\u001b[0m \u001b[0mquad_r\u001b[0m\u001b[1;33m[\u001b[0m\u001b[1;36m0\u001b[0m\u001b[1;33m]\u001b[0m\u001b[1;33m\u001b[0m\u001b[1;33m\u001b[0m\u001b[0m\n",
      "\u001b[1;32mc:\\Users\\crist\\anaconda3\\lib\\site-packages\\scipy\\integrate\\_quadpack_py.py\u001b[0m in \u001b[0;36mquad\u001b[1;34m(func, a, b, args, full_output, epsabs, epsrel, limit, points, weight, wvar, wopts, maxp1, limlst)\u001b[0m\n\u001b[0;32m    409\u001b[0m \u001b[1;33m\u001b[0m\u001b[0m\n\u001b[0;32m    410\u001b[0m     \u001b[1;32mif\u001b[0m \u001b[0mweight\u001b[0m \u001b[1;32mis\u001b[0m \u001b[1;32mNone\u001b[0m\u001b[1;33m:\u001b[0m\u001b[1;33m\u001b[0m\u001b[1;33m\u001b[0m\u001b[0m\n\u001b[1;32m--> 411\u001b[1;33m         retval = _quad(func, a, b, args, full_output, epsabs, epsrel, limit,\n\u001b[0m\u001b[0;32m    412\u001b[0m                        points)\n\u001b[0;32m    413\u001b[0m     \u001b[1;32melse\u001b[0m\u001b[1;33m:\u001b[0m\u001b[1;33m\u001b[0m\u001b[1;33m\u001b[0m\u001b[0m\n",
      "\u001b[1;32mc:\\Users\\crist\\anaconda3\\lib\\site-packages\\scipy\\integrate\\_quadpack_py.py\u001b[0m in \u001b[0;36m_quad\u001b[1;34m(func, a, b, args, full_output, epsabs, epsrel, limit, points)\u001b[0m\n\u001b[0;32m    521\u001b[0m     \u001b[1;32mif\u001b[0m \u001b[0mpoints\u001b[0m \u001b[1;32mis\u001b[0m \u001b[1;32mNone\u001b[0m\u001b[1;33m:\u001b[0m\u001b[1;33m\u001b[0m\u001b[1;33m\u001b[0m\u001b[0m\n\u001b[0;32m    522\u001b[0m         \u001b[1;32mif\u001b[0m \u001b[0minfbounds\u001b[0m \u001b[1;33m==\u001b[0m \u001b[1;36m0\u001b[0m\u001b[1;33m:\u001b[0m\u001b[1;33m\u001b[0m\u001b[1;33m\u001b[0m\u001b[0m\n\u001b[1;32m--> 523\u001b[1;33m             \u001b[1;32mreturn\u001b[0m \u001b[0m_quadpack\u001b[0m\u001b[1;33m.\u001b[0m\u001b[0m_qagse\u001b[0m\u001b[1;33m(\u001b[0m\u001b[0mfunc\u001b[0m\u001b[1;33m,\u001b[0m\u001b[0ma\u001b[0m\u001b[1;33m,\u001b[0m\u001b[0mb\u001b[0m\u001b[1;33m,\u001b[0m\u001b[0margs\u001b[0m\u001b[1;33m,\u001b[0m\u001b[0mfull_output\u001b[0m\u001b[1;33m,\u001b[0m\u001b[0mepsabs\u001b[0m\u001b[1;33m,\u001b[0m\u001b[0mepsrel\u001b[0m\u001b[1;33m,\u001b[0m\u001b[0mlimit\u001b[0m\u001b[1;33m)\u001b[0m\u001b[1;33m\u001b[0m\u001b[1;33m\u001b[0m\u001b[0m\n\u001b[0m\u001b[0;32m    524\u001b[0m         \u001b[1;32melse\u001b[0m\u001b[1;33m:\u001b[0m\u001b[1;33m\u001b[0m\u001b[1;33m\u001b[0m\u001b[0m\n\u001b[0;32m    525\u001b[0m             \u001b[1;32mreturn\u001b[0m \u001b[0m_quadpack\u001b[0m\u001b[1;33m.\u001b[0m\u001b[0m_qagie\u001b[0m\u001b[1;33m(\u001b[0m\u001b[0mfunc\u001b[0m\u001b[1;33m,\u001b[0m\u001b[0mbound\u001b[0m\u001b[1;33m,\u001b[0m\u001b[0minfbounds\u001b[0m\u001b[1;33m,\u001b[0m\u001b[0margs\u001b[0m\u001b[1;33m,\u001b[0m\u001b[0mfull_output\u001b[0m\u001b[1;33m,\u001b[0m\u001b[0mepsabs\u001b[0m\u001b[1;33m,\u001b[0m\u001b[0mepsrel\u001b[0m\u001b[1;33m,\u001b[0m\u001b[0mlimit\u001b[0m\u001b[1;33m)\u001b[0m\u001b[1;33m\u001b[0m\u001b[1;33m\u001b[0m\u001b[0m\n",
      "\u001b[1;32m~\\AppData\\Local\\Temp\\ipykernel_8816\\3178482135.py\u001b[0m in \u001b[0;36minner_product_real\u001b[1;34m(y, x, n, m, Ns, t)\u001b[0m\n\u001b[0;32m      1\u001b[0m \u001b[1;32mdef\u001b[0m \u001b[0minner_product_real\u001b[0m\u001b[1;33m(\u001b[0m\u001b[0my\u001b[0m\u001b[1;33m,\u001b[0m\u001b[0mx\u001b[0m\u001b[1;33m,\u001b[0m\u001b[0mn\u001b[0m\u001b[1;33m,\u001b[0m\u001b[0mm\u001b[0m\u001b[1;33m,\u001b[0m\u001b[0mNs\u001b[0m\u001b[1;33m,\u001b[0m\u001b[0mt\u001b[0m\u001b[1;33m)\u001b[0m\u001b[1;33m:\u001b[0m\u001b[1;33m\u001b[0m\u001b[1;33m\u001b[0m\u001b[0m\n\u001b[1;32m----> 2\u001b[1;33m     \u001b[1;32mreturn\u001b[0m \u001b[0mnp\u001b[0m\u001b[1;33m.\u001b[0m\u001b[0mreal\u001b[0m\u001b[1;33m(\u001b[0m\u001b[0mLLLSymmetricGauge\u001b[0m\u001b[1;33m(\u001b[0m\u001b[0mx\u001b[0m\u001b[1;33m+\u001b[0m\u001b[1;36m1j\u001b[0m\u001b[1;33m*\u001b[0m\u001b[0my\u001b[0m\u001b[1;33m,\u001b[0m\u001b[0mNs\u001b[0m\u001b[1;33m,\u001b[0m\u001b[0mt\u001b[0m\u001b[1;33m,\u001b[0m\u001b[0mm\u001b[0m\u001b[1;33m)\u001b[0m\u001b[1;33m*\u001b[0m\u001b[0mnp\u001b[0m\u001b[1;33m.\u001b[0m\u001b[0mconj\u001b[0m\u001b[1;33m(\u001b[0m\u001b[0mLLLSymmetricGauge\u001b[0m\u001b[1;33m(\u001b[0m\u001b[0mx\u001b[0m\u001b[1;33m+\u001b[0m\u001b[1;36m1j\u001b[0m\u001b[1;33m*\u001b[0m\u001b[0my\u001b[0m\u001b[1;33m,\u001b[0m\u001b[0mNs\u001b[0m\u001b[1;33m,\u001b[0m\u001b[0mt\u001b[0m\u001b[1;33m,\u001b[0m\u001b[0mn\u001b[0m\u001b[1;33m)\u001b[0m\u001b[1;33m)\u001b[0m\u001b[1;33m)\u001b[0m\u001b[1;33m\u001b[0m\u001b[1;33m\u001b[0m\u001b[0m\n\u001b[0m\u001b[0;32m      3\u001b[0m \u001b[1;32mdef\u001b[0m \u001b[0minner_product_imag\u001b[0m\u001b[1;33m(\u001b[0m\u001b[0my\u001b[0m\u001b[1;33m,\u001b[0m\u001b[0mx\u001b[0m\u001b[1;33m,\u001b[0m\u001b[0mn\u001b[0m\u001b[1;33m,\u001b[0m\u001b[0mm\u001b[0m\u001b[1;33m,\u001b[0m\u001b[0mNs\u001b[0m\u001b[1;33m,\u001b[0m\u001b[0mt\u001b[0m\u001b[1;33m)\u001b[0m\u001b[1;33m:\u001b[0m\u001b[1;33m\u001b[0m\u001b[1;33m\u001b[0m\u001b[0m\n\u001b[0;32m      4\u001b[0m     \u001b[1;32mreturn\u001b[0m \u001b[0mnp\u001b[0m\u001b[1;33m.\u001b[0m\u001b[0mimag\u001b[0m\u001b[1;33m(\u001b[0m\u001b[0mLLLSymmetricGauge\u001b[0m\u001b[1;33m(\u001b[0m\u001b[0mx\u001b[0m\u001b[1;33m+\u001b[0m\u001b[1;36m1j\u001b[0m\u001b[1;33m*\u001b[0m\u001b[0my\u001b[0m\u001b[1;33m,\u001b[0m\u001b[0mNs\u001b[0m\u001b[1;33m,\u001b[0m\u001b[0mt\u001b[0m\u001b[1;33m,\u001b[0m\u001b[0mm\u001b[0m\u001b[1;33m)\u001b[0m\u001b[1;33m*\u001b[0m\u001b[0mnp\u001b[0m\u001b[1;33m.\u001b[0m\u001b[0mconj\u001b[0m\u001b[1;33m(\u001b[0m\u001b[0mLLLSymmetricGauge\u001b[0m\u001b[1;33m(\u001b[0m\u001b[0mx\u001b[0m\u001b[1;33m+\u001b[0m\u001b[1;36m1j\u001b[0m\u001b[1;33m*\u001b[0m\u001b[0my\u001b[0m\u001b[1;33m,\u001b[0m\u001b[0mNs\u001b[0m\u001b[1;33m,\u001b[0m\u001b[0mt\u001b[0m\u001b[1;33m,\u001b[0m\u001b[0mn\u001b[0m\u001b[1;33m)\u001b[0m\u001b[1;33m)\u001b[0m\u001b[1;33m)\u001b[0m\u001b[1;33m\u001b[0m\u001b[1;33m\u001b[0m\u001b[0m\n",
      "\u001b[1;31mKeyboardInterrupt\u001b[0m: "
     ]
    }
   ],
   "source": [
    "for k in range(ts.size):\n",
    "    M = np.zeros((Ns,Ns), dtype=np.complex128)\n",
    "    real_errors = np.zeros((Ns,Ns), dtype=np.complex128)\n",
    "    imag_errors = np.zeros((Ns,Ns), dtype=np.complex128)\n",
    "    for i in range(Ns):\n",
    "        for j in range(Ns):\n",
    "            print(f\"Calculating norm of state {i,j}..\")\n",
    "            re, re_err = dblquad(inner_product_real, -Lxs[k]/2, Lxs[k]/2, -Lys[k]/2, 0, args=(i,j,Ns,ts[k]))\n",
    "            im, im_err = dblquad(inner_product_imag, -Lxs[k]/2, Lxs[k]/2, -Lys[k]/2, 0, args=(i,j,Ns,ts[k]))\n",
    "            M[i,j] = (re+1j*im)/(norms[k,i]*norms[k,j])\n",
    "            real_errors[i,j] = re_err/(norms[k,i]*norms[k,j])\n",
    "            imag_errors[i,j] = im_err/(norms[k,i]*norms[k,j])\n",
    "    np.savetxt(f\"overlap_matrix_N_{Ns}_r_{np.imag(ts[k]):.3f}.dat\",M)\n",
    "    np.savetxt(f\"real_errors_N_{Ns}_r_{np.imag(ts[k]):.3f}.dat\",real_errors)\n",
    "    np.savetxt(f\"imag_errors_N_{Ns}_r_{np.imag(ts[k]):.3f}.dat\",imag_errors)"
   ]
  },
  {
   "cell_type": "code",
   "execution_count": null,
   "metadata": {},
   "outputs": [],
   "source": [
    "#get overlap matrix for region A: y in [-Ly/2, 0] (cut length Lx)\n",
    "M = np.zeros((Ns,Ns), dtype=np.complex128)\n",
    "\n",
    "for i in range(Ns):\n",
    "    for j in range(Ns):\n",
    "        print(f\"Calculating overlap for states {i,j}..\")\n",
    "        re, re_err = dblquad(inner_product_real, -Lx/2, Lx/2, -Ly/2, 0, args=(i,j,Ns,t))\n",
    "        im, im_err = dblquad(inner_product_imag, -Lx/2, Lx/2, -Ly/2, 0, args=(i,j,Ns,t))\n",
    "        M[i,j] = (re + 1j*im)/(norms[i]*norms[j])"
   ]
  },
  {
   "cell_type": "code",
   "execution_count": 32,
   "metadata": {},
   "outputs": [
    {
     "name": "stdout",
     "output_type": "stream",
     "text": [
      "Calculating overlap for states (0, 0)..\n",
      "Calculating overlap for states (0, 1)..\n"
     ]
    },
    {
     "name": "stderr",
     "output_type": "stream",
     "text": [
      "c:\\Users\\crist\\anaconda3\\lib\\site-packages\\scipy\\integrate\\_quadpack_py.py:1151: IntegrationWarning: The occurrence of roundoff error is detected, which prevents \n",
      "  the requested tolerance from being achieved.  The error may be \n",
      "  underestimated.\n",
      "  quad_r = quad(f, low, high, args=args, full_output=self.full_output,\n"
     ]
    },
    {
     "name": "stdout",
     "output_type": "stream",
     "text": [
      "Calculating overlap for states (0, 2)..\n",
      "Calculating overlap for states (0, 3)..\n",
      "Calculating overlap for states (0, 4)..\n",
      "Calculating overlap for states (0, 5)..\n",
      "Calculating overlap for states (0, 6)..\n",
      "Calculating overlap for states (0, 7)..\n",
      "Calculating overlap for states (0, 8)..\n",
      "Calculating overlap for states (0, 9)..\n",
      "Calculating overlap for states (1, 0)..\n",
      "Calculating overlap for states (1, 1)..\n",
      "Calculating overlap for states (1, 2)..\n",
      "Calculating overlap for states (1, 3)..\n",
      "Calculating overlap for states (1, 4)..\n",
      "Calculating overlap for states (1, 5)..\n",
      "Calculating overlap for states (1, 6)..\n",
      "Calculating overlap for states (1, 7)..\n",
      "Calculating overlap for states (1, 8)..\n",
      "Calculating overlap for states (1, 9)..\n",
      "Calculating overlap for states (2, 0)..\n",
      "Calculating overlap for states (2, 1)..\n",
      "Calculating overlap for states (2, 2)..\n",
      "Calculating overlap for states (2, 3)..\n",
      "Calculating overlap for states (2, 4)..\n",
      "Calculating overlap for states (2, 5)..\n",
      "Calculating overlap for states (2, 6)..\n",
      "Calculating overlap for states (2, 7)..\n",
      "Calculating overlap for states (2, 8)..\n",
      "Calculating overlap for states (2, 9)..\n",
      "Calculating overlap for states (3, 0)..\n",
      "Calculating overlap for states (3, 1)..\n",
      "Calculating overlap for states (3, 2)..\n",
      "Calculating overlap for states (3, 3)..\n",
      "Calculating overlap for states (3, 4)..\n",
      "Calculating overlap for states (3, 5)..\n",
      "Calculating overlap for states (3, 6)..\n",
      "Calculating overlap for states (3, 7)..\n",
      "Calculating overlap for states (3, 8)..\n",
      "Calculating overlap for states (3, 9)..\n",
      "Calculating overlap for states (4, 0)..\n",
      "Calculating overlap for states (4, 1)..\n",
      "Calculating overlap for states (4, 2)..\n",
      "Calculating overlap for states (4, 3)..\n",
      "Calculating overlap for states (4, 4)..\n",
      "Calculating overlap for states (4, 5)..\n",
      "Calculating overlap for states (4, 6)..\n",
      "Calculating overlap for states (4, 7)..\n",
      "Calculating overlap for states (4, 8)..\n",
      "Calculating overlap for states (4, 9)..\n",
      "Calculating overlap for states (5, 0)..\n",
      "Calculating overlap for states (5, 1)..\n",
      "Calculating overlap for states (5, 2)..\n",
      "Calculating overlap for states (5, 3)..\n",
      "Calculating overlap for states (5, 4)..\n",
      "Calculating overlap for states (5, 5)..\n",
      "Calculating overlap for states (5, 6)..\n",
      "Calculating overlap for states (5, 7)..\n",
      "Calculating overlap for states (5, 8)..\n",
      "Calculating overlap for states (5, 9)..\n",
      "Calculating overlap for states (6, 0)..\n",
      "Calculating overlap for states (6, 1)..\n",
      "Calculating overlap for states (6, 2)..\n",
      "Calculating overlap for states (6, 3)..\n",
      "Calculating overlap for states (6, 4)..\n",
      "Calculating overlap for states (6, 5)..\n",
      "Calculating overlap for states (6, 6)..\n",
      "Calculating overlap for states (6, 7)..\n",
      "Calculating overlap for states (6, 8)..\n",
      "Calculating overlap for states (6, 9)..\n",
      "Calculating overlap for states (7, 0)..\n",
      "Calculating overlap for states (7, 1)..\n",
      "Calculating overlap for states (7, 2)..\n",
      "Calculating overlap for states (7, 3)..\n",
      "Calculating overlap for states (7, 4)..\n",
      "Calculating overlap for states (7, 5)..\n",
      "Calculating overlap for states (7, 6)..\n",
      "Calculating overlap for states (7, 7)..\n",
      "Calculating overlap for states (7, 8)..\n",
      "Calculating overlap for states (7, 9)..\n",
      "Calculating overlap for states (8, 0)..\n",
      "Calculating overlap for states (8, 1)..\n",
      "Calculating overlap for states (8, 2)..\n",
      "Calculating overlap for states (8, 3)..\n",
      "Calculating overlap for states (8, 4)..\n",
      "Calculating overlap for states (8, 5)..\n",
      "Calculating overlap for states (8, 6)..\n",
      "Calculating overlap for states (8, 7)..\n",
      "Calculating overlap for states (8, 8)..\n",
      "Calculating overlap for states (8, 9)..\n",
      "Calculating overlap for states (9, 0)..\n",
      "Calculating overlap for states (9, 1)..\n",
      "Calculating overlap for states (9, 2)..\n",
      "Calculating overlap for states (9, 3)..\n",
      "Calculating overlap for states (9, 4)..\n",
      "Calculating overlap for states (9, 5)..\n",
      "Calculating overlap for states (9, 6)..\n",
      "Calculating overlap for states (9, 7)..\n",
      "Calculating overlap for states (9, 8)..\n",
      "Calculating overlap for states (9, 9)..\n"
     ]
    }
   ],
   "source": [
    "#get overlap matrix for region A: y in [-Ly/2, 0] (cut length Lx)\n",
    "M = np.zeros((Ns,Ns), dtype=np.complex128)\n",
    "\n",
    "for i in range(Ns):\n",
    "    for j in range(Ns):\n",
    "        print(f\"Calculating overlap for states {i,j}..\")\n",
    "        re, re_err = dblquad(inner_product_real, -Lx/2, Lx/2, -Ly/2, 0, args=(i,j,Ns,t))\n",
    "        im, im_err = dblquad(inner_product_imag, -Lx/2, Lx/2, -Ly/2, 0, args=(i,j,Ns,t))\n",
    "        M[i,j] = (re + 1j*im)/(norms[i]*norms[j])"
   ]
  },
  {
   "cell_type": "code",
   "execution_count": 42,
   "metadata": {},
   "outputs": [
    {
     "data": {
      "text/plain": [
       "(1.7763568394002505e-15+2.465190328815662e-32j)"
      ]
     },
     "execution_count": 42,
     "metadata": {},
     "output_type": "execute_result"
    }
   ],
   "source": [
    "np.sum(M)-np.sum(e)"
   ]
  },
  {
   "cell_type": "code",
   "execution_count": 35,
   "metadata": {},
   "outputs": [
    {
     "data": {
      "text/plain": [
       "array([0.01286631, 0.01286631, 0.13114797, 0.13114797, 0.5       ,\n",
       "       0.5       , 0.86885203, 0.86885203, 0.98713369, 0.98713369])"
      ]
     },
     "execution_count": 35,
     "metadata": {},
     "output_type": "execute_result"
    }
   ],
   "source": [
    "e,v = np.linalg.eigh(M)\n",
    "e"
   ]
  },
  {
   "cell_type": "code",
   "execution_count": 38,
   "metadata": {},
   "outputs": [
    {
     "data": {
      "text/plain": [
       "2.523759192713624"
      ]
     },
     "execution_count": 38,
     "metadata": {},
     "output_type": "execute_result"
    }
   ],
   "source": [
    "S = -np.sum(np.log(e**2 + (1-e)**2))\n",
    "S"
   ]
  },
  {
   "cell_type": "code",
   "execution_count": 40,
   "metadata": {},
   "outputs": [
    {
     "data": {
      "text/plain": [
       "7.926654595212022"
      ]
     },
     "execution_count": 40,
     "metadata": {},
     "output_type": "execute_result"
    }
   ],
   "source": [
    "Lx"
   ]
  },
  {
   "cell_type": "code",
   "execution_count": 24,
   "metadata": {},
   "outputs": [
    {
     "data": {
      "text/plain": [
       "(-1.4766571070716866e-13, 2.0336934333580284e-06)"
      ]
     },
     "execution_count": 24,
     "metadata": {},
     "output_type": "execute_result"
    }
   ],
   "source": [
    "dblquad(inner_product_imag, -Lx/2, Lx/2, 0, Ly/2, args=(1,2,Ns,t))"
   ]
  },
  {
   "cell_type": "code",
   "execution_count": 21,
   "metadata": {},
   "outputs": [],
   "source": [
    "psi = LLLSymmetricGaugeGrid(Ns, t, 1, 50)"
   ]
  },
  {
   "cell_type": "code",
   "execution_count": 22,
   "metadata": {},
   "outputs": [
    {
     "data": {
      "text/plain": [
       "<matplotlib.colorbar.Colorbar at 0x28ba15e5580>"
      ]
     },
     "execution_count": 22,
     "metadata": {},
     "output_type": "execute_result"
    },
    {
     "data": {
      "image/png": "[encoded data removed]",
      "text/plain": [
       "<Figure size 640x480 with 2 Axes>"
      ]
     },
     "metadata": {},
     "output_type": "display_data"
    }
   ],
   "source": [
    "plt.imshow(np.real(psi))\n",
    "plt.colorbar()"
   ]
  },
  {
   "cell_type": "code",
   "execution_count": null,
   "metadata": {},
   "outputs": [],
   "source": []
  },
  {
   "cell_type": "code",
   "execution_count": 129,
   "metadata": {},
   "outputs": [],
   "source": [
    "#t gauge\n",
    "s = 4\n",
    "n_pts = 60\n",
    "x = np.linspace(-Lx/2,Lx/2,n_pts)\n",
    "y = np.linspace(Ly/2,Ly/2,n_pts)\n",
    "#x, y = np.meshgrid(np.linspace(0,Lx,n_pts), np.linspace(0,Ly,n_pts), indexing='xy')\n",
    "psi = np.ones((n_pts, n_pts), dtype=np.complex128)\n",
    "\n",
    "\n",
    "for i in range(x.size):\n",
    "    for j in range(y.size):\n",
    "        z = x[i] + 1j*y[j]\n",
    "        psi[i,j] *= np.exp(1j*np.pi*t*Ns*y[j]**2)\n",
    "        psi[i,j] *= ThetaFunction(z*Ns/Lx, Ns*t, -s/Ns, 0)\n",
    "\n",
    "#psi /= np.sqrt(Ns*np.sqrt(np.pi))\n",
    "#psi /= np.linalg.norm(psi)"
   ]
  },
  {
   "cell_type": "code",
   "execution_count": 133,
   "metadata": {},
   "outputs": [
    {
     "data": {
      "text/plain": [
       "<matplotlib.colorbar.Colorbar at 0x1e0e9060400>"
      ]
     },
     "execution_count": 133,
     "metadata": {},
     "output_type": "execute_result"
    },
    {
     "data": {
      "image/png": "[encoded data removed]",
      "text/plain": [
       "<Figure size 640x480 with 2 Axes>"
      ]
     },
     "metadata": {},
     "output_type": "display_data"
    }
   ],
   "source": [
    "plt.imshow(np.abs(psi)**2)\n",
    "plt.colorbar()"
   ]
  },
  {
   "cell_type": "code",
   "execution_count": 95,
   "metadata": {},
   "outputs": [
    {
     "data": {
      "text/plain": [
       "<matplotlib.colorbar.Colorbar at 0x1e0e88d7910>"
      ]
     },
     "execution_count": 95,
     "metadata": {},
     "output_type": "execute_result"
    },
    {
     "data": {
      "image/png": "[encoded data removed]",
      "text/plain": [
       "<Figure size 640x480 with 2 Axes>"
      ]
     },
     "metadata": {},
     "output_type": "display_data"
    }
   ],
   "source": [
    "plt.imshow(np.angle(psi))\n",
    "plt.colorbar()"
   ]
  },
  {
   "cell_type": "code",
   "execution_count": null,
   "metadata": {},
   "outputs": [],
   "source": []
  },
  {
   "cell_type": "code",
   "execution_count": null,
   "metadata": {},
   "outputs": [],
   "source": []
  }
 ],
 "metadata": {
  "kernelspec": {
   "display_name": "base",
   "language": "python",
   "name": "python3"
  },
  "language_info": {
   "codemirror_mode": {
    "name": "ipython",
    "version": 3
   },
   "file_extension": ".py",
   "mimetype": "text/x-python",
   "name": "python",
   "nbconvert_exporter": "python",
   "pygments_lexer": "ipython3",
   "version": "3.10.12"
  },
  "orig_nbformat": 4
 },
 "nbformat": 4,
 "nbformat_minor": 2
}
