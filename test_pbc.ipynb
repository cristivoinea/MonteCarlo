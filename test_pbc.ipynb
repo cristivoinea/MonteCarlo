{
 "cells": [
  {
   "cell_type": "code",
   "execution_count": 1,
   "metadata": {},
   "outputs": [],
   "source": [
    "import numpy as np\n",
    "from MonteCarloTorusSWAP import RandomConfig\n",
    "#from WavefnLaughlin import TestPerz`iodicityLaughlin\n",
    "from TestsCFL import TestPeriodicityCFL, TestPeriodicitySwapCFL"
   ]
  },
  {
   "cell_type": "code",
   "execution_count": 14,
   "metadata": {},
   "outputs": [
    {
     "data": {
      "text/plain": [
       "array([ 0.92154741, -0.57569668, -0.57569668,  0.99989793,  0.80756171,\n",
       "        0.80756171,  0.80756171,  0.80756171,  0.75193624,  0.75193624,\n",
       "        0.75193624,  0.75193624,  0.75193624,  0.75193624, -0.92562348,\n",
       "        0.10993776,  0.56045288,  0.54378341,  0.95022935,  0.95022935,\n",
       "        0.89320313,  0.89320313,  0.89320313,  0.89320313,  0.89320313,\n",
       "        0.89320313,  0.85075222,  0.25222363, -0.31748367, -0.31748367,\n",
       "       -0.31748367, -0.41324878, -0.41324878, -0.41324878, -0.41324878,\n",
       "       -0.41324878, -0.41324878, -0.41324878, -0.4260564 ,  0.93541067,\n",
       "       -0.86421077, -0.86421077, -0.98918994, -0.76434961, -0.28297388,\n",
       "       -0.28297388, -0.50500648, -0.5007604 , -0.5007604 , -0.5007604 ,\n",
       "       -0.84593812, -0.72453893, -0.72453893, -0.72453893, -0.72453893,\n",
       "        0.65010672,  0.65010672,  0.65010672, -0.55700825, -0.55700825,\n",
       "       -0.55700825,  0.14410674,  0.14410674, -0.9877449 ,  0.2399544 ,\n",
       "       -0.85857965,  0.08133803, -0.99948667, -0.99964804, -0.89469211,\n",
       "       -0.89469211, -0.89469211, -0.89469211, -0.89469211, -0.89469211,\n",
       "       -0.98103857, -0.98103857, -0.99938841, -0.99938841, -0.99938841,\n",
       "       -0.53900618, -0.53900618, -0.14229921, -0.14229921, -0.354876  ,\n",
       "       -0.354876  , -0.32434324, -0.32434324, -0.90436886, -0.86462668,\n",
       "        0.31031019, -0.50519607, -0.50519607, -0.50519607, -0.20312834,\n",
       "       -0.20312834, -0.20312834, -0.20312834, -0.20312834,  0.53796379,\n",
       "        0.53796379,  0.53796379,  0.53796379,  0.53796379,  0.17184391,\n",
       "       -0.54224643, -0.54224643, -0.50411914, -0.50411914, -0.56352971,\n",
       "       -0.56352971, -0.56352971, -0.56352971, -0.56352971, -0.59437387,\n",
       "       -0.59437387, -0.59437387, -0.59437387,  0.740798  , -0.97781054,\n",
       "        0.18646065,  0.18646065,  0.18646065,  0.86479981,  0.80841126,\n",
       "        0.68045294,  0.68045294,  0.68045294,  0.68045294, -0.75906144,\n",
       "        0.00222646,  0.00222646,  0.00222646,  0.00222646, -0.57068935,\n",
       "        0.85797381,  0.93591415, -0.70271873, -0.70271873, -0.70271873,\n",
       "       -0.70271873, -0.65003912, -0.65003912,  0.55870851,  0.1963411 ,\n",
       "       -0.93959984,  0.59061468,  0.59061468, -0.88757966,  0.69817901,\n",
       "       -0.33164796, -0.33164796, -0.33164796, -0.33164796, -0.33164796,\n",
       "       -0.33164796, -0.33164796, -0.33164796,  0.52776978,  0.52776978,\n",
       "        0.52776978,  0.11669302,  0.11669302,  0.11669302,  0.9491776 ,\n",
       "       -0.4169859 , -0.29079865,  0.55911395,  0.55911395,  0.55911395,\n",
       "        0.69618431,  0.69618431, -0.66037265,  0.85821812,  0.60678561,\n",
       "        0.60678561, -0.03152863, -0.91208494, -0.91208494, -0.33890012,\n",
       "       -0.33890012,  0.2197578 , -0.99940547, -0.9836248 , -0.9836248 ,\n",
       "       -0.97858014, -0.97077789, -0.97077789, -0.97077789, -0.97077789,\n",
       "       -0.97077789, -0.97077789, -0.97687084,  0.26450677, -0.4474927 ,\n",
       "       -0.4743352 , -0.4743352 , -0.8855088 ,  0.91751717,  0.91751717])"
      ]
     },
     "execution_count": 14,
     "metadata": {},
     "output_type": "execute_result"
    }
   ],
   "source": [
    "res = np.load(\"cfl3_sign_results_imag_Ne_37_Ns_111_t_1.00_circle_0.2500_step_0.038.npy\")\n",
    "res[:200]"
   ]
  },
  {
   "cell_type": "code",
   "execution_count": 8,
   "metadata": {},
   "outputs": [],
   "source": [
    "Ne = 37\n",
    "Ns = Ne*1\n",
    "t = 1j"
   ]
  },
  {
   "cell_type": "code",
   "execution_count": 9,
   "metadata": {},
   "outputs": [
    {
     "name": "stdout",
     "output_type": "stream",
     "text": [
      "Test passed!\n"
     ]
    }
   ],
   "source": [
    "TestPeriodicityCFL(Ne, Ns, t, JK_coeffs='1', nbr_tests=20)"
   ]
  },
  {
   "cell_type": "code",
   "execution_count": 12,
   "metadata": {},
   "outputs": [
    {
     "name": "stdout",
     "output_type": "stream",
     "text": [
      "Test passed!\n"
     ]
    }
   ],
   "source": [
    "TestPeriodicitySwapCFL(Ne, Ns, t, JK_coeffs='1', region_geometry='circle', boundary=0.2, nbr_tests=50)"
   ]
  },
  {
   "cell_type": "code",
   "execution_count": null,
   "metadata": {},
   "outputs": [],
   "source": []
  },
  {
   "cell_type": "code",
   "execution_count": 12,
   "metadata": {},
   "outputs": [],
   "source": [
    "Ne = 100\n",
    "Ns = Ne*1\n",
    "t = 1j\n",
    "Lx = np.sqrt(2*np.pi*Ns/np.imag(t))\n",
    "Ly = t*Lx"
   ]
  },
  {
   "cell_type": "code",
   "execution_count": 15,
   "metadata": {},
   "outputs": [
    {
     "ename": "TypingError",
     "evalue": "Failed in nopython mode pipeline (step: nopython frontend)\n\u001b[1m\u001b[1m\u001b[1m\u001b[1m\u001b[1m\u001b[1mFailed in nopython mode pipeline (step: nopython frontend)\n\u001b[1m\u001b[1mNo implementation of function Function(<built-in function getitem>) found for signature:\n \n >>> getitem(Literal[int](0), Tuple(Literal[int](0), slice<a:b>))\n \nThere are 22 candidate implementations:\n\u001b[1m   - Of which 22 did not match due to:\n   Overload of function 'getitem': File: <numerous>: Line N/A.\n     With argument(s): '(int64, Tuple(int64, slice<a:b>))':\u001b[0m\n\u001b[1m    No match.\u001b[0m\n\u001b[0m\n\u001b[0m\u001b[1mDuring: typing of intrinsic-call at d:\\fizica\\phd\\MonteCarlo\\MonteCarlo\\LaughlinWavefnSWAP.py (186)\u001b[0m\n\u001b[1m\nFile \"LaughlinWavefnSWAP.py\", line 186:\u001b[0m\n\u001b[1mdef StepOneAmplitudeLaughlin(Ns: np.uint16, t: np.complex128,\n    <source elided>\n\n\u001b[1m    jastrows_relative = (jastrows_new[moved_particle, :] /\n\u001b[0m    \u001b[1m^\u001b[0m\u001b[0m\n\n\u001b[0m\u001b[1mDuring: resolving callee type: type(CPUDispatcher(<function StepOneAmplitudeLaughlin at 0x000001DDF4CE75B0>))\u001b[0m\n\u001b[0m\u001b[1mDuring: typing of call at d:\\fizica\\phd\\MonteCarlo\\MonteCarlo\\LaughlinWavefnSWAP.py (330)\n\u001b[0m\n\u001b[0m\u001b[1mDuring: resolving callee type: type(CPUDispatcher(<function StepOneAmplitudeLaughlin at 0x000001DDF4CE75B0>))\u001b[0m\n\u001b[0m\u001b[1mDuring: typing of call at d:\\fizica\\phd\\MonteCarlo\\MonteCarlo\\LaughlinWavefnSWAP.py (339)\n\u001b[0m\n\u001b[0m\u001b[1mDuring: resolving callee type: type(CPUDispatcher(<function StepOneAmplitudeLaughlin at 0x000001DDF4CE75B0>))\u001b[0m\n\u001b[0m\u001b[1mDuring: typing of call at d:\\fizica\\phd\\MonteCarlo\\MonteCarlo\\LaughlinWavefnSWAP.py (330)\n\u001b[0m\n\u001b[1m\nFile \"LaughlinWavefnSWAP.py\", line 330:\u001b[0m\n\u001b[1mdef TestPeriodicityLaughlin(coords: np.array, Ns: np.uint16, t: np.complex128,\n    <source elided>\n            coords_new[particle] += Lx\n\u001b[1m            t_L1 = (StepOneAmplitudeLaughlin(Ns, t, coords, coords_new, particle, kCM, phi_1, phi_t) *\n\u001b[0m            \u001b[1m^\u001b[0m\u001b[0m\n",
     "output_type": "error",
     "traceback": [
      "\u001b[1;31m---------------------------------------------------------------------------\u001b[0m",
      "\u001b[1;31mTypingError\u001b[0m                               Traceback (most recent call last)",
      "\u001b[1;32md:\\fizica\\phd\\MonteCarlo\\MonteCarlo\\test_pbc.ipynb Cell 8\u001b[0m line \u001b[0;36m2\n\u001b[0;32m      <a href='vscode-notebook-cell:/d%3A/fizica/phd/MonteCarlo/MonteCarlo/test_pbc.ipynb#X10sZmlsZQ%3D%3D?line=0'>1</a>\u001b[0m R \u001b[39m=\u001b[39m RandomConfig(Ne, Lx, Ly)\n\u001b[1;32m----> <a href='vscode-notebook-cell:/d%3A/fizica/phd/MonteCarlo/MonteCarlo/test_pbc.ipynb#X10sZmlsZQ%3D%3D?line=1'>2</a>\u001b[0m TestPeriodicityLaughlin(R, Ns, t, nbr_tests\u001b[39m=\u001b[39;49m\u001b[39m100\u001b[39;49m)\n",
      "File \u001b[1;32m~\\AppData\\Roaming\\Python\\Python310\\site-packages\\numba\\core\\dispatcher.py:468\u001b[0m, in \u001b[0;36m_DispatcherBase._compile_for_args\u001b[1;34m(self, *args, **kws)\u001b[0m\n\u001b[0;32m    464\u001b[0m         msg \u001b[39m=\u001b[39m (\u001b[39mf\u001b[39m\u001b[39m\"\u001b[39m\u001b[39m{\u001b[39;00m\u001b[39mstr\u001b[39m(e)\u001b[39m.\u001b[39mrstrip()\u001b[39m}\u001b[39;00m\u001b[39m \u001b[39m\u001b[39m\\n\u001b[39;00m\u001b[39m\\n\u001b[39;00m\u001b[39mThis error may have been caused \u001b[39m\u001b[39m\"\u001b[39m\n\u001b[0;32m    465\u001b[0m                \u001b[39mf\u001b[39m\u001b[39m\"\u001b[39m\u001b[39mby the following argument(s):\u001b[39m\u001b[39m\\n\u001b[39;00m\u001b[39m{\u001b[39;00margs_str\u001b[39m}\u001b[39;00m\u001b[39m\\n\u001b[39;00m\u001b[39m\"\u001b[39m)\n\u001b[0;32m    466\u001b[0m         e\u001b[39m.\u001b[39mpatch_message(msg)\n\u001b[1;32m--> 468\u001b[0m     error_rewrite(e, \u001b[39m'\u001b[39;49m\u001b[39mtyping\u001b[39;49m\u001b[39m'\u001b[39;49m)\n\u001b[0;32m    469\u001b[0m \u001b[39mexcept\u001b[39;00m errors\u001b[39m.\u001b[39mUnsupportedError \u001b[39mas\u001b[39;00m e:\n\u001b[0;32m    470\u001b[0m     \u001b[39m# Something unsupported is present in the user code, add help info\u001b[39;00m\n\u001b[0;32m    471\u001b[0m     error_rewrite(e, \u001b[39m'\u001b[39m\u001b[39munsupported_error\u001b[39m\u001b[39m'\u001b[39m)\n",
      "File \u001b[1;32m~\\AppData\\Roaming\\Python\\Python310\\site-packages\\numba\\core\\dispatcher.py:409\u001b[0m, in \u001b[0;36m_DispatcherBase._compile_for_args.<locals>.error_rewrite\u001b[1;34m(e, issue_type)\u001b[0m\n\u001b[0;32m    407\u001b[0m     \u001b[39mraise\u001b[39;00m e\n\u001b[0;32m    408\u001b[0m \u001b[39melse\u001b[39;00m:\n\u001b[1;32m--> 409\u001b[0m     \u001b[39mraise\u001b[39;00m e\u001b[39m.\u001b[39mwith_traceback(\u001b[39mNone\u001b[39;00m)\n",
      "\u001b[1;31mTypingError\u001b[0m: Failed in nopython mode pipeline (step: nopython frontend)\n\u001b[1m\u001b[1m\u001b[1m\u001b[1m\u001b[1m\u001b[1mFailed in nopython mode pipeline (step: nopython frontend)\n\u001b[1m\u001b[1mNo implementation of function Function(<built-in function getitem>) found for signature:\n \n >>> getitem(Literal[int](0), Tuple(Literal[int](0), slice<a:b>))\n \nThere are 22 candidate implementations:\n\u001b[1m   - Of which 22 did not match due to:\n   Overload of function 'getitem': File: <numerous>: Line N/A.\n     With argument(s): '(int64, Tuple(int64, slice<a:b>))':\u001b[0m\n\u001b[1m    No match.\u001b[0m\n\u001b[0m\n\u001b[0m\u001b[1mDuring: typing of intrinsic-call at d:\\fizica\\phd\\MonteCarlo\\MonteCarlo\\LaughlinWavefnSWAP.py (186)\u001b[0m\n\u001b[1m\nFile \"LaughlinWavefnSWAP.py\", line 186:\u001b[0m\n\u001b[1mdef StepOneAmplitudeLaughlin(Ns: np.uint16, t: np.complex128,\n    <source elided>\n\n\u001b[1m    jastrows_relative = (jastrows_new[moved_particle, :] /\n\u001b[0m    \u001b[1m^\u001b[0m\u001b[0m\n\n\u001b[0m\u001b[1mDuring: resolving callee type: type(CPUDispatcher(<function StepOneAmplitudeLaughlin at 0x000001DDF4CE75B0>))\u001b[0m\n\u001b[0m\u001b[1mDuring: typing of call at d:\\fizica\\phd\\MonteCarlo\\MonteCarlo\\LaughlinWavefnSWAP.py (330)\n\u001b[0m\n\u001b[0m\u001b[1mDuring: resolving callee type: type(CPUDispatcher(<function StepOneAmplitudeLaughlin at 0x000001DDF4CE75B0>))\u001b[0m\n\u001b[0m\u001b[1mDuring: typing of call at d:\\fizica\\phd\\MonteCarlo\\MonteCarlo\\LaughlinWavefnSWAP.py (339)\n\u001b[0m\n\u001b[0m\u001b[1mDuring: resolving callee type: type(CPUDispatcher(<function StepOneAmplitudeLaughlin at 0x000001DDF4CE75B0>))\u001b[0m\n\u001b[0m\u001b[1mDuring: typing of call at d:\\fizica\\phd\\MonteCarlo\\MonteCarlo\\LaughlinWavefnSWAP.py (330)\n\u001b[0m\n\u001b[1m\nFile \"LaughlinWavefnSWAP.py\", line 330:\u001b[0m\n\u001b[1mdef TestPeriodicityLaughlin(coords: np.array, Ns: np.uint16, t: np.complex128,\n    <source elided>\n            coords_new[particle] += Lx\n\u001b[1m            t_L1 = (StepOneAmplitudeLaughlin(Ns, t, coords, coords_new, particle, kCM, phi_1, phi_t) *\n\u001b[0m            \u001b[1m^\u001b[0m\u001b[0m\n"
     ]
    }
   ],
   "source": [
    "R = RandomConfig(Ne, Lx, Ly)\n",
    "TestPeriodicityLaughlin(R, Ns, t, nbr_tests=100)"
   ]
  },
  {
   "cell_type": "code",
   "execution_count": null,
   "metadata": {},
   "outputs": [],
   "source": []
  }
 ],
 "metadata": {
  "kernelspec": {
   "display_name": "base",
   "language": "python",
   "name": "python3"
  },
  "language_info": {
   "codemirror_mode": {
    "name": "ipython",
    "version": 3
   },
   "file_extension": ".py",
   "mimetype": "text/x-python",
   "name": "python",
   "nbconvert_exporter": "python",
   "pygments_lexer": "ipython3",
   "version": "3.10.12"
  }
 },
 "nbformat": 4,
 "nbformat_minor": 2
}
