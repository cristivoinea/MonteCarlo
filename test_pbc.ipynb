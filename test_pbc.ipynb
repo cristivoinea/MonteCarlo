{
 "cells": [
  {
   "cell_type": "code",
   "execution_count": 7,
   "metadata": {},
   "outputs": [],
   "source": [
    "import numpy as np\n",
    "from MonteCarloTorusSWAP import RandomConfig\n",
    "#from WavefnLaughlin import TestPeriodicityLaughlin\n",
    "from TestsCFL import TestPeriodicityCFL"
   ]
  },
  {
   "cell_type": "code",
   "execution_count": 12,
   "metadata": {},
   "outputs": [],
   "source": [
    "Ne = 12\n",
    "Ns = Ne*2\n",
    "t = 1j"
   ]
  },
  {
   "cell_type": "code",
   "execution_count": 13,
   "metadata": {},
   "outputs": [
    {
     "name": "stdout",
     "output_type": "stream",
     "text": [
      "Test passed!\n"
     ]
    }
   ],
   "source": [
    "TestPeriodicityCFL(Ne, Ns, t, nbr_tests=50)"
   ]
  },
  {
   "cell_type": "code",
   "execution_count": 12,
   "metadata": {},
   "outputs": [],
   "source": [
    "Ne = 100\n",
    "Ns = Ne*1\n",
    "t = 1j\n",
    "Lx = np.sqrt(2*np.pi*Ns/np.imag(t))\n",
    "Ly = t*Lx"
   ]
  },
  {
   "cell_type": "code",
   "execution_count": 15,
   "metadata": {},
   "outputs": [
    {
     "ename": "TypingError",
     "evalue": "Failed in nopython mode pipeline (step: nopython frontend)\n\u001b[1m\u001b[1m\u001b[1m\u001b[1m\u001b[1m\u001b[1mFailed in nopython mode pipeline (step: nopython frontend)\n\u001b[1m\u001b[1mNo implementation of function Function(<built-in function getitem>) found for signature:\n \n >>> getitem(Literal[int](0), Tuple(Literal[int](0), slice<a:b>))\n \nThere are 22 candidate implementations:\n\u001b[1m   - Of which 22 did not match due to:\n   Overload of function 'getitem': File: <numerous>: Line N/A.\n     With argument(s): '(int64, Tuple(int64, slice<a:b>))':\u001b[0m\n\u001b[1m    No match.\u001b[0m\n\u001b[0m\n\u001b[0m\u001b[1mDuring: typing of intrinsic-call at d:\\fizica\\phd\\MonteCarlo\\MonteCarlo\\LaughlinWavefnSWAP.py (186)\u001b[0m\n\u001b[1m\nFile \"LaughlinWavefnSWAP.py\", line 186:\u001b[0m\n\u001b[1mdef StepOneAmplitudeLaughlin(Ns: np.uint16, t: np.complex128,\n    <source elided>\n\n\u001b[1m    jastrows_relative = (jastrows_new[moved_particle, :] /\n\u001b[0m    \u001b[1m^\u001b[0m\u001b[0m\n\n\u001b[0m\u001b[1mDuring: resolving callee type: type(CPUDispatcher(<function StepOneAmplitudeLaughlin at 0x000001DDF4CE75B0>))\u001b[0m\n\u001b[0m\u001b[1mDuring: typing of call at d:\\fizica\\phd\\MonteCarlo\\MonteCarlo\\LaughlinWavefnSWAP.py (330)\n\u001b[0m\n\u001b[0m\u001b[1mDuring: resolving callee type: type(CPUDispatcher(<function StepOneAmplitudeLaughlin at 0x000001DDF4CE75B0>))\u001b[0m\n\u001b[0m\u001b[1mDuring: typing of call at d:\\fizica\\phd\\MonteCarlo\\MonteCarlo\\LaughlinWavefnSWAP.py (339)\n\u001b[0m\n\u001b[0m\u001b[1mDuring: resolving callee type: type(CPUDispatcher(<function StepOneAmplitudeLaughlin at 0x000001DDF4CE75B0>))\u001b[0m\n\u001b[0m\u001b[1mDuring: typing of call at d:\\fizica\\phd\\MonteCarlo\\MonteCarlo\\LaughlinWavefnSWAP.py (330)\n\u001b[0m\n\u001b[1m\nFile \"LaughlinWavefnSWAP.py\", line 330:\u001b[0m\n\u001b[1mdef TestPeriodicityLaughlin(coords: np.array, Ns: np.uint16, t: np.complex128,\n    <source elided>\n            coords_new[particle] += Lx\n\u001b[1m            t_L1 = (StepOneAmplitudeLaughlin(Ns, t, coords, coords_new, particle, kCM, phi_1, phi_t) *\n\u001b[0m            \u001b[1m^\u001b[0m\u001b[0m\n",
     "output_type": "error",
     "traceback": [
      "\u001b[1;31m---------------------------------------------------------------------------\u001b[0m",
      "\u001b[1;31mTypingError\u001b[0m                               Traceback (most recent call last)",
      "\u001b[1;32md:\\fizica\\phd\\MonteCarlo\\MonteCarlo\\test_pbc.ipynb Cell 8\u001b[0m line \u001b[0;36m2\n\u001b[0;32m      <a href='vscode-notebook-cell:/d%3A/fizica/phd/MonteCarlo/MonteCarlo/test_pbc.ipynb#X10sZmlsZQ%3D%3D?line=0'>1</a>\u001b[0m R \u001b[39m=\u001b[39m RandomConfig(Ne, Lx, Ly)\n\u001b[1;32m----> <a href='vscode-notebook-cell:/d%3A/fizica/phd/MonteCarlo/MonteCarlo/test_pbc.ipynb#X10sZmlsZQ%3D%3D?line=1'>2</a>\u001b[0m TestPeriodicityLaughlin(R, Ns, t, nbr_tests\u001b[39m=\u001b[39;49m\u001b[39m100\u001b[39;49m)\n",
      "File \u001b[1;32m~\\AppData\\Roaming\\Python\\Python310\\site-packages\\numba\\core\\dispatcher.py:468\u001b[0m, in \u001b[0;36m_DispatcherBase._compile_for_args\u001b[1;34m(self, *args, **kws)\u001b[0m\n\u001b[0;32m    464\u001b[0m         msg \u001b[39m=\u001b[39m (\u001b[39mf\u001b[39m\u001b[39m\"\u001b[39m\u001b[39m{\u001b[39;00m\u001b[39mstr\u001b[39m(e)\u001b[39m.\u001b[39mrstrip()\u001b[39m}\u001b[39;00m\u001b[39m \u001b[39m\u001b[39m\\n\u001b[39;00m\u001b[39m\\n\u001b[39;00m\u001b[39mThis error may have been caused \u001b[39m\u001b[39m\"\u001b[39m\n\u001b[0;32m    465\u001b[0m                \u001b[39mf\u001b[39m\u001b[39m\"\u001b[39m\u001b[39mby the following argument(s):\u001b[39m\u001b[39m\\n\u001b[39;00m\u001b[39m{\u001b[39;00margs_str\u001b[39m}\u001b[39;00m\u001b[39m\\n\u001b[39;00m\u001b[39m\"\u001b[39m)\n\u001b[0;32m    466\u001b[0m         e\u001b[39m.\u001b[39mpatch_message(msg)\n\u001b[1;32m--> 468\u001b[0m     error_rewrite(e, \u001b[39m'\u001b[39;49m\u001b[39mtyping\u001b[39;49m\u001b[39m'\u001b[39;49m)\n\u001b[0;32m    469\u001b[0m \u001b[39mexcept\u001b[39;00m errors\u001b[39m.\u001b[39mUnsupportedError \u001b[39mas\u001b[39;00m e:\n\u001b[0;32m    470\u001b[0m     \u001b[39m# Something unsupported is present in the user code, add help info\u001b[39;00m\n\u001b[0;32m    471\u001b[0m     error_rewrite(e, \u001b[39m'\u001b[39m\u001b[39munsupported_error\u001b[39m\u001b[39m'\u001b[39m)\n",
      "File \u001b[1;32m~\\AppData\\Roaming\\Python\\Python310\\site-packages\\numba\\core\\dispatcher.py:409\u001b[0m, in \u001b[0;36m_DispatcherBase._compile_for_args.<locals>.error_rewrite\u001b[1;34m(e, issue_type)\u001b[0m\n\u001b[0;32m    407\u001b[0m     \u001b[39mraise\u001b[39;00m e\n\u001b[0;32m    408\u001b[0m \u001b[39melse\u001b[39;00m:\n\u001b[1;32m--> 409\u001b[0m     \u001b[39mraise\u001b[39;00m e\u001b[39m.\u001b[39mwith_traceback(\u001b[39mNone\u001b[39;00m)\n",
      "\u001b[1;31mTypingError\u001b[0m: Failed in nopython mode pipeline (step: nopython frontend)\n\u001b[1m\u001b[1m\u001b[1m\u001b[1m\u001b[1m\u001b[1mFailed in nopython mode pipeline (step: nopython frontend)\n\u001b[1m\u001b[1mNo implementation of function Function(<built-in function getitem>) found for signature:\n \n >>> getitem(Literal[int](0), Tuple(Literal[int](0), slice<a:b>))\n \nThere are 22 candidate implementations:\n\u001b[1m   - Of which 22 did not match due to:\n   Overload of function 'getitem': File: <numerous>: Line N/A.\n     With argument(s): '(int64, Tuple(int64, slice<a:b>))':\u001b[0m\n\u001b[1m    No match.\u001b[0m\n\u001b[0m\n\u001b[0m\u001b[1mDuring: typing of intrinsic-call at d:\\fizica\\phd\\MonteCarlo\\MonteCarlo\\LaughlinWavefnSWAP.py (186)\u001b[0m\n\u001b[1m\nFile \"LaughlinWavefnSWAP.py\", line 186:\u001b[0m\n\u001b[1mdef StepOneAmplitudeLaughlin(Ns: np.uint16, t: np.complex128,\n    <source elided>\n\n\u001b[1m    jastrows_relative = (jastrows_new[moved_particle, :] /\n\u001b[0m    \u001b[1m^\u001b[0m\u001b[0m\n\n\u001b[0m\u001b[1mDuring: resolving callee type: type(CPUDispatcher(<function StepOneAmplitudeLaughlin at 0x000001DDF4CE75B0>))\u001b[0m\n\u001b[0m\u001b[1mDuring: typing of call at d:\\fizica\\phd\\MonteCarlo\\MonteCarlo\\LaughlinWavefnSWAP.py (330)\n\u001b[0m\n\u001b[0m\u001b[1mDuring: resolving callee type: type(CPUDispatcher(<function StepOneAmplitudeLaughlin at 0x000001DDF4CE75B0>))\u001b[0m\n\u001b[0m\u001b[1mDuring: typing of call at d:\\fizica\\phd\\MonteCarlo\\MonteCarlo\\LaughlinWavefnSWAP.py (339)\n\u001b[0m\n\u001b[0m\u001b[1mDuring: resolving callee type: type(CPUDispatcher(<function StepOneAmplitudeLaughlin at 0x000001DDF4CE75B0>))\u001b[0m\n\u001b[0m\u001b[1mDuring: typing of call at d:\\fizica\\phd\\MonteCarlo\\MonteCarlo\\LaughlinWavefnSWAP.py (330)\n\u001b[0m\n\u001b[1m\nFile \"LaughlinWavefnSWAP.py\", line 330:\u001b[0m\n\u001b[1mdef TestPeriodicityLaughlin(coords: np.array, Ns: np.uint16, t: np.complex128,\n    <source elided>\n            coords_new[particle] += Lx\n\u001b[1m            t_L1 = (StepOneAmplitudeLaughlin(Ns, t, coords, coords_new, particle, kCM, phi_1, phi_t) *\n\u001b[0m            \u001b[1m^\u001b[0m\u001b[0m\n"
     ]
    }
   ],
   "source": [
    "R = RandomConfig(Ne, Lx, Ly)\n",
    "TestPeriodicityLaughlin(R, Ns, t, nbr_tests=100)"
   ]
  },
  {
   "cell_type": "code",
   "execution_count": null,
   "metadata": {},
   "outputs": [],
   "source": []
  }
 ],
 "metadata": {
  "kernelspec": {
   "display_name": "base",
   "language": "python",
   "name": "python3"
  },
  "language_info": {
   "codemirror_mode": {
    "name": "ipython",
    "version": 3
   },
   "file_extension": ".py",
   "mimetype": "text/x-python",
   "name": "python",
   "nbconvert_exporter": "python",
   "pygments_lexer": "ipython3",
   "version": "3.10.12"
  }
 },
 "nbformat": 4,
 "nbformat_minor": 2
}
