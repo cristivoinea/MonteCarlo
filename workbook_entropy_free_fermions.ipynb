{
 "cells": [
  {
   "cell_type": "code",
   "execution_count": 6,
   "metadata": {},
   "outputs": [],
   "source": [
    "import numpy as np\n",
    "from MonteCarloTorusSWAP import RunPSwapFreeFermions, RunModSwapFreeFermions, RunSignSwapFreeFermions"
   ]
  },
  {
   "cell_type": "code",
   "execution_count": 9,
   "metadata": {},
   "outputs": [],
   "source": [
    "Ne = 69\n",
    "Ns = 2*Ne\n",
    "t = 1j\n",
    "step_size = 0.038\n",
    "M = 100000\n",
    "M0 = 10000"
   ]
  },
  {
   "cell_type": "code",
   "execution_count": 10,
   "metadata": {},
   "outputs": [
    {
     "name": "stdout",
     "output_type": "stream",
     "text": [
      "Torus dimensions \n",
      "Lx =  29.44621490770559 \n",
      "Ly =  29.44621490770559\n",
      "Iteration 5000 done, current acceptance ratio: 50.14 %\n",
      "Iteration 10000 done, current acceptance ratio: 50.67 %\n"
     ]
    }
   ],
   "source": [
    "RunSignSwapFreeFermions(Ne, Ns, t, M, M0, step_size, 'circle', region_size=0.2, save_config=False, save_results=False)"
   ]
  },
  {
   "cell_type": "code",
   "execution_count": 13,
   "metadata": {},
   "outputs": [
    {
     "data": {
      "text/plain": [
       "200000"
      ]
     },
     "execution_count": 13,
     "metadata": {},
     "output_type": "execute_result"
    }
   ],
   "source": [
    "results = np.load(\"free_fermions_sign_results_real_Ne_12_Ns_24_t_1.00_circle_0.2000_step_0.052.npy\")\n",
    "results.size"
   ]
  },
  {
   "cell_type": "code",
   "execution_count": 12,
   "metadata": {},
   "outputs": [
    {
     "name": "stdout",
     "output_type": "stream",
     "text": [
      "Torus dimensions \n",
      "Lx =  12.279920495357862 \n",
      "Ly =  12.279920495357862\n",
      "Iteration 5000 done, current acceptance ratio: 70.1 %\n",
      "Iteration 10000 done, current acceptance ratio: 70.39 %\n",
      "Iteration 15000 done, current acceptance ratio: 70.64 %\n",
      "Iteration 20000 done, current acceptance ratio: 70.45 %\n",
      "Iteration 25000 done, current acceptance ratio: 70.12 %\n",
      "Iteration 30000 done, current acceptance ratio: 69.98 %\n",
      "Iteration 35000 done, current acceptance ratio: 70.03 %\n",
      "Iteration 40000 done, current acceptance ratio: 70.0 %\n",
      "Iteration 45000 done, current acceptance ratio: 70.13 %\n",
      "Iteration 50000 done, current acceptance ratio: 70.01 %\n",
      "Iteration 55000 done, current acceptance ratio: 69.97 %\n",
      "Iteration 60000 done, current acceptance ratio: 70.0 %\n",
      "Iteration 65000 done, current acceptance ratio: 70.0 %\n",
      "Iteration 70000 done, current acceptance ratio: 70.06 %\n",
      "Iteration 75000 done, current acceptance ratio: 70.09 %\n",
      "Iteration 80000 done, current acceptance ratio: 69.99 %\n",
      "Iteration 85000 done, current acceptance ratio: 69.96 %\n",
      "Iteration 90000 done, current acceptance ratio: 69.98 %\n",
      "Iteration 95000 done, current acceptance ratio: 69.92 %\n",
      "Iteration 100000 done, current acceptance ratio: 69.92 %\n"
     ]
    }
   ],
   "source": [
    "RunSignSwapFreeFermions(Ne, Ns, t, M, M0, step_size, 'circle', region_size=0.2, save_config=True, save_results=True, start_acceptance=70.73)"
   ]
  },
  {
   "cell_type": "code",
   "execution_count": 9,
   "metadata": {},
   "outputs": [
    {
     "name": "stdout",
     "output_type": "stream",
     "text": [
      "Torus dimensions \n",
      "Lx =  16.244807875181 \n",
      "Ly =  16.244807875181\n",
      "Iteration 500 done, current acceptance ratio: 45.8 %\n",
      "Iteration 1000 done, current acceptance ratio: 47.4 %\n",
      "Iteration 1500 done, current acceptance ratio: 47.8 %\n",
      "Iteration 2000 done, current acceptance ratio: 47.9 %\n",
      "Iteration 2500 done, current acceptance ratio: 48.36 %\n",
      "Iteration 3000 done, current acceptance ratio: 48.7 %\n",
      "Iteration 3500 done, current acceptance ratio: 49.4 %\n",
      "Iteration 4000 done, current acceptance ratio: 49.62 %\n",
      "Iteration 4500 done, current acceptance ratio: 49.58 %\n",
      "Iteration 5000 done, current acceptance ratio: 49.66 %\n",
      "Iteration 5500 done, current acceptance ratio: 49.76 %\n",
      "Iteration 6000 done, current acceptance ratio: 49.97 %\n",
      "Iteration 6500 done, current acceptance ratio: 49.91 %\n",
      "Iteration 7000 done, current acceptance ratio: 49.81 %\n",
      "Iteration 7500 done, current acceptance ratio: 49.73 %\n",
      "Iteration 8000 done, current acceptance ratio: 49.7 %\n",
      "Iteration 8500 done, current acceptance ratio: 49.65 %\n",
      "Iteration 9000 done, current acceptance ratio: 49.6 %\n",
      "Iteration 9500 done, current acceptance ratio: 49.49 %\n",
      "Iteration 10000 done, current acceptance ratio: 49.55 %\n",
      "\n",
      "Mean (real) = 0.456222222222202 \n",
      " Var (real) = 0.7919492783148101\n",
      "\n",
      "Mean (imag) = -4.488669440111718e-18 \n",
      " Var (imag) = 1.0895160870381227e-29\n"
     ]
    }
   ],
   "source": [
    "for boundary in np.arange(0.20, 0.201, 0.01):\n",
    "        RunSignSwapFreeFermions(Ne, Ns, t, M, M0, step_size, 'circle', boundary=boundary, save_config=False, save_result=False)"
   ]
  },
  {
   "cell_type": "markdown",
   "metadata": {},
   "source": []
  },
  {
   "cell_type": "code",
   "execution_count": null,
   "metadata": {},
   "outputs": [],
   "source": []
  }
 ],
 "metadata": {
  "kernelspec": {
   "display_name": "base",
   "language": "python",
   "name": "python3"
  },
  "language_info": {
   "codemirror_mode": {
    "name": "ipython",
    "version": 3
   },
   "file_extension": ".py",
   "mimetype": "text/x-python",
   "name": "python",
   "nbconvert_exporter": "python",
   "pygments_lexer": "ipython3",
   "version": "3.10.12"
  }
 },
 "nbformat": 4,
 "nbformat_minor": 2
}
