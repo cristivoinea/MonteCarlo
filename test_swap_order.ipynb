{
 "cells": [
  {
   "cell_type": "code",
   "execution_count": 1,
   "metadata": {},
   "outputs": [],
   "source": [
    "import numpy as np\n",
    "import matplotlib.pyplot as plt\n",
    "from numba import njit\n",
    "from MonteCarloTorusSWAP import RandomConfigSWAP, LocateParticlesSWAP, \\\n",
    "    StepOneSWAPRandom, AssignOrderSWAP, UpdateOrderSWAP, TrackParticleMoves, InsideRegion"
   ]
  },
  {
   "cell_type": "markdown",
   "metadata": {},
   "source": [
    "# Plotting"
   ]
  },
  {
   "cell_type": "code",
   "execution_count": 2,
   "metadata": {},
   "outputs": [],
   "source": [
    "def PlotCopy(R, Lx, Ly, region_geometry, boundary, step_size, ax, color):\n",
    "    if region_geometry == 'strip':\n",
    "        ax.hlines(y=boundary, xmin=0, xmax=Lx, color='red')\n",
    "    elif region_geometry == 'circle':\n",
    "        circle = plt.Circle((Lx/2, Ly/2), boundary, edgecolor='red', facecolor='none')\n",
    "        ax.add_patch(circle)\n",
    "\n",
    "    ax.set_xlim(0,Lx)\n",
    "    ax.set_ylim(0,Ly)\n",
    "    ax.set_xticks([])\n",
    "    ax.set_yticks([])\n",
    "    ax.hlines(y=np.imag(R), xmin=(np.real(R)-step_size), xmax=(np.real(R)+step_size), color='gray', linestyles='--')\n",
    "    ax.vlines(x=np.real(R), ymin=(np.imag(R)-step_size), ymax=(np.imag(R)+step_size), color='gray', linestyles='--')\n",
    "    ax.scatter(np.real(R), np.imag(R), s=14, color=color)\n",
    "    for i in range(R.size):\n",
    "        ax.text(np.real(R[i]), np.imag(R[i]), str(i))"
   ]
  },
  {
   "cell_type": "code",
   "execution_count": 3,
   "metadata": {},
   "outputs": [],
   "source": [
    "def PlotSWAP(R, swap_order, Lx, Ly, boundary, step_size, ax, colors):\n",
    "    for i in range(ax.size):\n",
    "        ax[i].fill_between(x=[0,Lx], y1=np.zeros(2), y2=np.ones(2)*step_size, color='gray', alpha=0.5)\n",
    "        ax[i].fill_between(x=[0,Lx], y1=np.ones(2)*(boundary-step_size), y2=np.ones(2)*(boundary+step_size), color='gray', alpha=0.5)\n",
    "        ax[i].fill_between(x=[0,Lx], y1=np.ones(2)*(Ly-step_size), y2=np.ones(2)*Ly, color='gray', alpha=0.5)\n",
    "        ax[i].hlines(y=boundary, xmin=0, xmax=Lx, color='red')\n",
    "        ax[i].set_xlim(0,Lx)\n",
    "        ax[i].set_ylim(0,Ly)\n",
    "        ax[i].set_xticks([])\n",
    "        ax[i].set_yticks([])\n",
    "\n",
    "    for i in range(R.shape[0]):\n",
    "        for c in range(2):\n",
    "            if swap_order[i,c] > 0:\n",
    "                j = 0\n",
    "            else:\n",
    "                j = 1\n",
    "            ax[j].scatter(np.real(R[i,c]), np.imag(R[i,c]), s=10, color=colors[c])\n",
    "            ax[j].text(np.real(R[i,c]), np.imag(R[i,c]), str(abs(swap_order[i,c])-1))"
   ]
  },
  {
   "cell_type": "code",
   "execution_count": 4,
   "metadata": {},
   "outputs": [],
   "source": [
    "def PlotSystem(R, Lx, Ly, region_geometry, boundary, step_size, swap_R):\n",
    "    fig, ax = plt.subplots(1,4, figsize = (12,2.6))\n",
    "    PlotCopy(R[:,0],Lx,Ly,region_geometry,boundary,step_size,ax[0], color='blue')\n",
    "    PlotCopy(R[:,1],Lx,Ly,region_geometry,boundary,step_size,ax[1], color='orange')\n",
    "    \n",
    "    PlotCopy(swap_R[:,0],Lx,Ly,region_geometry,boundary,step_size,ax[2], color='blue')\n",
    "    PlotCopy(swap_R[:,1],Lx,Ly,region_geometry,boundary,step_size,ax[3], color='orange')"
   ]
  },
  {
   "cell_type": "markdown",
   "metadata": {},
   "source": [
    "# Strip region geometry"
   ]
  },
  {
   "cell_type": "code",
   "execution_count": 51,
   "metadata": {},
   "outputs": [],
   "source": [
    "N = 6\n",
    "Lx = 7.926654595212022\n",
    "Ly = 7.926654595212022\n",
    "t = 1j\n",
    "boundary = Ly* 0.5\n",
    "step_size = Lx* 0.09\n",
    "region_geometry = 'strip'\n",
    "\n",
    "R_i = RandomConfigSWAP(N, Lx, Ly, region_geometry, boundary)"
   ]
  },
  {
   "cell_type": "code",
   "execution_count": 52,
   "metadata": {},
   "outputs": [
    {
     "data": {
      "image/png": "[encoded data removed]",
      "text/plain": [
       "<Figure size 500x500 with 1 Axes>"
      ]
     },
     "metadata": {},
     "output_type": "display_data"
    }
   ],
   "source": [
    "fig, ax = plt.subplots(1,1, figsize = (5,5))\n",
    "PlotCopy(R_i[:,0],Lx,Ly,region_geometry,boundary,step_size,ax, color='blue')"
   ]
  },
  {
   "cell_type": "code",
   "execution_count": 53,
   "metadata": {},
   "outputs": [
    {
     "data": {
      "text/plain": [
       "array([False, False, False, False, False,  True])"
      ]
     },
     "execution_count": 53,
     "metadata": {},
     "output_type": "execute_result"
    }
   ],
   "source": [
    "InsideRegion(Lx,Ly,R_i[:,1],region_geometry,boundary)"
   ]
  },
  {
   "cell_type": "code",
   "execution_count": 54,
   "metadata": {},
   "outputs": [],
   "source": [
    "swap_order_i, swap_R_i, where_moves = LocateParticlesSWAP(Lx, Ly, R_i, region_geometry, boundary, step_size)"
   ]
  },
  {
   "cell_type": "code",
   "execution_count": 60,
   "metadata": {},
   "outputs": [
    {
     "data": {
      "text/plain": [
       "array([[ 0,  0,  0,  0],\n",
       "       [ 0,  0,  0,  0],\n",
       "       [ 0,  0,  0,  0],\n",
       "       [ 0,  0,  1,  0],\n",
       "       [ 0,  0,  0,  0],\n",
       "       [ 0,  0, -1,  0]], dtype=int8)"
      ]
     },
     "execution_count": 60,
     "metadata": {},
     "output_type": "execute_result"
    }
   ],
   "source": [
    "where_moves[:,1,:]"
   ]
  },
  {
   "cell_type": "code",
   "execution_count": 56,
   "metadata": {},
   "outputs": [
    {
     "data": {
      "image/png": "[encoded data removed]",
      "text/plain": [
       "<Figure size 1200x260 with 4 Axes>"
      ]
     },
     "metadata": {},
     "output_type": "display_data"
    }
   ],
   "source": [
    "PlotSystem(R_i, Lx, Ly, region_geometry, boundary, step_size, swap_R_i)"
   ]
  },
  {
   "cell_type": "code",
   "execution_count": 58,
   "metadata": {},
   "outputs": [
    {
     "data": {
      "image/png": "[encoded data removed]",
      "text/plain": [
       "<Figure size 1200x260 with 4 Axes>"
      ]
     },
     "metadata": {},
     "output_type": "display_data"
    },
    {
     "data": {
      "image/png": "[encoded data removed]",
      "text/plain": [
       "<Figure size 1200x260 with 4 Axes>"
      ]
     },
     "metadata": {},
     "output_type": "display_data"
    }
   ],
   "source": [
    "R_f, p, delta = StepOneSWAPRandom(\n",
    "                Lx, Ly, t, step_size, R_i, where_moves)\n",
    "swap_order_f, swap_R_f = UpdateOrderSWAP(R_f, swap_order_i, swap_R_i, p, delta[0], where_moves[:,0,:])\n",
    "while np.count_nonzero(InsideRegion(Lx,Ly,R_f[:,0],region_geometry, boundary)) == 1:\n",
    "        R_f, p, delta = StepOneSWAPRandom(\n",
    "                Lx, Ly, t, step_size, R_i, where_moves)\n",
    "        swap_order_f, swap_R_f = UpdateOrderSWAP(R_f, swap_order_i, swap_R_i, p, delta[0], where_moves[:,0,:])\n",
    "\n",
    "PlotSystem(R_i, Lx, Ly, region_geometry, boundary, step_size, swap_R_i)\n",
    "PlotSystem(R_f, Lx, Ly, region_geometry, boundary, step_size, swap_R_f)"
   ]
  },
  {
   "cell_type": "code",
   "execution_count": 61,
   "metadata": {},
   "outputs": [],
   "source": [
    "R_i = np.copy(R_f)\n",
    "for i in range(2):\n",
    "    TrackParticleMoves(R_i, p[i], i, where_moves, Lx, Ly,\n",
    "                                   region_geometry, boundary, step_size)"
   ]
  },
  {
   "cell_type": "code",
   "execution_count": 63,
   "metadata": {},
   "outputs": [
    {
     "data": {
      "text/plain": [
       "array([[ 0,  0, -1,  0],\n",
       "       [ 0,  0,  0,  0],\n",
       "       [ 0,  0,  0,  0],\n",
       "       [ 0,  0,  0,  0],\n",
       "       [ 0,  0,  0, -1],\n",
       "       [ 0,  0,  0,  1]], dtype=int8)"
      ]
     },
     "execution_count": 63,
     "metadata": {},
     "output_type": "execute_result"
    }
   ],
   "source": [
    "where_moves[:,0,:]"
   ]
  },
  {
   "cell_type": "code",
   "execution_count": null,
   "metadata": {},
   "outputs": [],
   "source": []
  }
 ],
 "metadata": {
  "kernelspec": {
   "display_name": "base",
   "language": "python",
   "name": "python3"
  },
  "language_info": {
   "codemirror_mode": {
    "name": "ipython",
    "version": 3
   },
   "file_extension": ".py",
   "mimetype": "text/x-python",
   "name": "python",
   "nbconvert_exporter": "python",
   "pygments_lexer": "ipython3",
   "version": "3.10.12"
  },
  "orig_nbformat": 4
 },
 "nbformat": 4,
 "nbformat_minor": 2
}
