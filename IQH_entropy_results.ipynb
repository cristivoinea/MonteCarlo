{
 "cells": [
  {
   "cell_type": "code",
   "execution_count": 1,
   "metadata": {},
   "outputs": [],
   "source": [
    "import numpy as np\n",
    "import matplotlib.pyplot as plt\n",
    "from utilities import Stats"
   ]
  },
  {
   "cell_type": "markdown",
   "metadata": {},
   "source": [
    "## Renyi entropy $S_{2}$ from MC simulation"
   ]
  },
  {
   "cell_type": "code",
   "execution_count": 2,
   "metadata": {},
   "outputs": [],
   "source": [
    "N = 20\n",
    "#aspect ratio Ly/Lx\n",
    "rs = np.linspace(0.8, 1.2, 5, endpoint=True)\n",
    "#non-thermal iterations\n",
    "M0 = 1e5"
   ]
  },
  {
   "cell_type": "code",
   "execution_count": 40,
   "metadata": {},
   "outputs": [
    {
     "name": "stdout",
     "output_type": "stream",
     "text": [
      "0.236275 0.023832967241078057 (-0.013691468478238693-0.008747797709656021j)\n",
      "0.24505 0.030511499922687785 (-0.006365760115035807-0.01320070807555134j)\n",
      "0.260225 0.043828151546798755 (0.011280851982234684+0.01595719085303015j)\n",
      "0.265975 0.05775650581158386 (0.012846860793865484-0.01831550745520517j)\n",
      "0.2568 0.038866603003408606 (-0.009933660161356484-0.007476270263916283j)\n"
     ]
    }
   ],
   "source": [
    "Ns = N\n",
    "Lxs = np.sqrt(2*np.pi*Ns/rs)\n",
    "Lys = Lxs*rs\n",
    "\n",
    "S2 = np.zeros(rs.size)\n",
    "err = np.zeros(rs.size)\n",
    "\n",
    "for i in range(rs.size):\n",
    "    p = np.real(np.loadtxt(f\"IQHE_entropy_results/N_{N}/p_N_{N}_r_{rs[i]:.2f}.dat\", dtype=complex))\n",
    "    p = p[M0:]\n",
    "    mean_p, std_p = Stats(p)\n",
    "    var_p = std_p**2/(p.size)\n",
    "    \n",
    "    mod = np.real(np.loadtxt(f\"IQHE_entropy_results/N_{N}/mod_N_{N}_r_{rs[i]:.2f}.dat\", dtype=complex))\n",
    "    mod = mod[M0:]\n",
    "    mean_mod, std_mod = Stats(mod)\n",
    "    var_mod = std_mod**2/(mod.size)\n",
    "    \n",
    "    sign = np.loadtxt(f\"IQHE_entropy_results/N_{N}/sign_N_{N}_r_{rs[i]:.2f}.dat\", dtype=complex)\n",
    "    sign = sign[M0:]\n",
    "    mean_sign, std_sign = Stats(sign)\n",
    "\n",
    "    print(mean_p, mean_mod, mean_sign)\n",
    "    mean_sign = np.abs(mean_sign)\n",
    "    std_sign = np.real(std_sign)\n",
    "    \n",
    "    var_sign = std_sign**2/(sign.size)\n",
    "\n",
    "    #S2[i] = -np.log(mean_p*mean_mod*mean_sign)\n",
    "    #err[i] = np.sqrt(var_p/(mean_p**2) + var_mod/(mean_mod**2) + var_sign/(mean_sign**2))\n",
    "\n",
    "    S2[i] = -np.log(mean_p*mean_mod)\n",
    "    err[i] = np.sqrt(var_p/(mean_p**2) + var_mod/(mean_mod**2))"
   ]
  },
  {
   "cell_type": "code",
   "execution_count": 5,
   "metadata": {},
   "outputs": [
    {
     "name": "stdout",
     "output_type": "stream",
     "text": [
      "900000\n",
      "aspect ratio = 1\n",
      "sign.real = 0.0023466109909612664 +- 0.0007448455708488797\n",
      "sign.imag = -0.0026649919780786296 +- 0.0007458575008085031\n"
     ]
    }
   ],
   "source": [
    "rs = np.array([1])\n",
    "for i in range(rs.size):\n",
    "    sign = np.loadtxt(f\"IQHE_entropy_results/N_{N}/sign_N_{N}_r_{rs[i]:.2f}.dat\", dtype=complex)\n",
    "    sign = sign[100000:]\n",
    "    print(sign.size)\n",
    "    print(f\"aspect ratio = {rs[i]}\")\n",
    "    mean_real, std_real = Stats(np.real(sign))\n",
    "    print(f\"sign.real = {mean_real} +- {std_real/np.sqrt(sign.size)}\")\n",
    "    mean_imag, std_imag = Stats(np.imag(sign))\n",
    "    print(f\"sign.imag = {mean_imag} +- {std_imag/np.sqrt(sign.size)}\")"
   ]
  },
  {
   "cell_type": "code",
   "execution_count": 41,
   "metadata": {},
   "outputs": [
    {
     "data": {
      "text/plain": [
       "array([5.17944438, 4.89594463, 4.47368758, 4.17587224, 4.60707764])"
      ]
     },
     "execution_count": 41,
     "metadata": {},
     "output_type": "execute_result"
    }
   ],
   "source": [
    "S2"
   ]
  },
  {
   "cell_type": "code",
   "execution_count": 42,
   "metadata": {},
   "outputs": [
    {
     "data": {
      "text/plain": [
       "array([0.02816874, 0.04523149, 0.04426884, 0.04164404, 0.03567363])"
      ]
     },
     "execution_count": 42,
     "metadata": {},
     "output_type": "execute_result"
    }
   ],
   "source": [
    "err"
   ]
  },
  {
   "cell_type": "code",
   "execution_count": 43,
   "metadata": {},
   "outputs": [
    {
     "data": {
      "text/plain": [
       "<ErrorbarContainer object of 3 artists>"
      ]
     },
     "execution_count": 43,
     "metadata": {},
     "output_type": "execute_result"
    },
    {
     "data": {
      "image/png": "[encoded data removed]",
      "text/plain": [
       "<Figure size 640x480 with 1 Axes>"
      ]
     },
     "metadata": {},
     "output_type": "display_data"
    }
   ],
   "source": [
    "plt.errorbar(Lxs, S2, err)"
   ]
  },
  {
   "cell_type": "code",
   "execution_count": 22,
   "metadata": {},
   "outputs": [
    {
     "data": {
      "text/plain": [
       "array([8.86226925, 8.35542758, 7.9266546 , 7.55776861, 7.23601255])"
      ]
     },
     "execution_count": 22,
     "metadata": {},
     "output_type": "execute_result"
    }
   ],
   "source": [
    "Lxs"
   ]
  },
  {
   "cell_type": "code",
   "execution_count": null,
   "metadata": {},
   "outputs": [],
   "source": []
  }
 ],
 "metadata": {
  "kernelspec": {
   "display_name": "base",
   "language": "python",
   "name": "python3"
  },
  "language_info": {
   "codemirror_mode": {
    "name": "ipython",
    "version": 3
   },
   "file_extension": ".py",
   "mimetype": "text/x-python",
   "name": "python",
   "nbconvert_exporter": "python",
   "pygments_lexer": "ipython3",
   "version": "3.10.12"
  },
  "orig_nbformat": 4
 },
 "nbformat": 4,
 "nbformat_minor": 2
}
