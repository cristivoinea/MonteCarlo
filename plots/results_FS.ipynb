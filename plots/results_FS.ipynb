{
 "cells": [
  {
   "cell_type": "code",
   "execution_count": 1,
   "metadata": {},
   "outputs": [],
   "source": [
    "import numpy as np\n",
    "import matplotlib.pyplot as plt\n",
    "from utilities import Stats"
   ]
  },
  {
   "cell_type": "code",
   "execution_count": 2,
   "metadata": {},
   "outputs": [],
   "source": [
    "import matplotlib as mpl\n",
    "def update_mpl_param(axeslabel, legend, xtick, ytick):\n",
    "    pgf_with_latex = {                      # setup matplotlib to use latex for output\n",
    "        \"pgf.texsystem\": \"pdflatex\",        # change this if using xetex or lautex\n",
    "        \"text.usetex\": True,                # use LaTeX to write all text\n",
    "        \"font.family\": \"serif\",\n",
    "        \"font.serif\": [],                   # blank entries should cause plots \n",
    "        \"font.sans-serif\": [],              # to inherit fonts from the document\n",
    "        \"font.monospace\": [],\n",
    "        \"axes.labelsize\": axeslabel,               # LaTeX default is 10pt font.\n",
    "        \"font.size\": 14,\n",
    "        \"legend.fontsize\": legend,               # Make the legend/label fonts \n",
    "        \"xtick.labelsize\": xtick,               # a little smaller\n",
    "        \"ytick.labelsize\": ytick,    # default fig size of 0.9 textwidth\n",
    "        \"pgf.preamble\": \"\\n\".join([ # plots will use this preamble\n",
    "            ])\n",
    "        }\n",
    "    mpl.rcParams.update(pgf_with_latex)\n",
    "\n",
    "update_mpl_param(16,14,12,12)"
   ]
  },
  {
   "cell_type": "markdown",
   "metadata": {},
   "source": [
    "## N = 37"
   ]
  },
  {
   "cell_type": "code",
   "execution_count": null,
   "metadata": {},
   "outputs": [],
   "source": [
    "Ne = 37\n",
    "Ns = 74\n",
    "#non-thermal iterations\n",
    "M0 = int(5e5)\n",
    "M = int(5e6)\n",
    "\n",
    "step = 0.05\n",
    "t = 1j\n",
    "\n",
    "boundaries = np.arange(0.08, 0.33, 0.015)\n",
    "ps = np.zeros((boundaries.size,2))\n",
    "for i in range(boundaries.size):\n",
    "    signs = np.loadtxt(f\"free_fermions_mod_Ne_37_Ns_74_t_1.00_circle_{boundaries[i]:.3f}_step_0.050.dat\")\n",
    "    ps[i] = signs\n",
    "np.savetxt(f\"free_fermions_mod_Ne_37_Ns_74_t_1.00_step_0.050_circles.dat\", np.vstack((boundaries, ps.T)).T)\n",
    "\n",
    "#Lxs = np.arange(10,91,10)\n",
    "#Lys = 2*np.pi*Ns/Lxs\n",
    "#rs = Lys/Lxs"
   ]
  },
  {
   "cell_type": "code",
   "execution_count": null,
   "metadata": {},
   "outputs": [],
   "source": [
    "ps = np.loadtxt(\"CFL_entropy_results/free_fermions_circle_patch/free_fermions_p_Ne_37_Ns_74_t_1.00_step_0.050_circles.dat\")\n",
    "boundaries = ps[:,0]\n",
    "p_means_free_fermions = ps[:,1]\n",
    "p_vars_free_fermions = ps[:,2]\n",
    "\n",
    "mods = np.loadtxt(\"CFL_entropy_results/free_fermions_circle_patch/free_fermions_mod_Ne_37_Ns_74_t_1.00_step_0.050_circles.dat\")\n",
    "mod_means_free_fermions = mods[:,1]\n",
    "mod_vars_free_fermions = mods[:,2]\n",
    "\n",
    "signs = np.loadtxt(\"CFL_entropy_results/free_fermions_circle_patch/free_fermions_sign_Ne_37_Ns_74_t_1.00_step_0.050_circles.dat\")\n",
    "sign_means_free_fermions = signs[:,1]\n",
    "sign_vars_free_fermions = signs[:,2]\n",
    "\n",
    "boundaries = boundaries[1:]\n",
    "x = boundaries*np.sqrt(10*np.pi/37)*21.56283174194172\n",
    "\n",
    "p_means_free_fermions = p_means_free_fermions[1:]\n",
    "p_vars_free_fermions = p_vars_free_fermions[1:]\n",
    "\n",
    "mod_means_free_fermions = mod_means_free_fermions[1:]\n",
    "mod_vars_free_fermions = mod_vars_free_fermions[1:]\n",
    "\n",
    "sign_means_free_fermions = sign_means_free_fermions[1:]\n",
    "sign_vars_free_fermions = sign_vars_free_fermions[1:]"
   ]
  },
  {
   "cell_type": "code",
   "execution_count": null,
   "metadata": {},
   "outputs": [],
   "source": [
    "S_MC_free_fermions = -np.log(p_means_free_fermions*mod_means_free_fermions*sign_means_free_fermions)\n",
    "err_free_fermions = np.sqrt(p_vars_free_fermions/(p_means_free_fermions**2) + mod_vars_free_fermions/(mod_means_free_fermions**2) + sign_vars_free_fermions/(sign_means_free_fermions**2))/np.sqrt(M-M0)\n",
    "\n",
    "popt, pcov = np.polyfit(np.log(x), S_MC_free_fermions/x, deg=1, cov=True)"
   ]
  },
  {
   "cell_type": "code",
   "execution_count": null,
   "metadata": {},
   "outputs": [],
   "source": [
    "fig,ax = plt.subplots(1,2, figsize=(10,4))\n",
    "\n",
    "ax[0].errorbar(np.log(x), (S_MC_free_fermions/x), err_free_fermions, marker='x',\n",
    "             color='k', markersize=6, capsize=5, linestyle='none', markerfacecolor='none',\n",
    "             label='Fermi Sea $N=37$')\n",
    "#ax[0].set_title(\"Renyi entropy $S_{2}$, free fermions $N=37$\")\n",
    "ax[0].set_ylabel(\"$S_{2}/\\\\lambda$\")\n",
    "ax[0].set_xlabel(\"$\\\\ln (\\\\lambda)$\")\n",
    "fit = np.arange(0.5,2,0.1)\n",
    "ax[0].plot(fit, popt[0]*fit+popt[1], color='k', linestyle='dashed',\n",
    "           linewidth=1, label='$\\\\kappa_{W} \\\\approx 0.234$')\n",
    "ax[0].legend()\n",
    "\n",
    "ax[1].errorbar(np.log(x), -np.log(p_means_free_fermions*mod_means_free_fermions)/x, np.sqrt(p_vars_free_fermions/p_means_free_fermions**2+mod_vars_free_fermions/mod_means_free_fermions**2)/np.sqrt(M-M0), marker='x',\n",
    "             color='blue', markersize=6, capsize=5, linestyle='none', label='mod')\n",
    "#plt.errorbar(np.log(x), -np.log(mod_means_free_fermions)/x, np.sqrt(mod_vars_free_fermions/mod_means_free_fermions**2)/np.sqrt(M-M0), marker='x',\n",
    "#             color='red', markersize=7, capsize=7)\n",
    "ax[1].errorbar(np.log(x), -np.log(sign_means_free_fermions)/x, np.sqrt(sign_vars_free_fermions/sign_means_free_fermions**2)/np.sqrt(M-M0), marker='x',\n",
    "             color='green', markersize=6, capsize=5, linestyle='none', label='sign')\n",
    "#ax[1].set_title(\"Mod/sign decomposition\")\n",
    "ax[1].set_xlabel(\"$\\\\ln (\\\\lambda)$\")\n",
    "ax[1].set_ylabel(\"$S_{2}/\\\\lambda$\")\n",
    "\n",
    "ax[1].legend(loc='center left')"
   ]
  },
  {
   "cell_type": "markdown",
   "metadata": {},
   "source": [
    "## N = 69"
   ]
  },
  {
   "cell_type": "code",
   "execution_count": 25,
   "metadata": {},
   "outputs": [],
   "source": [
    "Ne = 69\n",
    "Ns = 138\n",
    "#non-thermal iterations\n",
    "M0 = int(1e5)\n",
    "M = int(1e7)\n",
    "\n",
    "step = 0.038\n",
    "t = 1j\n",
    "\n",
    "Lx = np.sqrt(2*np.pi*Ns/np.imag(t))\n",
    "Ly = Lx*np.imag(t)\n",
    "\n",
    "boundaries = np.arange(0.08, 0.301, 0.01)"
   ]
  },
  {
   "cell_type": "code",
   "execution_count": 26,
   "metadata": {},
   "outputs": [],
   "source": [
    "ps = np.zeros((boundaries.size,2))\n",
    "mods = np.zeros((boundaries.size,2))\n",
    "signs = np.zeros((boundaries.size,2))\n",
    "for i in range(boundaries.size):\n",
    "    data = np.loadtxt(f\"CFL_entropy_results/N_69/MC/free_fermions_p_Ne_{Ne}_Ns_{Ns}_t_1.00_circle_{boundaries[i]:.3f}_step_{step:.3f}.dat\")\n",
    "    ps[i] = data\n",
    "    data = np.loadtxt(f\"CFL_entropy_results/N_69/MC/free_fermions_mod_Ne_{Ne}_Ns_{Ns}_t_1.00_circle_{boundaries[i]:.3f}_step_{step:.3f}.dat\")\n",
    "    mods[i] = data\n",
    "    data = np.loadtxt(f\"CFL_entropy_results/N_69/MC/free_fermions_sign_Ne_{Ne}_Ns_{Ns}_t_1.00_circle_{boundaries[i]:.3f}_step_{step:.3f}.dat\")\n",
    "    signs[i] = data[0,:]\n",
    "\n",
    "np.savetxt(f\"free_fermions_Ne_{Ne}_Ns_{Ns}_t_1.00_step_{step:.3f}_circles.dat\", np.vstack((boundaries, ps.T, mods.T, signs.T)).T)\n"
   ]
  },
  {
   "cell_type": "code",
   "execution_count": 64,
   "metadata": {},
   "outputs": [],
   "source": [
    "data = np.loadtxt(f\"free_fermions_Ne_{Ne}_Ns_{Ns}_t_1.00_step_{step:.3f}_circles.dat\")\n",
    "boundaries = data[:,0]\n",
    "p_means_free_fermions = data[:,1]\n",
    "p_vars_free_fermions = data[:,2]\n",
    "mod_means_free_fermions = data[:,3]\n",
    "mod_vars_free_fermions = data[:,4]\n",
    "sign_means_free_fermions = data[:,5]\n",
    "sign_vars_free_fermions = data[:,6]\n",
    "\n",
    "\n",
    "boundaries = boundaries\n",
    "x = boundaries*np.sqrt(20*np.pi/Ne)*Ly\n",
    "p_means_free_fermions = p_means_free_fermions\n",
    "p_vars_free_fermions = p_vars_free_fermions\n",
    "\n",
    "mod_means_free_fermions = mod_means_free_fermions\n",
    "mod_vars_free_fermions = mod_vars_free_fermions\n",
    "\n",
    "sign_means_free_fermions = sign_means_free_fermions\n",
    "sign_vars_free_fermions = sign_vars_free_fermions\n"
   ]
  },
  {
   "cell_type": "code",
   "execution_count": 69,
   "metadata": {},
   "outputs": [],
   "source": [
    "S_MC_free_fermions = -np.log(p_means_free_fermions*mod_means_free_fermions*sign_means_free_fermions)\n",
    "err_free_fermions = np.sqrt(p_vars_free_fermions/(p_means_free_fermions**2) + mod_vars_free_fermions/(mod_means_free_fermions**2) + sign_vars_free_fermions/(sign_means_free_fermions**2))/np.sqrt(M-M0)\n",
    "\n",
    "popt, pcov = np.polyfit(np.log(x)[:-5], S_MC_free_fermions[:-5]/x[:-5], deg=1, w=1/err_free_fermions[:-5], cov=True)"
   ]
  },
  {
   "cell_type": "code",
   "execution_count": 70,
   "metadata": {},
   "outputs": [
    {
     "data": {
      "text/plain": [
       "(array([0.25249378, 0.55050957]), 0.006937074224980883)"
      ]
     },
     "execution_count": 70,
     "metadata": {},
     "output_type": "execute_result"
    }
   ],
   "source": [
    "popt, np.sqrt(pcov[0,0])"
   ]
  },
  {
   "cell_type": "code",
   "execution_count": 71,
   "metadata": {},
   "outputs": [],
   "source": [
    "boundaries_ED = np.arange(0.08, 0.421, 0.01)\n",
    "S_ED = np.zeros(boundaries_ED.size)\n",
    "x_ED = boundaries_ED*np.sqrt(20*np.pi/Ne)*Ly\n",
    "\n",
    "for i in range(boundaries_ED.size):\n",
    "    matrix = np.load(f\"free_fermions_overlaps_N_69_circle_{boundaries_ED[i]:.3f}.npy\")\n",
    "    e, _ = np.linalg.eigh(matrix)\n",
    "    S_ED[i] = -np.sum(np.log(e**2 + (1-e)**2))"
   ]
  },
  {
   "cell_type": "code",
   "execution_count": 99,
   "metadata": {},
   "outputs": [
    {
     "data": {
      "image/png": "[encoded data removed]",
      "text/plain": [
       "<Figure size 1000x500 with 2 Axes>"
      ]
     },
     "metadata": {},
     "output_type": "display_data"
    }
   ],
   "source": [
    "fig,ax = plt.subplots(1,2, figsize=(10,5))\n",
    "#fig.subplots_adjust(bottom=-1)\n",
    "fig.suptitle(\"$N = 69$ free fermions \\n Widom conjecture: $\\kappa_{W} = 0.25$ \", va='top')\n",
    "ax[0].errorbar(np.log(x), (S_MC_free_fermions/x), err_free_fermions, marker='x',\n",
    "             color='k', markersize=6, capsize=5, linestyle='none', markerfacecolor='none',\n",
    "             label='MC')\n",
    "#ax[0].set_title(\"Renyi entropy $S_{2}$, free fermions $N=37$\")\n",
    "ax[0].scatter(np.log(x_ED), (S_ED/x_ED), facecolor='white', edgecolor='red', marker='o', s=20,\n",
    "              label='ED')\n",
    "ax[0].set_ylabel(\"$S_{2}/\\\\lambda$\")\n",
    "ax[0].set_xlabel(\"$\\\\ln (\\\\lambda)$\")\n",
    "fit = np.arange(0.5,2.4,0.1)\n",
    "ax[0].plot(fit, popt[0]*fit+popt[1], color='k', linestyle='dashed',\n",
    "           linewidth=1, label='$\\\\kappa_\\\\mathrm{MC}$ '+f'$ = {popt[0]:.3f} \\\\pm {np.sqrt(pcov[0,0]):.3f}$')\n",
    "ax[0].legend()\n",
    "\n",
    "ax[1].errorbar(np.log(x), -np.log(p_means_free_fermions*mod_means_free_fermions)/x, np.sqrt(p_vars_free_fermions/p_means_free_fermions**2+mod_vars_free_fermions/mod_means_free_fermions**2)/np.sqrt(M-M0), marker='x',\n",
    "             color='blue', markersize=6, capsize=5, linestyle='none', label='mod')\n",
    "#plt.errorbar(np.log(x), -np.log(mod_means_free_fermions)/x, np.sqrt(mod_vars_free_fermions/mod_means_free_fermions**2)/np.sqrt(M-M0), marker='x',\n",
    "#             color='red', markersize=7, capsize=7)\n",
    "ax[1].errorbar(np.log(x), -np.log(sign_means_free_fermions)/x, np.sqrt(sign_vars_free_fermions/sign_means_free_fermions**2)/np.sqrt(M-M0), marker='x',\n",
    "             color='green', markersize=6, capsize=5, linestyle='none', label='sign')\n",
    "#ax[1].set_title(\"Mod/sign decomposition\")\n",
    "ax[1].set_xlabel(\"$\\\\ln (\\\\lambda)$\")\n",
    "ax[1].set_ylabel(\"$S_{2}/\\\\lambda$\")\n",
    "\n",
    "ax[1].legend(loc='center left')\n",
    "\n",
    "fig.tight_layout(pad=0.2)"
   ]
  },
  {
   "cell_type": "markdown",
   "metadata": {},
   "source": [
    "N = 69"
   ]
  },
  {
   "cell_type": "code",
   "execution_count": null,
   "metadata": {},
   "outputs": [],
   "source": []
  },
  {
   "cell_type": "code",
   "execution_count": null,
   "metadata": {},
   "outputs": [],
   "source": []
  }
 ],
 "metadata": {
  "kernelspec": {
   "display_name": "base",
   "language": "python",
   "name": "python3"
  },
  "language_info": {
   "codemirror_mode": {
    "name": "ipython",
    "version": 3
   },
   "file_extension": ".py",
   "mimetype": "text/x-python",
   "name": "python",
   "nbconvert_exporter": "python",
   "pygments_lexer": "ipython3",
   "version": "3.10.12"
  }
 },
 "nbformat": 4,
 "nbformat_minor": 2
}
