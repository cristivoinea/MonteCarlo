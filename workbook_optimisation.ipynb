{
 "cells": [
  {
   "cell_type": "code",
   "execution_count": 1,
   "metadata": {},
   "outputs": [],
   "source": [
    "import numpy as np\n",
    "import matplotlib.pyplot as plt \n",
    "from numba import njit, prange"
   ]
  },
  {
   "cell_type": "code",
   "execution_count": 6,
   "metadata": {},
   "outputs": [],
   "source": [
    "from MonteCarloTorusSWAP import RandomConfig\n",
    "from WavefnCFL import InitialJastrowsCFL, InitialJKMatrixCFL\n",
    "from WavefnLaughlin import ThetaFunction\n",
    "from utilities import fermi_sea_kx, fermi_sea_ky"
   ]
  },
  {
   "cell_type": "code",
   "execution_count": 4,
   "metadata": {},
   "outputs": [],
   "source": [
    "@njit(parallel=True)\n",
    "def UpdateJastrowsCFL(t: np.complex128, Lx: np.float64,\n",
    "                      coords_tmp: np.array, Ks: np.array,\n",
    "                      jastrows: np.array, jastrows_tmp: np.array,\n",
    "                      JK_matrix_tmp: np.array, moved_particle: np.uint16):\n",
    "    \"\"\"\n",
    "    Given new coordinates where we moved one single particle, this method\n",
    "    updates the jastrow factors and the JK matrix.\n",
    "    \"\"\"\n",
    "    Ne = coords_tmp.size\n",
    "\n",
    "    # JK_matrix_tmp[:, moved_particle] = np.ones(Ne)\n",
    "\n",
    "    for k in prange(Ne):\n",
    "        JK_matrix_tmp[k, moved_particle] = np.exp(\n",
    "            1j*np.real(Ks[k])*coords_tmp[moved_particle])\n",
    "        for i in range(Ne):\n",
    "            if i != moved_particle:\n",
    "                jastrows_tmp[i, moved_particle, k] = ThetaFunction(\n",
    "                    (coords_tmp[i] - coords_tmp[moved_particle] + 2*1j*Ks[k])/Lx, t, 1/2, 1/2)\n",
    "                jastrows_tmp[moved_particle, i, k] = ThetaFunction(\n",
    "                    (coords_tmp[moved_particle] - coords_tmp[i] + 2*1j*Ks[k])/Lx, t, 1/2, 1/2)\n",
    "\n",
    "                JK_matrix_tmp[k, i] *= (jastrows_tmp[i, moved_particle, k] /\n",
    "                                        jastrows[i, moved_particle, k])\n",
    "\n",
    "                JK_matrix_tmp[k, moved_particle] *= jastrows_tmp[moved_particle,\n",
    "                                                                 i, k]\n"
   ]
  },
  {
   "cell_type": "code",
   "execution_count": 9,
   "metadata": {},
   "outputs": [],
   "source": [
    "Ne = 21\n",
    "Lx = Ly = 12.28\n",
    "t = 1j\n",
    "Ks = (fermi_sea_kx[Ne] + 1j*fermi_sea_ky[Ne])*2*np.pi/Lx\n",
    "coords = RandomConfig(Ne, Lx, Ly)\n",
    "jastrows = np.zeros((Ne, Ne, Ne), dtype=np.complex128)\n",
    "JK_matrix = np.zeros((Ne, Ne), dtype=np.complex128)\n",
    "\n",
    "InitialJastrowsCFL(t, Lx, coords, Ks, jastrows)\n",
    "jastrows_tmp = np.copy(jastrows)\n",
    "InitialJKMatrixCFL(coords, Ks, jastrows, JK_matrix)\n",
    "\n",
    "coords_tmp = np.copy(coords)\n",
    "coords_tmp[3] += 1"
   ]
  },
  {
   "cell_type": "code",
   "execution_count": 10,
   "metadata": {},
   "outputs": [
    {
     "name": "stdout",
     "output_type": "stream",
     "text": [
      " \n",
      "================================================================================\n",
      " Parallel Accelerator Optimizing:  Function UpdateJastrowsCFL, \n",
      "C:\\Users\\crist\\AppData\\Local\\Temp\\ipykernel_22696\\63327697.py (1)  \n",
      "================================================================================\n",
      "\n",
      "\n",
      "Parallel loop listing for  Function UpdateJastrowsCFL, C:\\Users\\crist\\AppData\\Local\\Temp\\ipykernel_22696\\63327697.py (1) \n",
      "--------------------------------------------------------------------------------------------------|loop #ID\n",
      "@njit(parallel=True)                                                                              | \n",
      "def UpdateJastrowsCFL(t: np.complex128, Lx: np.float64,                                           | \n",
      "                      coords_tmp: np.array, Ks: np.array,                                         | \n",
      "                      jastrows: np.array, jastrows_tmp: np.array,                                 | \n",
      "                      JK_matrix_tmp: np.array, moved_particle: np.uint16):                        | \n",
      "    \"\"\"                                                                                           | \n",
      "    Given new coordinates where we moved one single particle, this method                         | \n",
      "    updates the jastrow factors and the JK matrix.                                                | \n",
      "    \"\"\"                                                                                           | \n",
      "    Ne = coords_tmp.size                                                                          | \n",
      "                                                                                                  | \n",
      "    # JK_matrix_tmp[:, moved_particle] = np.ones(Ne)                                              | \n",
      "                                                                                                  | \n",
      "    for k in prange(Ne):--------------------------------------------------------------------------| #0\n",
      "        JK_matrix_tmp[k, moved_particle] = np.exp(                                                | \n",
      "            1j*np.real(Ks[k])*coords_tmp[moved_particle])                                         | \n",
      "        for i in range(Ne):                                                                       | \n",
      "            if i != moved_particle:                                                               | \n",
      "                jastrows_tmp[i, moved_particle, k] = ThetaFunction(                               | \n",
      "                    (coords_tmp[i] - coords_tmp[moved_particle] + 2*1j*Ks[k])/Lx, t, 1/2, 1/2)    | \n",
      "                jastrows_tmp[moved_particle, i, k] = ThetaFunction(                               | \n",
      "                    (coords_tmp[moved_particle] - coords_tmp[i] + 2*1j*Ks[k])/Lx, t, 1/2, 1/2)    | \n",
      "                                                                                                  | \n",
      "                JK_matrix_tmp[k, i] *= (jastrows_tmp[i, moved_particle, k] /                      | \n",
      "                                        jastrows[i, moved_particle, k])                           | \n",
      "                                                                                                  | \n",
      "                JK_matrix_tmp[k, moved_particle] *= jastrows_tmp[moved_particle,                  | \n",
      "                                                                 i, k]                            | \n",
      "--------------------------------- Fusing loops ---------------------------------\n",
      "Attempting fusion of parallel loops (combines loops with similar properties)...\n",
      "----------------------------- Before Optimisation ------------------------------\n",
      "--------------------------------------------------------------------------------\n",
      "------------------------------ After Optimisation ------------------------------\n",
      "Parallel structure is already optimal.\n",
      "--------------------------------------------------------------------------------\n",
      "--------------------------------------------------------------------------------\n",
      " \n",
      "---------------------------Loop invariant code motion---------------------------\n",
      "Allocation hoisting:\n",
      "No allocation hoisting found\n",
      "\n",
      "Instruction hoisting:\n",
      "loop #0:\n",
      "  Has the following hoisted:\n",
      "    bool78 = global(bool: <class 'bool'>)\n",
      "    $80load_global.2 = global(ThetaFunction: CPUDispatcher(<function ThetaFunction at 0x00000249FCB43D00>))\n",
      "    $92binary_subscr.8 = getitem(value=coords__tmp, index=moved__particle, fn=<built-in function getitem>)\n",
      "    $const96.10 = const(complex, 2j)\n",
      "    $const114.19 = const(float, 0.5)\n",
      "    $const116.20 = const(float, 0.5)\n",
      "    $132load_global.27 = global(ThetaFunction: CPUDispatcher(<function ThetaFunction at 0x00000249FCB43D00>))\n",
      "    $138binary_subscr.30 = getitem(value=coords__tmp, index=moved__particle, fn=<built-in function getitem>)\n",
      "    $const148.35 = const(complex, 2j)\n",
      "    $const166.44 = const(float, 0.5)\n",
      "    $const168.45 = const(float, 0.5)\n",
      "    $const24.4 = const(complex, 1j)\n",
      "    $44binary_subscr.14 = getitem(value=coords__tmp, index=moved__particle, fn=<built-in function getitem>)\n",
      "    $60load_global.21 = global(range: <class 'range'>)\n",
      "  Failed to hoist the following:\n",
      "    dependency: $68for_iter.2 = iternext(value=$66get_iter.24)\n",
      "    dependency: $i.30 = pair_first(value=$68for_iter.2)\n",
      "    dependency: $68for_iter.4 = pair_second(value=$68for_iter.2)\n",
      "    dependency: $76compare_op.5 = $i.30 != moved__particle\n",
      "    dependency: $78pred = call $push_global_to_block.43($76compare_op.5, func=$push_global_to_block.43, args=(Var($76compare_op.5, 63327697.py:18),), kws=(), vararg=None, varkwarg=None, target=None)\n",
      "    dependency: $86binary_subscr.5 = getitem(value=coords__tmp, index=$i.30, fn=<built-in function getitem>)\n",
      "    dependency: $94binary_subtract.9 = $86binary_subscr.5 - $92binary_subscr.8\n",
      "    dependency: $102binary_subscr.13 = getitem(value=Ks, index=$parfor__index_26.47, fn=<built-in function getitem>)\n",
      "    dependency: $104binary_multiply.14 = $const96.10 * $102binary_subscr.13\n",
      "    dependency: $106binary_add.15 = $94binary_subtract.9 + $104binary_multiply.14\n",
      "    dependency: $110binary_true_divide.17 = $106binary_add.15 / Lx\n",
      "    dependency: $118call_function.21 = call $push_global_to_block.44($110binary_true_divide.17, t, $const114.19, $const116.20, func=$push_global_to_block.44, args=[Var($110binary_true_divide.17, 63327697.py:20), Var(t, 63327697.py:1), Var($const114.19, 63327697.py:20), Var($const116.20, 63327697.py:20)], kws=(), vararg=None, varkwarg=None, target=None)\n",
      "    dependency: $128build_tuple.26 = build_tuple(items=[Var($i.30, 63327697.py:17), Var(moved__particle, 63327697.py:1), Var($parfor__index_26.47, <string>:2)])\n",
      "    dependency: $144binary_subscr.33 = getitem(value=coords__tmp, index=$i.30, fn=<built-in function getitem>)\n",
      "    dependency: $146binary_subtract.34 = $138binary_subscr.30 - $144binary_subscr.33\n",
      "    dependency: $154binary_subscr.38 = getitem(value=Ks, index=$parfor__index_26.47, fn=<built-in function getitem>)\n",
      "    dependency: $156binary_multiply.39 = $const148.35 * $154binary_subscr.38\n",
      "    dependency: $158binary_add.40 = $146binary_subtract.34 + $156binary_multiply.39\n",
      "    dependency: $162binary_true_divide.42 = $158binary_add.40 / Lx\n",
      "    dependency: $170call_function.46 = call $push_global_to_block.45($162binary_true_divide.42, t, $const166.44, $const168.45, func=$push_global_to_block.45, args=[Var($162binary_true_divide.42, 63327697.py:22), Var(t, 63327697.py:1), Var($const166.44, 63327697.py:22), Var($const168.45, 63327697.py:22)], kws=(), vararg=None, varkwarg=None, target=None)\n",
      "    dependency: $180build_tuple.51 = build_tuple(items=[Var(moved__particle, 63327697.py:1), Var($i.30, 63327697.py:17), Var($parfor__index_26.47, <string>:2)])\n",
      "    dependency: $190build_tuple.55 = build_tuple(items=[Var($parfor__index_26.47, <string>:2), Var($i.30, 63327697.py:17)])\n",
      "    dependency: $194binary_subscr.58 = getitem(value=JK__matrix__tmp, index=$190build_tuple.55, fn=<built-in function getitem>)\n",
      "    dependency: $204build_tuple.63 = build_tuple(items=[Var($i.30, 63327697.py:17), Var(moved__particle, 63327697.py:1), Var($parfor__index_26.47, <string>:2)])\n",
      "    dependency: $206binary_subscr.64 = getitem(value=jastrows__tmp, index=$204build_tuple.63, fn=<built-in function getitem>)\n",
      "    dependency: $216build_tuple.69 = build_tuple(items=[Var($i.30, 63327697.py:17), Var(moved__particle, 63327697.py:1), Var($parfor__index_26.47, <string>:2)])\n",
      "    dependency: $218binary_subscr.70 = getitem(value=jastrows, index=$216build_tuple.69, fn=<built-in function getitem>)\n",
      "    dependency: $220binary_true_divide.71 = $206binary_subscr.64 / $218binary_subscr.70\n",
      "    dependency: $222inplace_multiply.72 = inplace_binop(fn=<built-in function imul>, immutable_fn=<built-in function mul>, lhs=$194binary_subscr.58, rhs=$220binary_true_divide.71, static_lhs=Undefined, static_rhs=Undefined)\n",
      "    dependency: $234build_tuple.76 = build_tuple(items=[Var($parfor__index_26.47, <string>:2), Var(moved__particle, 63327697.py:1)])\n",
      "    dependency: $238binary_subscr.79 = getitem(value=JK__matrix__tmp, index=$234build_tuple.76, fn=<built-in function getitem>)\n",
      "    dependency: $248build_tuple.84 = build_tuple(items=[Var(moved__particle, 63327697.py:1), Var($i.30, 63327697.py:17), Var($parfor__index_26.47, <string>:2)])\n",
      "    dependency: $250binary_subscr.85 = getitem(value=jastrows__tmp, index=$248build_tuple.84, fn=<built-in function getitem>)\n",
      "    dependency: $252inplace_multiply.86 = inplace_binop(fn=<built-in function imul>, immutable_fn=<built-in function mul>, lhs=$238binary_subscr.79, rhs=$250binary_subscr.85, static_lhs=Undefined, static_rhs=Undefined)\n",
      "    dependency: $22load_method.3 = getattr(value=$20load_global.2, attr=exp)\n",
      "    dependency: $28load_method.6 = getattr(value=$26load_global.5, attr=real)\n",
      "    dependency: $34binary_subscr.9 = getitem(value=Ks, index=$parfor__index_26.47, fn=<built-in function getitem>)\n",
      "    dependency: $36call_method.10 = call $28load_method.6($34binary_subscr.9, func=$28load_method.6, args=[Var($34binary_subscr.9, 63327697.py:16)], kws=(), vararg=None, varkwarg=None, target=None)\n",
      "    dependency: $38binary_multiply.11 = $const24.4 * $36call_method.10\n",
      "    dependency: $46binary_multiply.15 = $38binary_multiply.11 * $44binary_subscr.14\n",
      "    dependency: $48call_method.16 = call $22load_method.3($46binary_multiply.15, func=$22load_method.3, args=[Var($46binary_multiply.15, 63327697.py:16)], kws=(), vararg=None, varkwarg=None, target=None)\n",
      "    dependency: $56build_tuple.20 = build_tuple(items=[Var($parfor__index_26.47, <string>:2), Var(moved__particle, 63327697.py:1)])\n",
      "    not pure: $64call_function.23 = call $push_global_to_block.46(Ne, func=$push_global_to_block.46, args=[Var(Ne, 63327697.py:10)], kws=(), vararg=None, varkwarg=None, target=None)\n",
      "    dependency: $66get_iter.24 = getiter(value=$64call_function.23)\n",
      "--------------------------------------------------------------------------------\n"
     ]
    }
   ],
   "source": [
    "UpdateJastrowsCFL(t, Lx, coords_tmp, Ks, jastrows, jastrows_tmp,\n",
    "                      JK_matrix, moved_particle = 3)\n",
    "\n",
    "UpdateJastrowsCFL.parallel_diagnostics(level=4)"
   ]
  },
  {
   "cell_type": "code",
   "execution_count": 2,
   "metadata": {},
   "outputs": [],
   "source": [
    "%load_ext line_profiler\n",
    "from MonteCarloTorusSWAP import RunPSwapCFL, RunModSwapCFL, RunSignSwapCFL"
   ]
  },
  {
   "cell_type": "code",
   "execution_count": 3,
   "metadata": {},
   "outputs": [],
   "source": [
    "region = 'circle'"
   ]
  },
  {
   "cell_type": "code",
   "execution_count": 5,
   "metadata": {},
   "outputs": [
    {
     "name": "stdout",
     "output_type": "stream",
     "text": [
      "Torus dimensions \n",
      "Lx =  12.279920495357862 \n",
      "Ly =  12.279920495357862\n",
      "Iteration 1000 done, current acceptance ratio: 43.8 %\n",
      "Iteration 2000 done, current acceptance ratio: 43.2 %\n",
      "Iteration 3000 done, current acceptance ratio: 42.33 %\n",
      "Iteration 4000 done, current acceptance ratio: 41.6 %\n",
      "Iteration 5000 done, current acceptance ratio: 41.36 %\n",
      "Iteration 6000 done, current acceptance ratio: 41.28 %\n",
      "Iteration 7000 done, current acceptance ratio: 41.64 %\n",
      "Iteration 8000 done, current acceptance ratio: 41.68 %\n",
      "Iteration 9000 done, current acceptance ratio: 41.43 %\n",
      "Iteration 10000 done, current acceptance ratio: 41.75 %\n",
      "Iteration 11000 done, current acceptance ratio: 41.7 %\n",
      "Iteration 12000 done, current acceptance ratio: 41.73 %\n",
      "Iteration 13000 done, current acceptance ratio: 41.59 %\n",
      "Iteration 14000 done, current acceptance ratio: 41.59 %\n",
      "Iteration 15000 done, current acceptance ratio: 41.61 %\n",
      "Iteration 16000 done, current acceptance ratio: 41.9 %\n",
      "Iteration 17000 done, current acceptance ratio: 42.03 %\n",
      "Iteration 18000 done, current acceptance ratio: 42.12 %\n",
      "Iteration 19000 done, current acceptance ratio: 42.33 %\n",
      "Iteration 20000 done, current acceptance ratio: 42.5 %\n",
      "\n",
      "Mean (real) = 0.4870503922467614 \n",
      " Var (real) = 0.34841034856520875\n",
      "\n",
      "Mean (imag) = -0.017665076354418056 \n",
      " Var (imag) = 0.4140978289183111\n"
     ]
    },
    {
     "name": "stdout",
     "output_type": "stream",
     "text": [
      "Timer unit: 1e-07 s\n",
      "\n",
      "Total time: 20.1361 s\n",
      "File: d:\\fizica\\phd\\MonteCarlo\\MonteCarlo\\MonteCarloTorusSWAP.py\n",
      "Function: RunSignSwapCFL at line 1419\n",
      "\n",
      "Line #      Hits         Time  Per Hit   % Time  Line Contents\n",
      "==============================================================\n",
      "  1419                                           def RunSignSwapCFL(Ne: np.uint8, Ns: np.uint16, t: np.complex64,\n",
      "  1420                                                              M: np.uint32, M0: np.uint32, step_size: np.float64,\n",
      "  1421                                                              region_geometry: str, boundary: np.float64,\n",
      "  1422                                                              kCM: np.uint8 = 0, phi_1: np.float64 = 0, phi_t: np.float64 = 0,\n",
      "  1423                                                              save_config: np.bool_ = True, save_result: np.bool_ = True\n",
      "  1424                                                              ):\n",
      "  1425                                               \"\"\"\n",
      "  1426                                               Parameters:\n",
      "  1427                                           \n",
      "  1428                                               N : number of particles\n",
      "  1429                                               Ns : number of flux quanta\n",
      "  1430                                               t : torus complex aspect ratio\n",
      "  1431                                               M : total number of Monte Carlo interations\n",
      "  1432                                               M0 : number of non-thermal iterations\n",
      "  1433                                               step_size : initial step size in units of Lx\n",
      "  1434                                               region_geometry : geometry of subregion A ('stripe', 'circle')\n",
      "  1435                                               boundary : dimensionless boundary position between regions A and B \n",
      "  1436                                                           geometry = 'stripe' -> boundary specifies the height\n",
      "  1437                                                                                   of the partition (y=0 implicit)\n",
      "  1438                                                           geometry = 'circle' -> boundary specifies the circle radius\n",
      "  1439                                                                                   of the partition (centered)\n",
      "  1440                                               state : specifies the wavefunction of the system \n",
      "  1441                                                       ('laughlin','free_fermions','cfl')\n",
      "  1442                                               kCM, phi_1, phi_t : select the CM momentum and quasi-PBC manifold\n",
      "  1443                                               save_config : indicate whether the coordinate vector and the swap order\n",
      "  1444                                                               are saved (every 5% of the run)\n",
      "  1445                                               save_result : indicate whether the full result vector is saved, the\n",
      "  1446                                                               final mean and variance are saved, or just printed\n",
      "  1447                                               \"\"\"\n",
      "  1448                                           \n",
      "  1449         1        294.0    294.0      0.0      Lx = np.sqrt(2*np.pi*Ns/np.imag(t))\n",
      "  1450         1         37.0     37.0      0.0      Ly = Lx*np.imag(t)\n",
      "  1451         1       1995.0   1995.0      0.0      print(\"Torus dimensions \\nLx = \", Lx, \"\\nLy = \", Ly)\n",
      "  1452                                           \n",
      "  1453         1          3.0      3.0      0.0      acceptance: np.float64 = 0\n",
      "  1454         1          9.0      9.0      0.0      step_size *= Lx\n",
      "  1455         1          4.0      4.0      0.0      boundary *= Ly\n",
      "  1456         1       1649.0   1649.0      0.0      Ks = (fermi_sea_kx[Ne] + 1j*fermi_sea_ky[Ne])*2*np.pi/Lx\n",
      "  1457                                           \n",
      "  1458         1       3277.0   3277.0      0.0      result = np.zeros((M), dtype=np.complex128)\n",
      "  1459                                           \n",
      "  1460         1      11009.0  11009.0      0.0      coords = RandomConfigSWAP(Ne, Lx, Ly, region_geometry, boundary)\n",
      "  1461         2       1010.0    505.0      0.0      to_swap, from_swap = AssignOrderSwap(InsideRegion(Lx, Ly, coords,\n",
      "  1462         1          3.0      3.0      0.0                                                        region_geometry, boundary))\n",
      "  1463         1        107.0    107.0      0.0      to_swap_tmp = np.copy(to_swap)\n",
      "  1464         1         48.0     48.0      0.0      from_swap_tmp = np.copy(from_swap)\n",
      "  1465                                           \n",
      "  1466         2         10.0      5.0      0.0      coords_tmp = np.zeros(\n",
      "  1467         1          6.0      6.0      0.0          (coords.shape[0], coords.shape[1]), dtype=np.complex128)\n",
      "  1468                                           \n",
      "  1469         1          8.0      8.0      0.0      JK_slogdet = np.zeros((2, 4), dtype=np.complex128)\n",
      "  1470         1          7.0      7.0      0.0      JK_slogdet_tmp = np.zeros((2, 4), dtype=np.complex128)\n",
      "  1471         1       4077.0   4077.0      0.0      jastrows = np.ones((2*Ne, 2*Ne, Ne), dtype=np.complex128)\n",
      "  1472         1        309.0    309.0      0.0      JK_matrix = np.zeros((Ne, Ne, 4), dtype=np.complex128)\n",
      "  1473                                           \n",
      "  1474         1        185.0    185.0      0.0      moved_particles = np.zeros(2, dtype=np.uint8)\n",
      "  1475                                           \n",
      "  1476         3         27.0      9.0      0.0      for cp in range(2):\n",
      "  1477         2         16.0      8.0      0.0          JK_slogdet[0, cp], \\\n",
      "  1478         6     271313.0  45218.8      0.1              JK_slogdet[1, cp] = InitialWavefnCFL(t, Lx, coords[:, cp], Ks,\n",
      "  1479         4         38.0      9.5      0.0                                                   jastrows[cp*Ne:(cp+1)*Ne,\n",
      "  1480         2         11.0      5.5      0.0                                                            cp*Ne:(cp+1)*Ne, :],\n",
      "  1481         2         19.0      9.5      0.0                                                   JK_matrix[:, :, cp])\n",
      "  1482         1         65.0     65.0      0.0      JK_slogdet[0, 2:4], \\\n",
      "  1483         3     261244.0  87081.3      0.1          JK_slogdet[1, 2:4] = InitialWavefnSwapCFL(t, Lx, coords, Ks, jastrows,\n",
      "  1484         1         13.0     13.0      0.0                                                    JK_matrix[:, :, 2:], from_swap)\n",
      "  1485         2       3700.0   1850.0      0.0      update = InitialSignCFL(Ne, Ns, t, coords, Ks, JK_slogdet[0, :],\n",
      "  1486         1          3.0      3.0      0.0                              from_swap, kCM, phi_1, phi_t)\n",
      "  1487                                           \n",
      "  1488         1        242.0    242.0      0.0      jastrows_tmp = np.copy(jastrows)\n",
      "  1489         1         63.0     63.0      0.0      JK_matrix_tmp = np.copy(JK_matrix)\n",
      "  1490                                           \n",
      "  1491     20001     122154.0      6.1      0.1      for i in range(M):\n",
      "  1492     20000      90767.0      4.5      0.0          step_amplitude = 1\n",
      "  1493     40000    4696204.0    117.4      2.3          nbr_A_changes = StepOneSwap(\n",
      "  1494     20000     110924.0      5.5      0.1              Lx, t, step_size, coords_tmp, moved_particles, region_geometry, boundary)\n",
      "  1495     60000     495486.0      8.3      0.2          for cp in range(2):\n",
      "  1496                                           \n",
      "  1497     40000     410326.0     10.3      0.2              JK_slogdet_tmp[0, cp], \\\n",
      "  1498    120000  111036228.0    925.3     55.1                  JK_slogdet_tmp[1, cp] = TmpWavefnCFL(t, Lx, coords_tmp[:, cp], Ks,\n",
      "  1499     80000     708995.0      8.9      0.4                                                       jastrows[cp*Ne:(cp+1)*Ne,\n",
      "  1500     40000     313777.0      7.8      0.2                                                                cp*Ne:(cp+1)*Ne, :],\n",
      "  1501     80000     623192.0      7.8      0.3                                                       jastrows_tmp[cp*Ne:(cp+1)*Ne,\n",
      "  1502     40000     281395.0      7.0      0.1                                                                    cp*Ne:(cp+1)*Ne, :],\n",
      "  1503     40000     424211.0     10.6      0.2                                                       JK_matrix_tmp[..., cp], moved_particles[cp])\n",
      "  1504                                           \n",
      "  1505     80000    8360409.0    104.5      4.2              step_amplitude *= StepOneAmplitudeCFL(Ns, t, coords[:, cp], coords_tmp[:, cp],\n",
      "  1506     40000     336501.0      8.4      0.2                                                    JK_slogdet[:, cp],\n",
      "  1507     40000     313541.0      7.8      0.2                                                    JK_slogdet_tmp[:, cp],\n",
      "  1508     40000     260949.0      6.5      0.1                                                    moved_particles[cp],\n",
      "  1509     40000     178046.0      4.5      0.1                                                    Ks, kCM, phi_1, phi_t)\n",
      "  1510                                           \n",
      "  1511     40000     468444.0     11.7      0.2          UpdateOrderSwap(to_swap_tmp, from_swap_tmp,\n",
      "  1512     20000      76969.0      3.8      0.0                          moved_particles, nbr_A_changes)\n",
      "  1513                                           \n",
      "  1514     20000     431708.0     21.6      0.2          JK_slogdet_tmp[0, 2:4], \\\n",
      "  1515     60000   45048624.0    750.8     22.4              JK_slogdet_tmp[1, 2:4] = TmpWavefnSwapCFL(t, Lx, coords_tmp, Ks,\n",
      "  1516     20000      79954.0      4.0      0.0                                                        jastrows, jastrows_tmp,\n",
      "  1517     40000     261757.0      6.5      0.1                                                        JK_matrix_tmp[...,\n",
      "  1518     40000     171322.0      4.3      0.1                                                                      2:4], moved_particles,\n",
      "  1519     20000      73371.0      3.7      0.0                                                        to_swap_tmp, from_swap_tmp)\n",
      "  1520                                           \n",
      "  1521     40000    7294580.0    182.4      3.6          step_amplitude_swap = StepOneAmplitudeSwapCFL(Ns, t, coords, coords_tmp, Ks,\n",
      "  1522     20000     217626.0     10.9      0.1                                                        JK_slogdet[:, 2:4],\n",
      "  1523     20000     194587.0      9.7      0.1                                                        JK_slogdet_tmp[:, 2:4],\n",
      "  1524     20000      74768.0      3.7      0.0                                                        moved_particles,\n",
      "  1525     20000      77831.0      3.9      0.0                                                        from_swap, from_swap_tmp,\n",
      "  1526     20000      84606.0      4.2      0.0                                                        kCM, phi_1, phi_t)\n",
      "  1527     20000     622622.0     31.1      0.3          amplitude = step_amplitude*np.conj(step_amplitude_swap)\n",
      "  1528                                           \n",
      "  1529     20000     909049.0     45.5      0.5          if np.abs(amplitude) > np.random.random():\n",
      "  1530      8500      38874.0      4.6      0.0              accept_bit = 1\n",
      "  1531                                           \n",
      "  1532      8500     235386.0     27.7      0.1              update *= amplitude / np.abs(amplitude)\n",
      "  1533      8500     484036.0     56.9      0.2              np.copyto(coords, coords_tmp)\n",
      "  1534      8500     388271.0     45.7      0.2              np.copyto(to_swap, to_swap_tmp)\n",
      "  1535      8500     374589.0     44.1      0.2              np.copyto(from_swap, from_swap_tmp)\n",
      "  1536     17000    1726494.0    101.6      0.9              ResetJastrowsCFL(jastrows_tmp, jastrows,\n",
      "  1537      8500     114299.0     13.4      0.1                               JK_matrix_tmp[..., 0], JK_matrix[...,  0], moved_particles[0])\n",
      "  1538     17000    1697790.0     99.9      0.8              ResetJastrowsCFL(jastrows_tmp, jastrows,\n",
      "  1539      8500     412501.0     48.5      0.2                               JK_matrix_tmp[..., 1], JK_matrix[...,  1], Ne+moved_particles[1])\n",
      "  1540      8500     480348.0     56.5      0.2              np.copyto(JK_matrix[..., 2], JK_matrix_tmp[..., 2])\n",
      "  1541      8500     478161.0     56.3      0.2              np.copyto(JK_matrix[..., 3], JK_matrix_tmp[..., 3])\n",
      "  1542      8500     382658.0     45.0      0.2              np.copyto(JK_slogdet, JK_slogdet_tmp)\n",
      "  1543                                           \n",
      "  1544                                                   else:\n",
      "  1545     11500      52082.0      4.5      0.0              accept_bit = 0\n",
      "  1546     11500     637723.0     55.5      0.3              np.copyto(coords_tmp, coords)\n",
      "  1547     11500     523879.0     45.6      0.3              np.copyto(to_swap_tmp, to_swap)\n",
      "  1548     11500     506189.0     44.0      0.3              np.copyto(from_swap_tmp, from_swap)\n",
      "  1549     23000    2374798.0    103.3      1.2              ResetJastrowsCFL(jastrows, jastrows_tmp,\n",
      "  1550     11500     153587.0     13.4      0.1                               JK_matrix[..., 0], JK_matrix_tmp[...,  0], moved_particles[0])\n",
      "  1551     23000    2328072.0    101.2      1.2              ResetJastrowsCFL(jastrows, jastrows_tmp,\n",
      "  1552     11500     562951.0     49.0      0.3                               JK_matrix[..., 1], JK_matrix_tmp[...,  1], Ne+moved_particles[1])\n",
      "  1553     11500     648835.0     56.4      0.3              np.copyto(JK_matrix_tmp[..., 2], JK_matrix[..., 2])\n",
      "  1554     11500     642836.0     55.9      0.3              np.copyto(JK_matrix_tmp[..., 3], JK_matrix[..., 3])\n",
      "  1555                                           \n",
      "  1556     20000     160978.0      8.0      0.1          result[i] = update\n",
      "  1557     20000     229231.0     11.5      0.1          acceptance = (acceptance*i + accept_bit)/(i + 1)\n",
      "  1558                                           \n",
      "  1559     20000     258175.0     12.9      0.1          if (i+1) % (M//20) == 0:\n",
      "  1560        40      36991.0    924.8      0.0              print('Iteration', i+1, 'done, current acceptance ratio:',\n",
      "  1561        20      12137.0    606.9      0.0                    np.round(acceptance*100, 2), '%')\n",
      "  1562        20        162.0      8.1      0.0              if save_config:\n",
      "  1563                                                           SaveConfig('cfl', 'sign', Ne, Ns, Lx, Ly, t, step_size, region_geometry, boundary,\n",
      "  1564                                                                      result, coords, to_swap)\n",
      "  1565                                           \n",
      "  1566         2       6741.0   3370.5      0.0      SaveResult('cfl', 'sign', Ne, Ns, Lx, Ly, M0, t, step_size,\n",
      "  1567         1          5.0      5.0      0.0                 result, save_result, region_geometry, boundary)"
     ]
    }
   ],
   "source": [
    "%lprun -f RunSignSwapCFL RunSignSwapCFL(12, 24, 1j, 20000, 100, 0.1, region, boundary=0.23, save_config=False, save_result=False)"
   ]
  },
  {
   "cell_type": "markdown",
   "metadata": {},
   "source": [
    "### Optimisation to-do\n",
    "- for laughlin wavefn, store theta functions of current coords so we don't have to calcualte those O(n) again for the current step"
   ]
  },
  {
   "cell_type": "code",
   "execution_count": null,
   "metadata": {},
   "outputs": [],
   "source": [
    "from cmath import exp"
   ]
  },
  {
   "cell_type": "code",
   "execution_count": null,
   "metadata": {},
   "outputs": [],
   "source": [
    "@njit#(parallel=True)\n",
    "def ThetaFunction(z: np.complex128, t: np.complex128, a: np.float64,\n",
    "                  b: np.float64, n_max: np.uint32 = 1000\n",
    "                  ) -> np.complex128:\n",
    "    index = np.arange(-n_max, n_max, 1)\n",
    "    x = t*a + 2*(z+b)\n",
    "    terms = np.exp(1j*np.pi*(index+a)*(t*index + x))\n",
    "    return np.sum(terms)"
   ]
  },
  {
   "cell_type": "markdown",
   "metadata": {},
   "source": [
    "## How many theta functon terms to converge to machine precision"
   ]
  },
  {
   "cell_type": "code",
   "execution_count": null,
   "metadata": {},
   "outputs": [],
   "source": [
    "N = 60\n",
    "x, y = np.meshgrid(np.linspace(-2,2,N), np.linspace(-2,2,N), indexing='xy')\n",
    "z = x + 1j*y\n",
    "tf_grid_1 = np.zeros((N,N), dtype=np.complex128)\n",
    "tf_grid_2 = np.zeros((N,N), dtype=np.complex128)\n",
    "\n",
    "for i in range(N):\n",
    "    for j in range(N):\n",
    "        tf_grid_1[i,j] = ThetaFunction(z[i,j], 1j, 1/2, 1/2,6)\n",
    "        tf_grid_2[i,j] = ThetaFunction(z[i,j], 1j, 1/2, 1/2,11)"
   ]
  },
  {
   "cell_type": "code",
   "execution_count": null,
   "metadata": {},
   "outputs": [
    {
     "data": {
      "text/plain": [
       "(2.3828557978614704+0j)"
      ]
     },
     "execution_count": 35,
     "metadata": {},
     "output_type": "execute_result"
    }
   ],
   "source": [
    "ThetaFunction(-0.5-0.5*1j, 1j, 1/2, 1/2,2500)"
   ]
  },
  {
   "cell_type": "code",
   "execution_count": null,
   "metadata": {},
   "outputs": [
    {
     "data": {
      "text/plain": [
       "0.0"
      ]
     },
     "execution_count": 36,
     "metadata": {},
     "output_type": "execute_result"
    }
   ],
   "source": [
    "np.sum(np.real(tf_grid_1-tf_grid_2)**2)"
   ]
  },
  {
   "cell_type": "code",
   "execution_count": null,
   "metadata": {},
   "outputs": [
    {
     "data": {
      "text/plain": [
       "<matplotlib.colorbar.Colorbar at 0x1bc459f2650>"
      ]
     },
     "execution_count": 37,
     "metadata": {},
     "output_type": "execute_result"
    },
    {
     "data": {
      "image/png": "[encoded data removed]",
      "text/plain": [
       "<Figure size 640x480 with 2 Axes>"
      ]
     },
     "metadata": {},
     "output_type": "display_data"
    }
   ],
   "source": [
    "plt.imshow(np.real(tf_grid_1-tf_grid_2))\n",
    "plt.colorbar()"
   ]
  },
  {
   "cell_type": "code",
   "execution_count": null,
   "metadata": {},
   "outputs": [],
   "source": [
    "#@jit#(parallel=True)\n",
    "def TF1(z: np.complex128, t: np.complex128, a: np.float64,\n",
    "                  b: np.float64, n_max: np.uint32 = 50\n",
    "                  ) -> np.complex128:\n",
    "    s=0\n",
    "    x = t*a + 2*(z+b)\n",
    "    for i in range(-n_max, n_max, 1):\n",
    "        s += exp(1j*np.pi*(i+a)*(t*i + x))\n",
    "    \n",
    "    return s"
   ]
  },
  {
   "cell_type": "code",
   "execution_count": null,
   "metadata": {},
   "outputs": [
    {
     "name": "stdout",
     "output_type": "stream",
     "text": [
      "693 ns ± 1.18 ns per loop (mean ± std. dev. of 7 runs, 1,000,000 loops each)\n"
     ]
    }
   ],
   "source": [
    "%%timeit\n",
    "\n",
    "ThetaFunction(0.5+1*1j, 1j, 1/2, 1/2, 10)"
   ]
  },
  {
   "cell_type": "code",
   "execution_count": null,
   "metadata": {},
   "outputs": [
    {
     "name": "stdout",
     "output_type": "stream",
     "text": [
      "5.84 µs ± 51.8 ns per loop (mean ± std. dev. of 7 runs, 100,000 loops each)\n"
     ]
    }
   ],
   "source": [
    "%%timeit\n",
    "TF1(0.5+0.5*1j, 1j, 1/2, 1/2, 10)"
   ]
  },
  {
   "cell_type": "code",
   "execution_count": null,
   "metadata": {},
   "outputs": [
    {
     "data": {
      "text/plain": [
       "(-2.3828557978614704-2.9181567256807615e-16j)"
      ]
     },
     "execution_count": 51,
     "metadata": {},
     "output_type": "execute_result"
    }
   ],
   "source": [
    "ThetaFunction(0.5+0.5*1j, 1j, 1/2, 1/2)"
   ]
  },
  {
   "cell_type": "code",
   "execution_count": null,
   "metadata": {},
   "outputs": [
    {
     "data": {
      "text/plain": [
       "(-2.3828557978614704-2.9181567256807615e-16j)"
      ]
     },
     "execution_count": 47,
     "metadata": {},
     "output_type": "execute_result"
    }
   ],
   "source": [
    "ThetaFunction(0.5+0.5*1j, 1j, 1/2, 1/2)"
   ]
  },
  {
   "cell_type": "code",
   "execution_count": null,
   "metadata": {},
   "outputs": [],
   "source": []
  }
 ],
 "metadata": {
  "kernelspec": {
   "display_name": "base",
   "language": "python",
   "name": "python3"
  },
  "language_info": {
   "codemirror_mode": {
    "name": "ipython",
    "version": 3
   },
   "file_extension": ".py",
   "mimetype": "text/x-python",
   "name": "python",
   "nbconvert_exporter": "python",
   "pygments_lexer": "ipython3",
   "version": "3.10.12"
  }
 },
 "nbformat": 4,
 "nbformat_minor": 2
}
