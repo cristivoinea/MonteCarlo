{
 "cells": [
  {
   "cell_type": "code",
   "execution_count": 1,
   "metadata": {},
   "outputs": [],
   "source": [
    "import numpy as np\n",
    "import matplotlib.pyplot as plt \n",
    "from numba import njit\n",
    "from cmath import exp"
   ]
  },
  {
   "cell_type": "code",
   "execution_count": 3,
   "metadata": {},
   "outputs": [],
   "source": [
    "@njit#(parallel=True)\n",
    "def ThetaFunction(z: np.complex128, t: np.complex128, a: np.float64,\n",
    "                  b: np.float64, n_max: np.uint32 = 1000\n",
    "                  ) -> np.complex128:\n",
    "    index = np.arange(-n_max, n_max, 1)\n",
    "    x = t*a + 2*(z+b)\n",
    "    terms = np.exp(1j*np.pi*(index+a)*(t*index + x))\n",
    "    return np.sum(terms)"
   ]
  },
  {
   "cell_type": "markdown",
   "metadata": {},
   "source": [
    "## How many theta functon terms to converge to machine precision"
   ]
  },
  {
   "cell_type": "code",
   "execution_count": 34,
   "metadata": {},
   "outputs": [],
   "source": [
    "N = 60\n",
    "x, y = np.meshgrid(np.linspace(-2,2,N), np.linspace(-2,2,N), indexing='xy')\n",
    "z = x + 1j*y\n",
    "tf_grid_1 = np.zeros((N,N), dtype=np.complex128)\n",
    "tf_grid_2 = np.zeros((N,N), dtype=np.complex128)\n",
    "\n",
    "for i in range(N):\n",
    "    for j in range(N):\n",
    "        tf_grid_1[i,j] = ThetaFunction(z[i,j], 1j, 1/2, 1/2,6)\n",
    "        tf_grid_2[i,j] = ThetaFunction(z[i,j], 1j, 1/2, 1/2,11)"
   ]
  },
  {
   "cell_type": "code",
   "execution_count": 35,
   "metadata": {},
   "outputs": [
    {
     "data": {
      "text/plain": [
       "(2.3828557978614704+0j)"
      ]
     },
     "execution_count": 35,
     "metadata": {},
     "output_type": "execute_result"
    }
   ],
   "source": [
    "ThetaFunction(-0.5-0.5*1j, 1j, 1/2, 1/2,2500)"
   ]
  },
  {
   "cell_type": "code",
   "execution_count": 36,
   "metadata": {},
   "outputs": [
    {
     "data": {
      "text/plain": [
       "0.0"
      ]
     },
     "execution_count": 36,
     "metadata": {},
     "output_type": "execute_result"
    }
   ],
   "source": [
    "np.sum(np.real(tf_grid_1-tf_grid_2)**2)"
   ]
  },
  {
   "cell_type": "code",
   "execution_count": 37,
   "metadata": {},
   "outputs": [
    {
     "data": {
      "text/plain": [
       "<matplotlib.colorbar.Colorbar at 0x1bc459f2650>"
      ]
     },
     "execution_count": 37,
     "metadata": {},
     "output_type": "execute_result"
    },
    {
     "data": {
      "image/png": "[encoded data removed]",
      "text/plain": [
       "<Figure size 640x480 with 2 Axes>"
      ]
     },
     "metadata": {},
     "output_type": "display_data"
    }
   ],
   "source": [
    "plt.imshow(np.real(tf_grid_1-tf_grid_2))\n",
    "plt.colorbar()"
   ]
  },
  {
   "cell_type": "code",
   "execution_count": 43,
   "metadata": {},
   "outputs": [],
   "source": [
    "#@jit#(parallel=True)\n",
    "def TF1(z: np.complex128, t: np.complex128, a: np.float64,\n",
    "                  b: np.float64, n_max: np.uint32 = 50\n",
    "                  ) -> np.complex128:\n",
    "    s=0\n",
    "    x = t*a + 2*(z+b)\n",
    "    for i in range(-n_max, n_max, 1):\n",
    "        s += exp(1j*np.pi*(i+a)*(t*i + x))\n",
    "    \n",
    "    return s"
   ]
  },
  {
   "cell_type": "code",
   "execution_count": 42,
   "metadata": {},
   "outputs": [
    {
     "name": "stdout",
     "output_type": "stream",
     "text": [
      "693 ns ± 1.18 ns per loop (mean ± std. dev. of 7 runs, 1,000,000 loops each)\n"
     ]
    }
   ],
   "source": [
    "%%timeit\n",
    "\n",
    "ThetaFunction(0.5+1*1j, 1j, 1/2, 1/2, 10)"
   ]
  },
  {
   "cell_type": "code",
   "execution_count": 45,
   "metadata": {},
   "outputs": [
    {
     "name": "stdout",
     "output_type": "stream",
     "text": [
      "5.84 µs ± 51.8 ns per loop (mean ± std. dev. of 7 runs, 100,000 loops each)\n"
     ]
    }
   ],
   "source": [
    "%%timeit\n",
    "TF1(0.5+0.5*1j, 1j, 1/2, 1/2, 10)"
   ]
  },
  {
   "cell_type": "code",
   "execution_count": 51,
   "metadata": {},
   "outputs": [
    {
     "data": {
      "text/plain": [
       "(-2.3828557978614704-2.9181567256807615e-16j)"
      ]
     },
     "execution_count": 51,
     "metadata": {},
     "output_type": "execute_result"
    }
   ],
   "source": [
    "ThetaFunction(0.5+0.5*1j, 1j, 1/2, 1/2)"
   ]
  },
  {
   "cell_type": "code",
   "execution_count": 47,
   "metadata": {},
   "outputs": [
    {
     "data": {
      "text/plain": [
       "(-2.3828557978614704-2.9181567256807615e-16j)"
      ]
     },
     "execution_count": 47,
     "metadata": {},
     "output_type": "execute_result"
    }
   ],
   "source": [
    "ThetaFunction(0.5+0.5*1j, 1j, 1/2, 1/2)"
   ]
  },
  {
   "cell_type": "code",
   "execution_count": null,
   "metadata": {},
   "outputs": [],
   "source": []
  }
 ],
 "metadata": {
  "kernelspec": {
   "display_name": "base",
   "language": "python",
   "name": "python3"
  },
  "language_info": {
   "codemirror_mode": {
    "name": "ipython",
    "version": 3
   },
   "file_extension": ".py",
   "mimetype": "text/x-python",
   "name": "python",
   "nbconvert_exporter": "python",
   "pygments_lexer": "ipython3",
   "version": "3.10.12"
  }
 },
 "nbformat": 4,
 "nbformat_minor": 2
}
