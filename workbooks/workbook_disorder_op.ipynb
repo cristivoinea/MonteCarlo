{
 "cells": [
  {
   "cell_type": "code",
   "execution_count": 1,
   "metadata": {},
   "outputs": [
    {
     "name": "stderr",
     "output_type": "stream",
     "text": [
      "d:\\fizica\\phd\\MonteCarlo\\MonteCarlo\\src\\MonteCarloSphereCFL.py:8: NumbaDeprecationWarning: \u001b[1mThe 'nopython' keyword argument was not supplied to the 'numba.jit' decorator. The implicit default value for this argument is currently False, but it will be changed to True in Numba 0.59.0. See https://numba.readthedocs.io/en/stable/reference/deprecation.html#deprecation-of-object-mode-fall-back-behaviour-when-using-jit for details.\u001b[0m\n",
      "  def njit_UpdateJastrows(coords_tmp: np.array, spinors_tmp: np.array,\n",
      "d:\\fizica\\phd\\MonteCarlo\\MonteCarlo\\src\\MonteCarloSphereCFL.py:23: NumbaDeprecationWarning: \u001b[1mThe 'nopython' keyword argument was not supplied to the 'numba.jit' decorator. The implicit default value for this argument is currently False, but it will be changed to True in Numba 0.59.0. See https://numba.readthedocs.io/en/stable/reference/deprecation.html#deprecation-of-object-mode-fall-back-behaviour-when-using-jit for details.\u001b[0m\n",
      "  def njit_UpdateJastrowsSwap(coords_tmp: np.array, spinors_tmp: np.array,\n"
     ]
    }
   ],
   "source": [
    "import sys\n",
    "import os\n",
    "\n",
    "module_path = os.path.abspath(os.path.join('..'))\n",
    "if module_path not in sys.path:\n",
    "    sys.path.append(module_path)\n",
    "\n",
    "import numpy as np\n",
    "from src.MonteCarloSphere import MonteCarloSphere\n",
    "from src.MonteCarloSphereFreeFermions import MonteCarloSphereFreeFermions\n",
    "from src.MonteCarloSphereCFL import MonteCarloSphereCFL\n",
    "from src.MonteCarloTorusFreeFermions import MonteCarloTorusFreeFermions"
   ]
  },
  {
   "cell_type": "code",
   "execution_count": 2,
   "metadata": {},
   "outputs": [],
   "source": [
    "ff = MonteCarloSphereCFL(Ne=9, Ns=16, nbr_iter=20000, nbr_nonthermal=1000, region_geometry='circle', step_size=0.175, region_size=0.1, linear_size=True, nbr_copies=2, save_config=False, save_results=False)"
   ]
  },
  {
   "cell_type": "code",
   "execution_count": 3,
   "metadata": {},
   "outputs": [
    {
     "name": "stderr",
     "output_type": "stream",
     "text": [
      "d:\\fizica\\phd\\MonteCarlo\\MonteCarlo\\src\\MonteCarloSphereCFL.py:7: NumbaWarning: \u001b[1m\n",
      "Compilation is falling back to object mode WITH looplifting enabled because Function \"njit_UpdateJastrows\" failed type inference due to: \u001b[1mUntyped global name 'sph_harm':\u001b[0m \u001b[1m\u001b[1mCannot determine Numba type of <class 'numpy.ufunc'>\u001b[0m\n",
      "\u001b[1m\n",
      "File \"..\\src\\MonteCarloSphereCFL.py\", line 18:\u001b[0m\n",
      "\u001b[1mdef njit_UpdateJastrows(coords_tmp: np.array, spinors_tmp: np.array,\n",
      "    <source elided>\n",
      "\n",
      "\u001b[1m    slater_tmp[:, moved_particle] = sph_harm(\n",
      "\u001b[0m    \u001b[1m^\u001b[0m\u001b[0m\n",
      "\u001b[0m\u001b[0m\n",
      "  @jit\n",
      "C:\\Users\\crist\\AppData\\Roaming\\Python\\Python310\\site-packages\\numba\\core\\object_mode_passes.py:151: NumbaWarning: \u001b[1mFunction \"njit_UpdateJastrows\" was compiled in object mode without forceobj=True.\n",
      "\u001b[1m\n",
      "File \"..\\src\\MonteCarloSphereCFL.py\", line 8:\u001b[0m\n",
      "\u001b[1m@jit\n",
      "\u001b[1mdef njit_UpdateJastrows(coords_tmp: np.array, spinors_tmp: np.array,\n",
      "\u001b[0m\u001b[1m^\u001b[0m\u001b[0m\n",
      "\u001b[0m\n",
      "  warnings.warn(errors.NumbaWarning(warn_msg,\n",
      "C:\\Users\\crist\\AppData\\Roaming\\Python\\Python310\\site-packages\\numba\\core\\object_mode_passes.py:161: NumbaDeprecationWarning: \u001b[1m\n",
      "Fall-back from the nopython compilation path to the object mode compilation path has been detected. This is deprecated behaviour that will be removed in Numba 0.59.0.\n",
      "\n",
      "For more information visit https://numba.readthedocs.io/en/stable/reference/deprecation.html#deprecation-of-object-mode-fall-back-behaviour-when-using-jit\n",
      "\u001b[1m\n",
      "File \"..\\src\\MonteCarloSphereCFL.py\", line 8:\u001b[0m\n",
      "\u001b[1m@jit\n",
      "\u001b[1mdef njit_UpdateJastrows(coords_tmp: np.array, spinors_tmp: np.array,\n",
      "\u001b[0m\u001b[1m^\u001b[0m\u001b[0m\n",
      "\u001b[0m\n",
      "  warnings.warn(errors.NumbaDeprecationWarning(msg,\n",
      "d:\\fizica\\phd\\MonteCarlo\\MonteCarlo\\src\\MonteCarloSphereCFL.py:194: RuntimeWarning: overflow encountered in power\n",
      "  np.power((self.jastrows_tmp[self.from_swap_tmp[n], self.from_swap_tmp[m], 0, 0] /\n",
      "d:\\fizica\\phd\\MonteCarlo\\MonteCarlo\\src\\MonteCarloSphereCFL.py:194: RuntimeWarning: invalid value encountered in power\n",
      "  np.power((self.jastrows_tmp[self.from_swap_tmp[n], self.from_swap_tmp[m], 0, 0] /\n",
      "d:\\fizica\\phd\\MonteCarlo\\MonteCarlo\\src\\MonteCarloSphereCFL.py:193: RuntimeWarning: invalid value encountered in cdouble_scalars\n",
      "  step_amplitude *= (np.exp((self.slogdet_tmp[1, 2+copy]-self.slogdet[1, 2+copy]) / (self.Ne*(self.Ne-1))) *\n",
      "d:\\fizica\\phd\\MonteCarlo\\MonteCarlo\\src\\MonteCarloSphereCFL.py:172: RuntimeWarning: overflow encountered in divide\n",
      "  np.power(self.jastrows_tmp[self.moved_particles[copy],\n",
      "d:\\fizica\\phd\\MonteCarlo\\MonteCarlo\\src\\MonteCarloSphereCFL.py:172: RuntimeWarning: invalid value encountered in power\n",
      "  np.power(self.jastrows_tmp[self.moved_particles[copy],\n",
      "d:\\fizica\\phd\\MonteCarlo\\MonteCarlo\\src\\MonteCarloSphereCFL.py:171: RuntimeWarning: invalid value encountered in multiply\n",
      "  step_amplitude *= (np.prod(np.exp((self.slogdet_tmp[1, copy]-self.slogdet[1, copy])/self.Ne) *\n",
      "d:\\fizica\\phd\\MonteCarlo\\MonteCarlo\\src\\MonteCarloSphereCFL.py:194: RuntimeWarning: overflow encountered in cdouble_scalars\n",
      "  np.power((self.jastrows_tmp[self.from_swap_tmp[n], self.from_swap_tmp[m], 0, 0] /\n",
      "d:\\fizica\\phd\\MonteCarlo\\MonteCarlo\\src\\MonteCarloSphereCFL.py:194: RuntimeWarning: invalid value encountered in cdouble_scalars\n",
      "  np.power((self.jastrows_tmp[self.from_swap_tmp[n], self.from_swap_tmp[m], 0, 0] /\n",
      "d:\\fizica\\phd\\MonteCarlo\\MonteCarlo\\src\\MonteCarloSphereCFL.py:172: RuntimeWarning: overflow encountered in power\n",
      "  np.power(self.jastrows_tmp[self.moved_particles[copy],\n"
     ]
    },
    {
     "name": "stdout",
     "output_type": "stream",
     "text": [
      "Iteration 1000 done, current acceptance ratio: 32.0 %\n",
      "Iteration 2000 done, current acceptance ratio: 31.4 %\n",
      "Iteration 3000 done, current acceptance ratio: 38.57 %\n",
      "Iteration 4000 done, current acceptance ratio: 45.3 %\n",
      "Iteration 5000 done, current acceptance ratio: 44.04 %\n",
      "Iteration 6000 done, current acceptance ratio: 40.42 %\n",
      "Iteration 7000 done, current acceptance ratio: 39.2 %\n",
      "Iteration 8000 done, current acceptance ratio: 38.45 %\n",
      "Iteration 9000 done, current acceptance ratio: 36.84 %\n",
      "Iteration 10000 done, current acceptance ratio: 37.23 %\n",
      "Iteration 11000 done, current acceptance ratio: 37.08 %\n",
      "Iteration 12000 done, current acceptance ratio: 37.75 %\n",
      "Iteration 13000 done, current acceptance ratio: 38.25 %\n",
      "Iteration 14000 done, current acceptance ratio: 37.76 %\n",
      "Iteration 15000 done, current acceptance ratio: 39.15 %\n",
      "Iteration 16000 done, current acceptance ratio: 38.88 %\n",
      "Iteration 17000 done, current acceptance ratio: 37.22 %\n",
      "Iteration 18000 done, current acceptance ratio: 35.16 %\n",
      "Iteration 19000 done, current acceptance ratio: 33.33 %\n",
      "Iteration 20000 done, current acceptance ratio: 31.66 %\n",
      "\n",
      "Mean = nan \n",
      " Var = nan\n"
     ]
    }
   ],
   "source": [
    "ff.RunSwapMod()"
   ]
  },
  {
   "cell_type": "code",
   "execution_count": 5,
   "metadata": {},
   "outputs": [
    {
     "data": {
      "text/plain": [
       "array([1.        , 0.42537869])"
      ]
     },
     "execution_count": 5,
     "metadata": {},
     "output_type": "execute_result"
    }
   ],
   "source": [
    "np.array([1, np.sin(ff.coords_tmp[1][0])])"
   ]
  },
  {
   "cell_type": "code",
   "execution_count": null,
   "metadata": {},
   "outputs": [],
   "source": []
  },
  {
   "cell_type": "code",
   "execution_count": 20,
   "metadata": {},
   "outputs": [],
   "source": [
    "f = np.random.randint(0,9,9)"
   ]
  },
  {
   "cell_type": "code",
   "execution_count": 23,
   "metadata": {},
   "outputs": [
    {
     "data": {
      "text/plain": [
       "array([5, 3, 4, 7, 3, 4, 6, 7, 3])"
      ]
     },
     "execution_count": 23,
     "metadata": {},
     "output_type": "execute_result"
    }
   ],
   "source": [
    "f"
   ]
  },
  {
   "cell_type": "code",
   "execution_count": 32,
   "metadata": {},
   "outputs": [
    {
     "data": {
      "text/plain": [
       "3.1247779607693795"
      ]
     },
     "execution_count": 32,
     "metadata": {},
     "output_type": "execute_result"
    }
   ],
   "source": [
    "a = -6.3\n",
    "a - (np.pi)*(a//np.pi)"
   ]
  },
  {
   "cell_type": "code",
   "execution_count": 67,
   "metadata": {},
   "outputs": [],
   "source": [
    "def BoundaryConditions(z) -> np.complex128:\n",
    "        \"\"\"Check if the particle position wrapped around the torus\n",
    "        after one step. When a step wraps around both directions,\n",
    "        the algorithm applies \"\"\"\n",
    "        z[..., 1] = z[..., 1] + np.pi*((z[..., 0] > np.pi) | (z[..., 0] < 0))\n",
    "        z[..., 1] = z[..., 1] - 2*np.pi*(z[..., 1]//(2*np.pi))\n",
    "        z[..., 0] = z[..., 0] + 2*np.pi*(z[..., 0] > np.pi) - 2*z[..., 0] * \\\n",
    "            ((z[..., 0] > np.pi) | (z[..., 0] < 0))\n",
    "\n",
    "        return z"
   ]
  },
  {
   "cell_type": "code",
   "execution_count": 68,
   "metadata": {},
   "outputs": [
    {
     "data": {
      "text/plain": [
       "array([[3.13318531, 1.85840735],\n",
       "       [1.4       , 0.71681469]])"
      ]
     },
     "execution_count": 68,
     "metadata": {},
     "output_type": "execute_result"
    }
   ],
   "source": [
    "BoundaryConditions(np.array([[3.15,5], [1.4, 7]]))"
   ]
  },
  {
   "cell_type": "code",
   "execution_count": 47,
   "metadata": {},
   "outputs": [
    {
     "data": {
      "text/plain": [
       "6.283185307179586"
      ]
     },
     "execution_count": 47,
     "metadata": {},
     "output_type": "execute_result"
    }
   ],
   "source": [
    " 2*np.pi*(7//(2*np.pi))"
   ]
  },
  {
   "cell_type": "code",
   "execution_count": 9,
   "metadata": {},
   "outputs": [
    {
     "ename": "TypeError",
     "evalue": "descriptor 'choice' for 'numpy.random._generator.Generator' objects doesn't apply to a 'int' object",
     "output_type": "error",
     "traceback": [
      "\u001b[1;31m---------------------------------------------------------------------------\u001b[0m",
      "\u001b[1;31mTypeError\u001b[0m                                 Traceback (most recent call last)",
      "Cell \u001b[1;32mIn[9], line 1\u001b[0m\n\u001b[1;32m----> 1\u001b[0m \u001b[43mnp\u001b[49m\u001b[38;5;241;43m.\u001b[39;49m\u001b[43mrandom\u001b[49m\u001b[38;5;241;43m.\u001b[39;49m\u001b[43mGenerator\u001b[49m\u001b[38;5;241;43m.\u001b[39;49m\u001b[43mchoice\u001b[49m\u001b[43m(\u001b[49m\u001b[38;5;241;43m9\u001b[39;49m\u001b[43m)\u001b[49m\n",
      "\u001b[1;31mTypeError\u001b[0m: descriptor 'choice' for 'numpy.random._generator.Generator' objects doesn't apply to a 'int' object"
     ]
    }
   ],
   "source": [
    "np.random.Generator.choice(np.array([[1,1],[2,2]]), 1)"
   ]
  },
  {
   "cell_type": "code",
   "execution_count": 11,
   "metadata": {},
   "outputs": [
    {
     "ename": "AttributeError",
     "evalue": "'numpy.ndarray' object has no attribute 'choice'",
     "output_type": "error",
     "traceback": [
      "\u001b[1;31m---------------------------------------------------------------------------\u001b[0m",
      "\u001b[1;31mAttributeError\u001b[0m                            Traceback (most recent call last)",
      "Cell \u001b[1;32mIn[11], line 2\u001b[0m\n\u001b[0;32m      1\u001b[0m a \u001b[38;5;241m=\u001b[39m np\u001b[38;5;241m.\u001b[39marray([[\u001b[38;5;241m1\u001b[39m,\u001b[38;5;241m1\u001b[39m],[\u001b[38;5;241m2\u001b[39m,\u001b[38;5;241m2\u001b[39m]])\n\u001b[1;32m----> 2\u001b[0m \u001b[43ma\u001b[49m\u001b[38;5;241;43m.\u001b[39;49m\u001b[43mchoice\u001b[49m(\u001b[38;5;241m2\u001b[39m)\n",
      "\u001b[1;31mAttributeError\u001b[0m: 'numpy.ndarray' object has no attribute 'choice'"
     ]
    }
   ],
   "source": [
    "a = np.array([[1,1],[2,2]])\n",
    "a.choice(2)"
   ]
  },
  {
   "cell_type": "code",
   "execution_count": 18,
   "metadata": {},
   "outputs": [
    {
     "data": {
      "text/plain": [
       "array([[2, 2],\n",
       "       [3, 4]])"
      ]
     },
     "execution_count": 18,
     "metadata": {},
     "output_type": "execute_result"
    }
   ],
   "source": [
    "np.random.default_rng().choice(np.array([[1,1],[2,2], [3,4]]), 2)"
   ]
  },
  {
   "cell_type": "code",
   "execution_count": null,
   "metadata": {},
   "outputs": [],
   "source": []
  }
 ],
 "metadata": {
  "kernelspec": {
   "display_name": "base",
   "language": "python",
   "name": "python3"
  },
  "language_info": {
   "codemirror_mode": {
    "name": "ipython",
    "version": 3
   },
   "file_extension": ".py",
   "mimetype": "text/x-python",
   "name": "python",
   "nbconvert_exporter": "python",
   "pygments_lexer": "ipython3",
   "version": "3.10.12"
  }
 },
 "nbformat": 4,
 "nbformat_minor": 2
}
