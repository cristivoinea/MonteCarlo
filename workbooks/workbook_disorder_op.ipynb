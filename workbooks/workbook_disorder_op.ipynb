{
 "cells": [
  {
   "cell_type": "code",
   "execution_count": 1,
   "metadata": {},
   "outputs": [],
   "source": [
    "NUMBA_NUM_THREADS=1\n",
    "\n",
    "import numpy as np\n",
    "from src.MonteCarloTorusCFL import MonteCarloTorusCFL"
   ]
  },
  {
   "cell_type": "code",
   "execution_count": 2,
   "metadata": {},
   "outputs": [
    {
     "name": "stdout",
     "output_type": "stream",
     "text": [
      "Torus dimensions \n",
      "Lx =  20.053026197048002 \n",
      "Ly =  20.053026197048002\n"
     ]
    }
   ],
   "source": [
    "cfl = MonteCarloTorusCFL(Ne=32, Ns=64, t=1j, nbr_iter=10000, nbr_nonthermal=1000, region_geometry='circle', flag_pf=True,\n",
    "                         region_size=0.200, linear_size = True, step_size=0.037, JK_coeffs='0', acceptance_ratio = 0, nbr_copies=2,\n",
    "                         save_config=False,save_results=False)"
   ]
  },
  {
   "cell_type": "code",
   "execution_count": 3,
   "metadata": {},
   "outputs": [
    {
     "name": "stdout",
     "output_type": "stream",
     "text": [
      "Iteration 500 done, current acceptance ratio: 51.0 %\n",
      "Iteration 1000 done, current acceptance ratio: 51.0 %\n",
      "Iteration 1500 done, current acceptance ratio: 51.2 %\n",
      "Iteration 2000 done, current acceptance ratio: 50.0 %\n",
      "Iteration 2500 done, current acceptance ratio: 50.0 %\n",
      "Iteration 3000 done, current acceptance ratio: 50.57 %\n",
      "Iteration 3500 done, current acceptance ratio: 50.71 %\n",
      "Iteration 4000 done, current acceptance ratio: 50.52 %\n",
      "Iteration 4500 done, current acceptance ratio: 50.53 %\n",
      "Iteration 5000 done, current acceptance ratio: 50.4 %\n",
      "Iteration 5500 done, current acceptance ratio: 50.45 %\n",
      "Iteration 6000 done, current acceptance ratio: 50.33 %\n",
      "Iteration 6500 done, current acceptance ratio: 50.37 %\n",
      "Iteration 7000 done, current acceptance ratio: 50.3 %\n",
      "Iteration 7500 done, current acceptance ratio: 50.25 %\n",
      "Iteration 8000 done, current acceptance ratio: 50.25 %\n",
      "Iteration 8500 done, current acceptance ratio: 50.38 %\n",
      "Iteration 9000 done, current acceptance ratio: 50.49 %\n",
      "Iteration 9500 done, current acceptance ratio: 50.4 %\n",
      "Iteration 10000 done, current acceptance ratio: 50.59 %\n",
      "\n",
      "Mean = 0.37044444444444447 \n",
      " Var = 0.23324127372177153\n"
     ]
    }
   ],
   "source": [
    "cfl.RunSwapP()"
   ]
  },
  {
   "cell_type": "code",
   "execution_count": 9,
   "metadata": {},
   "outputs": [
    {
     "data": {
      "text/plain": [
       "<matplotlib.collections.PathCollection at 0x261910b9fc0>"
      ]
     },
     "execution_count": 9,
     "metadata": {},
     "output_type": "execute_result"
    },
    {
     "data": {
      "image/png": "[encoded data removed]",
      "text/plain": [
       "<Figure size 640x480 with 1 Axes>"
      ]
     },
     "metadata": {},
     "output_type": "display_data"
    }
   ],
   "source": [
    "x = np.real(cfl.coords)\n",
    "y = np.imag(cfl.coords)\n",
    "\n",
    "import matplotlib.pyplot as plt\n",
    "\n",
    "plt.scatter(x,y)"
   ]
  },
  {
   "cell_type": "code",
   "execution_count": 5,
   "metadata": {},
   "outputs": [
    {
     "data": {
      "text/plain": [
       "array([0])"
      ]
     },
     "execution_count": 5,
     "metadata": {},
     "output_type": "execute_result"
    }
   ],
   "source": [
    "np.random.randint(0, 5,1)"
   ]
  },
  {
   "cell_type": "code",
   "execution_count": null,
   "metadata": {},
   "outputs": [],
   "source": []
  }
 ],
 "metadata": {
  "kernelspec": {
   "display_name": "base",
   "language": "python",
   "name": "python3"
  },
  "language_info": {
   "codemirror_mode": {
    "name": "ipython",
    "version": 3
   },
   "file_extension": ".py",
   "mimetype": "text/x-python",
   "name": "python",
   "nbconvert_exporter": "python",
   "pygments_lexer": "ipython3",
   "version": "3.10.12"
  }
 },
 "nbformat": 4,
 "nbformat_minor": 2
}
