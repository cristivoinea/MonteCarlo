{
 "cells": [
  {
   "cell_type": "code",
   "execution_count": 1,
   "metadata": {},
   "outputs": [],
   "source": [
    "import sys\n",
    "import os\n",
    "\n",
    "module_path = os.path.abspath(os.path.join('..'))\n",
    "if module_path not in sys.path:\n",
    "    sys.path.append(module_path)\n",
    "\n",
    "import numpy as np\n",
    "from src.MonteCarloSphere import MonteCarloSphere\n",
    "from src.MonteCarloSphereFreeFermions import MonteCarloSphereFreeFermions\n",
    "from src.MonteCarloTorusFreeFermions import MonteCarloTorusFreeFermions"
   ]
  },
  {
   "cell_type": "code",
   "execution_count": 6,
   "metadata": {},
   "outputs": [],
   "source": [
    "ff = MonteCarloSphereFreeFermions(Ne=9, Ns=16, nbr_iter=200000, nbr_nonthermal=50000, region_geometry='circle', step_size=0.12, region_size=0.05, linear_size=True, nbr_copies=2, save_config=False, save_results=False)"
   ]
  },
  {
   "cell_type": "code",
   "execution_count": 7,
   "metadata": {},
   "outputs": [
    {
     "name": "stdout",
     "output_type": "stream",
     "text": [
      "Iteration 10000 done, current acceptance ratio: 48.87 %\n",
      "Iteration 20000 done, current acceptance ratio: 49.44 %\n",
      "Iteration 30000 done, current acceptance ratio: 49.29 %\n",
      "Iteration 40000 done, current acceptance ratio: 49.27 %\n",
      "Iteration 50000 done, current acceptance ratio: 49.25 %\n",
      "Iteration 60000 done, current acceptance ratio: 49.29 %\n",
      "Iteration 70000 done, current acceptance ratio: 49.26 %\n",
      "Iteration 80000 done, current acceptance ratio: 49.27 %\n",
      "Iteration 90000 done, current acceptance ratio: 49.24 %\n",
      "Iteration 100000 done, current acceptance ratio: 49.25 %\n",
      "Iteration 110000 done, current acceptance ratio: 49.27 %\n",
      "Iteration 120000 done, current acceptance ratio: 49.24 %\n",
      "Iteration 130000 done, current acceptance ratio: 49.26 %\n",
      "Iteration 140000 done, current acceptance ratio: 49.27 %\n",
      "Iteration 150000 done, current acceptance ratio: 49.26 %\n",
      "Iteration 160000 done, current acceptance ratio: 49.33 %\n",
      "Iteration 170000 done, current acceptance ratio: 49.32 %\n",
      "Iteration 180000 done, current acceptance ratio: 49.3 %\n",
      "Iteration 190000 done, current acceptance ratio: 49.35 %\n",
      "Iteration 200000 done, current acceptance ratio: 49.4 %\n",
      "\n",
      "Mean = 1.0000278831012515 \n",
      " Var = 5.601041102248451e-06\n"
     ]
    }
   ],
   "source": [
    "ff.RunSwapMod()"
   ]
  },
  {
   "cell_type": "code",
   "execution_count": null,
   "metadata": {},
   "outputs": [],
   "source": []
  },
  {
   "cell_type": "code",
   "execution_count": 20,
   "metadata": {},
   "outputs": [],
   "source": [
    "f = np.random.randint(0,9,9)"
   ]
  },
  {
   "cell_type": "code",
   "execution_count": 23,
   "metadata": {},
   "outputs": [
    {
     "data": {
      "text/plain": [
       "array([5, 3, 4, 7, 3, 4, 6, 7, 3])"
      ]
     },
     "execution_count": 23,
     "metadata": {},
     "output_type": "execute_result"
    }
   ],
   "source": [
    "f"
   ]
  },
  {
   "cell_type": "code",
   "execution_count": 32,
   "metadata": {},
   "outputs": [
    {
     "data": {
      "text/plain": [
       "3.1247779607693795"
      ]
     },
     "execution_count": 32,
     "metadata": {},
     "output_type": "execute_result"
    }
   ],
   "source": [
    "a = -6.3\n",
    "a - (np.pi)*(a//np.pi)"
   ]
  },
  {
   "cell_type": "code",
   "execution_count": 67,
   "metadata": {},
   "outputs": [],
   "source": [
    "def BoundaryConditions(z) -> np.complex128:\n",
    "        \"\"\"Check if the particle position wrapped around the torus\n",
    "        after one step. When a step wraps around both directions,\n",
    "        the algorithm applies \"\"\"\n",
    "        z[..., 1] = z[..., 1] + np.pi*((z[..., 0] > np.pi) | (z[..., 0] < 0))\n",
    "        z[..., 1] = z[..., 1] - 2*np.pi*(z[..., 1]//(2*np.pi))\n",
    "        z[..., 0] = z[..., 0] + 2*np.pi*(z[..., 0] > np.pi) - 2*z[..., 0] * \\\n",
    "            ((z[..., 0] > np.pi) | (z[..., 0] < 0))\n",
    "\n",
    "        return z"
   ]
  },
  {
   "cell_type": "code",
   "execution_count": 68,
   "metadata": {},
   "outputs": [
    {
     "data": {
      "text/plain": [
       "array([[3.13318531, 1.85840735],\n",
       "       [1.4       , 0.71681469]])"
      ]
     },
     "execution_count": 68,
     "metadata": {},
     "output_type": "execute_result"
    }
   ],
   "source": [
    "BoundaryConditions(np.array([[3.15,5], [1.4, 7]]))"
   ]
  },
  {
   "cell_type": "code",
   "execution_count": 47,
   "metadata": {},
   "outputs": [
    {
     "data": {
      "text/plain": [
       "6.283185307179586"
      ]
     },
     "execution_count": 47,
     "metadata": {},
     "output_type": "execute_result"
    }
   ],
   "source": [
    " 2*np.pi*(7//(2*np.pi))"
   ]
  },
  {
   "cell_type": "code",
   "execution_count": 9,
   "metadata": {},
   "outputs": [
    {
     "ename": "TypeError",
     "evalue": "descriptor 'choice' for 'numpy.random._generator.Generator' objects doesn't apply to a 'int' object",
     "output_type": "error",
     "traceback": [
      "\u001b[1;31m---------------------------------------------------------------------------\u001b[0m",
      "\u001b[1;31mTypeError\u001b[0m                                 Traceback (most recent call last)",
      "Cell \u001b[1;32mIn[9], line 1\u001b[0m\n\u001b[1;32m----> 1\u001b[0m \u001b[43mnp\u001b[49m\u001b[38;5;241;43m.\u001b[39;49m\u001b[43mrandom\u001b[49m\u001b[38;5;241;43m.\u001b[39;49m\u001b[43mGenerator\u001b[49m\u001b[38;5;241;43m.\u001b[39;49m\u001b[43mchoice\u001b[49m\u001b[43m(\u001b[49m\u001b[38;5;241;43m9\u001b[39;49m\u001b[43m)\u001b[49m\n",
      "\u001b[1;31mTypeError\u001b[0m: descriptor 'choice' for 'numpy.random._generator.Generator' objects doesn't apply to a 'int' object"
     ]
    }
   ],
   "source": [
    "np.random.Generator.choice(np.array([[1,1],[2,2]]), 1)"
   ]
  },
  {
   "cell_type": "code",
   "execution_count": 11,
   "metadata": {},
   "outputs": [
    {
     "ename": "AttributeError",
     "evalue": "'numpy.ndarray' object has no attribute 'choice'",
     "output_type": "error",
     "traceback": [
      "\u001b[1;31m---------------------------------------------------------------------------\u001b[0m",
      "\u001b[1;31mAttributeError\u001b[0m                            Traceback (most recent call last)",
      "Cell \u001b[1;32mIn[11], line 2\u001b[0m\n\u001b[0;32m      1\u001b[0m a \u001b[38;5;241m=\u001b[39m np\u001b[38;5;241m.\u001b[39marray([[\u001b[38;5;241m1\u001b[39m,\u001b[38;5;241m1\u001b[39m],[\u001b[38;5;241m2\u001b[39m,\u001b[38;5;241m2\u001b[39m]])\n\u001b[1;32m----> 2\u001b[0m \u001b[43ma\u001b[49m\u001b[38;5;241;43m.\u001b[39;49m\u001b[43mchoice\u001b[49m(\u001b[38;5;241m2\u001b[39m)\n",
      "\u001b[1;31mAttributeError\u001b[0m: 'numpy.ndarray' object has no attribute 'choice'"
     ]
    }
   ],
   "source": [
    "a = np.array([[1,1],[2,2]])\n",
    "a.choice(2)"
   ]
  },
  {
   "cell_type": "code",
   "execution_count": 18,
   "metadata": {},
   "outputs": [
    {
     "data": {
      "text/plain": [
       "array([[2, 2],\n",
       "       [3, 4]])"
      ]
     },
     "execution_count": 18,
     "metadata": {},
     "output_type": "execute_result"
    }
   ],
   "source": [
    "np.random.default_rng().choice(np.array([[1,1],[2,2], [3,4]]), 2)"
   ]
  },
  {
   "cell_type": "code",
   "execution_count": null,
   "metadata": {},
   "outputs": [],
   "source": []
  }
 ],
 "metadata": {
  "kernelspec": {
   "display_name": "base",
   "language": "python",
   "name": "python3"
  },
  "language_info": {
   "codemirror_mode": {
    "name": "ipython",
    "version": 3
   },
   "file_extension": ".py",
   "mimetype": "text/x-python",
   "name": "python",
   "nbconvert_exporter": "python",
   "pygments_lexer": "ipython3",
   "version": "3.10.12"
  }
 },
 "nbformat": 4,
 "nbformat_minor": 2
}
