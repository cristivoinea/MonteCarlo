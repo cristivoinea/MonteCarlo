{
 "cells": [
  {
   "cell_type": "code",
   "execution_count": 2,
   "metadata": {},
   "outputs": [],
   "source": [
    "import numpy as np\n",
    "import matplotlib.pyplot as plt \n",
    "from numba import njit, prange"
   ]
  },
  {
   "cell_type": "markdown",
   "metadata": {},
   "source": [
    "benchmark results"
   ]
  },
  {
   "cell_type": "code",
   "execution_count": 23,
   "metadata": {},
   "outputs": [
    {
     "data": {
      "image/png": "[encoded data removed]",
      "text/plain": [
       "<Figure size 640x480 with 1 Axes>"
      ]
     },
     "metadata": {},
     "output_type": "display_data"
    }
   ],
   "source": [
    "threads = np.array([4, 5, 6, 7, 8, 9, 10, 11, 12, 13, 14, 15, 16, 17, 18, 19, 20, 21, 22, 23, 24])\n",
    "time = np.array([165, 141, 122, 94, 103, 103, 97.5, 81, 80, 80, 79, 79, 77, 71, 69, 68.5, 68, 43, 47.5, 44.5, 57])\n",
    "\n",
    "plt.plot(threads, time, '--', marker='o')\n",
    "plt.xticks(np.arange(4,25,2))\n",
    "plt.xlabel(\"# of threads\")\n",
    "plt.ylabel(\"time (s)\")\n",
    "\n",
    "plt.savefig(\"pycv benchmark.png\", dpi=350)"
   ]
  },
  {
   "cell_type": "code",
   "execution_count": 6,
   "metadata": {},
   "outputs": [],
   "source": [
    "from MonteCarloTorusSWAP import RandomConfig\n",
    "from WavefnCFL import InitialJastrowsCFL, InitialJKMatrixCFL\n",
    "from WavefnLaughlin import ThetaFunction\n",
    "from utilities import fermi_sea_kx, fermi_sea_ky"
   ]
  },
  {
   "cell_type": "code",
   "execution_count": 4,
   "metadata": {},
   "outputs": [],
   "source": [
    "@njit(parallel=True)\n",
    "def UpdateJastrowsCFL(t: np.complex128, Lx: np.float64,\n",
    "                      coords_tmp: np.array, Ks: np.array,\n",
    "                      jastrows: np.array, jastrows_tmp: np.array,\n",
    "                      JK_matrix_tmp: np.array, moved_particle: np.uint16):\n",
    "    \"\"\"\n",
    "    Given new coordinates where we moved one single particle, this method\n",
    "    updates the jastrow factors and the JK matrix.\n",
    "    \"\"\"\n",
    "    Ne = coords_tmp.size\n",
    "\n",
    "    # JK_matrix_tmp[:, moved_particle] = np.ones(Ne)\n",
    "\n",
    "    for k in prange(Ne):\n",
    "        JK_matrix_tmp[k, moved_particle] = np.exp(\n",
    "            1j*np.real(Ks[k])*coords_tmp[moved_particle])\n",
    "        for i in range(Ne):\n",
    "            if i != moved_particle:\n",
    "                jastrows_tmp[i, moved_particle, k] = ThetaFunction(\n",
    "                    (coords_tmp[i] - coords_tmp[moved_particle] + 2*1j*Ks[k])/Lx, t, 1/2, 1/2)\n",
    "                jastrows_tmp[moved_particle, i, k] = ThetaFunction(\n",
    "                    (coords_tmp[moved_particle] - coords_tmp[i] + 2*1j*Ks[k])/Lx, t, 1/2, 1/2)\n",
    "\n",
    "                JK_matrix_tmp[k, i] *= (jastrows_tmp[i, moved_particle, k] /\n",
    "                                        jastrows[i, moved_particle, k])\n",
    "\n",
    "                JK_matrix_tmp[k, moved_particle] *= jastrows_tmp[moved_particle,\n",
    "                                                                 i, k]\n"
   ]
  },
  {
   "cell_type": "code",
   "execution_count": 9,
   "metadata": {},
   "outputs": [],
   "source": [
    "Ne = 21\n",
    "Lx = Ly = 12.28\n",
    "t = 1j\n",
    "Ks = (fermi_sea_kx[Ne] + 1j*fermi_sea_ky[Ne])*2*np.pi/Lx\n",
    "coords = RandomConfig(Ne, Lx, Ly)\n",
    "jastrows = np.zeros((Ne, Ne, Ne), dtype=np.complex128)\n",
    "JK_matrix = np.zeros((Ne, Ne), dtype=np.complex128)\n",
    "\n",
    "InitialJastrowsCFL(t, Lx, coords, Ks, jastrows)\n",
    "jastrows_tmp = np.copy(jastrows)\n",
    "InitialJKMatrixCFL(coords, Ks, jastrows, JK_matrix)\n",
    "\n",
    "coords_tmp = np.copy(coords)\n",
    "coords_tmp[3] += 1"
   ]
  },
  {
   "cell_type": "code",
   "execution_count": 10,
   "metadata": {},
   "outputs": [
    {
     "name": "stdout",
     "output_type": "stream",
     "text": [
      " \n",
      "================================================================================\n",
      " Parallel Accelerator Optimizing:  Function UpdateJastrowsCFL, \n",
      "C:\\Users\\crist\\AppData\\Local\\Temp\\ipykernel_22696\\63327697.py (1)  \n",
      "================================================================================\n",
      "\n",
      "\n",
      "Parallel loop listing for  Function UpdateJastrowsCFL, C:\\Users\\crist\\AppData\\Local\\Temp\\ipykernel_22696\\63327697.py (1) \n",
      "--------------------------------------------------------------------------------------------------|loop #ID\n",
      "@njit(parallel=True)                                                                              | \n",
      "def UpdateJastrowsCFL(t: np.complex128, Lx: np.float64,                                           | \n",
      "                      coords_tmp: np.array, Ks: np.array,                                         | \n",
      "                      jastrows: np.array, jastrows_tmp: np.array,                                 | \n",
      "                      JK_matrix_tmp: np.array, moved_particle: np.uint16):                        | \n",
      "    \"\"\"                                                                                           | \n",
      "    Given new coordinates where we moved one single particle, this method                         | \n",
      "    updates the jastrow factors and the JK matrix.                                                | \n",
      "    \"\"\"                                                                                           | \n",
      "    Ne = coords_tmp.size                                                                          | \n",
      "                                                                                                  | \n",
      "    # JK_matrix_tmp[:, moved_particle] = np.ones(Ne)                                              | \n",
      "                                                                                                  | \n",
      "    for k in prange(Ne):--------------------------------------------------------------------------| #0\n",
      "        JK_matrix_tmp[k, moved_particle] = np.exp(                                                | \n",
      "            1j*np.real(Ks[k])*coords_tmp[moved_particle])                                         | \n",
      "        for i in range(Ne):                                                                       | \n",
      "            if i != moved_particle:                                                               | \n",
      "                jastrows_tmp[i, moved_particle, k] = ThetaFunction(                               | \n",
      "                    (coords_tmp[i] - coords_tmp[moved_particle] + 2*1j*Ks[k])/Lx, t, 1/2, 1/2)    | \n",
      "                jastrows_tmp[moved_particle, i, k] = ThetaFunction(                               | \n",
      "                    (coords_tmp[moved_particle] - coords_tmp[i] + 2*1j*Ks[k])/Lx, t, 1/2, 1/2)    | \n",
      "                                                                                                  | \n",
      "                JK_matrix_tmp[k, i] *= (jastrows_tmp[i, moved_particle, k] /                      | \n",
      "                                        jastrows[i, moved_particle, k])                           | \n",
      "                                                                                                  | \n",
      "                JK_matrix_tmp[k, moved_particle] *= jastrows_tmp[moved_particle,                  | \n",
      "                                                                 i, k]                            | \n",
      "--------------------------------- Fusing loops ---------------------------------\n",
      "Attempting fusion of parallel loops (combines loops with similar properties)...\n",
      "----------------------------- Before Optimisation ------------------------------\n",
      "--------------------------------------------------------------------------------\n",
      "------------------------------ After Optimisation ------------------------------\n",
      "Parallel structure is already optimal.\n",
      "--------------------------------------------------------------------------------\n",
      "--------------------------------------------------------------------------------\n",
      " \n",
      "---------------------------Loop invariant code motion---------------------------\n",
      "Allocation hoisting:\n",
      "No allocation hoisting found\n",
      "\n",
      "Instruction hoisting:\n",
      "loop #0:\n",
      "  Has the following hoisted:\n",
      "    bool78 = global(bool: <class 'bool'>)\n",
      "    $80load_global.2 = global(ThetaFunction: CPUDispatcher(<function ThetaFunction at 0x00000249FCB43D00>))\n",
      "    $92binary_subscr.8 = getitem(value=coords__tmp, index=moved__particle, fn=<built-in function getitem>)\n",
      "    $const96.10 = const(complex, 2j)\n",
      "    $const114.19 = const(float, 0.5)\n",
      "    $const116.20 = const(float, 0.5)\n",
      "    $132load_global.27 = global(ThetaFunction: CPUDispatcher(<function ThetaFunction at 0x00000249FCB43D00>))\n",
      "    $138binary_subscr.30 = getitem(value=coords__tmp, index=moved__particle, fn=<built-in function getitem>)\n",
      "    $const148.35 = const(complex, 2j)\n",
      "    $const166.44 = const(float, 0.5)\n",
      "    $const168.45 = const(float, 0.5)\n",
      "    $const24.4 = const(complex, 1j)\n",
      "    $44binary_subscr.14 = getitem(value=coords__tmp, index=moved__particle, fn=<built-in function getitem>)\n",
      "    $60load_global.21 = global(range: <class 'range'>)\n",
      "  Failed to hoist the following:\n",
      "    dependency: $68for_iter.2 = iternext(value=$66get_iter.24)\n",
      "    dependency: $i.30 = pair_first(value=$68for_iter.2)\n",
      "    dependency: $68for_iter.4 = pair_second(value=$68for_iter.2)\n",
      "    dependency: $76compare_op.5 = $i.30 != moved__particle\n",
      "    dependency: $78pred = call $push_global_to_block.43($76compare_op.5, func=$push_global_to_block.43, args=(Var($76compare_op.5, 63327697.py:18),), kws=(), vararg=None, varkwarg=None, target=None)\n",
      "    dependency: $86binary_subscr.5 = getitem(value=coords__tmp, index=$i.30, fn=<built-in function getitem>)\n",
      "    dependency: $94binary_subtract.9 = $86binary_subscr.5 - $92binary_subscr.8\n",
      "    dependency: $102binary_subscr.13 = getitem(value=Ks, index=$parfor__index_26.47, fn=<built-in function getitem>)\n",
      "    dependency: $104binary_multiply.14 = $const96.10 * $102binary_subscr.13\n",
      "    dependency: $106binary_add.15 = $94binary_subtract.9 + $104binary_multiply.14\n",
      "    dependency: $110binary_true_divide.17 = $106binary_add.15 / Lx\n",
      "    dependency: $118call_function.21 = call $push_global_to_block.44($110binary_true_divide.17, t, $const114.19, $const116.20, func=$push_global_to_block.44, args=[Var($110binary_true_divide.17, 63327697.py:20), Var(t, 63327697.py:1), Var($const114.19, 63327697.py:20), Var($const116.20, 63327697.py:20)], kws=(), vararg=None, varkwarg=None, target=None)\n",
      "    dependency: $128build_tuple.26 = build_tuple(items=[Var($i.30, 63327697.py:17), Var(moved__particle, 63327697.py:1), Var($parfor__index_26.47, <string>:2)])\n",
      "    dependency: $144binary_subscr.33 = getitem(value=coords__tmp, index=$i.30, fn=<built-in function getitem>)\n",
      "    dependency: $146binary_subtract.34 = $138binary_subscr.30 - $144binary_subscr.33\n",
      "    dependency: $154binary_subscr.38 = getitem(value=Ks, index=$parfor__index_26.47, fn=<built-in function getitem>)\n",
      "    dependency: $156binary_multiply.39 = $const148.35 * $154binary_subscr.38\n",
      "    dependency: $158binary_add.40 = $146binary_subtract.34 + $156binary_multiply.39\n",
      "    dependency: $162binary_true_divide.42 = $158binary_add.40 / Lx\n",
      "    dependency: $170call_function.46 = call $push_global_to_block.45($162binary_true_divide.42, t, $const166.44, $const168.45, func=$push_global_to_block.45, args=[Var($162binary_true_divide.42, 63327697.py:22), Var(t, 63327697.py:1), Var($const166.44, 63327697.py:22), Var($const168.45, 63327697.py:22)], kws=(), vararg=None, varkwarg=None, target=None)\n",
      "    dependency: $180build_tuple.51 = build_tuple(items=[Var(moved__particle, 63327697.py:1), Var($i.30, 63327697.py:17), Var($parfor__index_26.47, <string>:2)])\n",
      "    dependency: $190build_tuple.55 = build_tuple(items=[Var($parfor__index_26.47, <string>:2), Var($i.30, 63327697.py:17)])\n",
      "    dependency: $194binary_subscr.58 = getitem(value=JK__matrix__tmp, index=$190build_tuple.55, fn=<built-in function getitem>)\n",
      "    dependency: $204build_tuple.63 = build_tuple(items=[Var($i.30, 63327697.py:17), Var(moved__particle, 63327697.py:1), Var($parfor__index_26.47, <string>:2)])\n",
      "    dependency: $206binary_subscr.64 = getitem(value=jastrows__tmp, index=$204build_tuple.63, fn=<built-in function getitem>)\n",
      "    dependency: $216build_tuple.69 = build_tuple(items=[Var($i.30, 63327697.py:17), Var(moved__particle, 63327697.py:1), Var($parfor__index_26.47, <string>:2)])\n",
      "    dependency: $218binary_subscr.70 = getitem(value=jastrows, index=$216build_tuple.69, fn=<built-in function getitem>)\n",
      "    dependency: $220binary_true_divide.71 = $206binary_subscr.64 / $218binary_subscr.70\n",
      "    dependency: $222inplace_multiply.72 = inplace_binop(fn=<built-in function imul>, immutable_fn=<built-in function mul>, lhs=$194binary_subscr.58, rhs=$220binary_true_divide.71, static_lhs=Undefined, static_rhs=Undefined)\n",
      "    dependency: $234build_tuple.76 = build_tuple(items=[Var($parfor__index_26.47, <string>:2), Var(moved__particle, 63327697.py:1)])\n",
      "    dependency: $238binary_subscr.79 = getitem(value=JK__matrix__tmp, index=$234build_tuple.76, fn=<built-in function getitem>)\n",
      "    dependency: $248build_tuple.84 = build_tuple(items=[Var(moved__particle, 63327697.py:1), Var($i.30, 63327697.py:17), Var($parfor__index_26.47, <string>:2)])\n",
      "    dependency: $250binary_subscr.85 = getitem(value=jastrows__tmp, index=$248build_tuple.84, fn=<built-in function getitem>)\n",
      "    dependency: $252inplace_multiply.86 = inplace_binop(fn=<built-in function imul>, immutable_fn=<built-in function mul>, lhs=$238binary_subscr.79, rhs=$250binary_subscr.85, static_lhs=Undefined, static_rhs=Undefined)\n",
      "    dependency: $22load_method.3 = getattr(value=$20load_global.2, attr=exp)\n",
      "    dependency: $28load_method.6 = getattr(value=$26load_global.5, attr=real)\n",
      "    dependency: $34binary_subscr.9 = getitem(value=Ks, index=$parfor__index_26.47, fn=<built-in function getitem>)\n",
      "    dependency: $36call_method.10 = call $28load_method.6($34binary_subscr.9, func=$28load_method.6, args=[Var($34binary_subscr.9, 63327697.py:16)], kws=(), vararg=None, varkwarg=None, target=None)\n",
      "    dependency: $38binary_multiply.11 = $const24.4 * $36call_method.10\n",
      "    dependency: $46binary_multiply.15 = $38binary_multiply.11 * $44binary_subscr.14\n",
      "    dependency: $48call_method.16 = call $22load_method.3($46binary_multiply.15, func=$22load_method.3, args=[Var($46binary_multiply.15, 63327697.py:16)], kws=(), vararg=None, varkwarg=None, target=None)\n",
      "    dependency: $56build_tuple.20 = build_tuple(items=[Var($parfor__index_26.47, <string>:2), Var(moved__particle, 63327697.py:1)])\n",
      "    not pure: $64call_function.23 = call $push_global_to_block.46(Ne, func=$push_global_to_block.46, args=[Var(Ne, 63327697.py:10)], kws=(), vararg=None, varkwarg=None, target=None)\n",
      "    dependency: $66get_iter.24 = getiter(value=$64call_function.23)\n",
      "--------------------------------------------------------------------------------\n"
     ]
    }
   ],
   "source": [
    "UpdateJastrowsCFL(t, Lx, coords_tmp, Ks, jastrows, jastrows_tmp,\n",
    "                      JK_matrix, moved_particle = 3)\n",
    "\n",
    "UpdateJastrowsCFL.parallel_diagnostics(level=4)"
   ]
  },
  {
   "cell_type": "code",
   "execution_count": 1,
   "metadata": {},
   "outputs": [],
   "source": [
    "%load_ext line_profiler\n",
    "from MonteCarloTorusCFL import RunPSwapCFL, RunModSwapCFL, RunSignSwapCFL"
   ]
  },
  {
   "cell_type": "code",
   "execution_count": 2,
   "metadata": {},
   "outputs": [],
   "source": [
    "region = 'circle'\n",
    "JK_coeffs=2"
   ]
  },
  {
   "cell_type": "code",
   "execution_count": 3,
   "metadata": {},
   "outputs": [
    {
     "name": "stdout",
     "output_type": "stream",
     "text": [
      "Torus dimensions \n",
      "Lx =  21.56283174194172 \n",
      "Ly =  21.56283174194172\n",
      "Iteration 2500 done, current acceptance ratio: 48.28 %\n",
      "Iteration 5000 done, current acceptance ratio: 47.44 %\n",
      "Iteration 7500 done, current acceptance ratio: 47.71 %\n",
      "Iteration 10000 done, current acceptance ratio: 47.73 %\n",
      "Iteration 12500 done, current acceptance ratio: 47.55 %\n",
      "Iteration 15000 done, current acceptance ratio: 47.45 %\n",
      "Iteration 17500 done, current acceptance ratio: 47.27 %\n",
      "Iteration 20000 done, current acceptance ratio: 47.39 %\n",
      "Iteration 22500 done, current acceptance ratio: 47.52 %\n",
      "Iteration 25000 done, current acceptance ratio: 47.14 %\n",
      "Iteration 27500 done, current acceptance ratio: 47.17 %\n",
      "Iteration 30000 done, current acceptance ratio: 47.15 %\n",
      "Iteration 32500 done, current acceptance ratio: 47.09 %\n",
      "Iteration 35000 done, current acceptance ratio: 46.94 %\n",
      "Iteration 37500 done, current acceptance ratio: 46.91 %\n",
      "Iteration 40000 done, current acceptance ratio: 46.79 %\n",
      "Iteration 42500 done, current acceptance ratio: 46.93 %\n",
      "Iteration 45000 done, current acceptance ratio: 46.93 %\n",
      "Iteration 47500 done, current acceptance ratio: 46.92 %\n",
      "Iteration 50000 done, current acceptance ratio: 46.98 %\n",
      "\n",
      "Mean = 0.0261184365116849 \n",
      " Var = 0.020814243395222542\n"
     ]
    },
    {
     "name": "stdout",
     "output_type": "stream",
     "text": [
      "Timer unit: 1e-07 s\n",
      "\n",
      "Total time: 240.139 s\n",
      "File: d:\\fizica\\phd\\MonteCarlo\\MonteCarlo\\MonteCarloTorusCFL.py\n",
      "Function: RunModSwapCFL at line 147\n",
      "\n",
      "Line #      Hits         Time  Per Hit   % Time  Line Contents\n",
      "==============================================================\n",
      "   147                                           def RunModSwapCFL(Ne: np.uint8, Ns: np.uint16, t: np.complex64,\n",
      "   148                                                             M: np.uint32, M0: np.uint32, step_size: np.float64,\n",
      "   149                                                             region_geometry: str, region_size: np.float64, JK_coeffs: str,\n",
      "   150                                                             kCM: np.uint8 = 0, phi_1: np.float64 = 0, phi_t: np.float64 = 0,\n",
      "   151                                                             save_config: np.bool_ = True, save_results: np.bool_ = True,\n",
      "   152                                                             start_acceptance: np.float64 = -1\n",
      "   153                                                             ):\n",
      "   154                                               \"\"\"\n",
      "   155                                               Parameters:\n",
      "   156                                           \n",
      "   157                                               N : number of particles\n",
      "   158                                               Ns : number of flux quanta\n",
      "   159                                               t : torus complex aspect ratio\n",
      "   160                                               M : total number of Monte Carlo interations\n",
      "   161                                               M0 : number of non-thermal iterations\n",
      "   162                                               step_size : initial step size in units of Lx\n",
      "   163                                               region_geometry : geometry of subregion A ('stripe', 'circle')\n",
      "   164                                               region_size : coverage of subregion A (percentage of total area)\n",
      "   165                                               state : specifies the wavefunction of the system \n",
      "   166                                                       ('laughlin','free_fermions','cfl')\n",
      "   167                                               kCM, phi_1, phi_t : select the CM momentum and quasi-PBC manifold\n",
      "   168                                               save_config : indicate whether the coordinate vector and the swap order\n",
      "   169                                                               are saved (every 5% of the run)\n",
      "   170                                               save_results : indicate whether the full results vector is saved, the\n",
      "   171                                                               final mean and variance are saved, or just printed\n",
      "   172                                               \"\"\"\n",
      "   173                                           \n",
      "   174         1        285.0    285.0      0.0      Lx = np.sqrt(2*np.pi*Ns/np.imag(t))\n",
      "   175         1         43.0     43.0      0.0      Ly = Lx*np.imag(t)\n",
      "   176         1        765.0    765.0      0.0      print(\"Torus dimensions \\nLx = \", Lx, \"\\nLy = \", Ly)\n",
      "   177                                           \n",
      "   178         1          3.0      3.0      0.0      acceptance: np.float64 = 0\n",
      "   179         1          6.0      6.0      0.0      step_size *= Lx\n",
      "   180         1         28.0     28.0      0.0      boundary = Lx * np.sqrt(region_size/np.pi)\n",
      "   181         1        429.0    429.0      0.0      Ks = (fermi_sea_kx[Ne] + 1j*fermi_sea_ky[Ne])*2*np.pi/Lx\n",
      "   182                                           \n",
      "   183         1         62.0     62.0      0.0      JK_coeffs_parsed = np.array(list(JK_coeffs), dtype=int)\n",
      "   184         1        573.0    573.0      0.0      if np.sum(JK_coeffs_parsed) != Ns/Ne:\n",
      "   185                                                   print(\"JK coefficients are incorrect for the given filling!\")\n",
      "   186                                                   return 1\n",
      "   187                                               else:\n",
      "   188         1        926.0    926.0      0.0          coeffs, counts = np.unique(JK_coeffs_parsed, return_counts=True)\n",
      "   189         1        289.0    289.0      0.0          JK_coeffs_unique = np.vstack((coeffs, counts))\n",
      "   190                                           \n",
      "   191         1         10.0     10.0      0.0      if start_acceptance > 0:\n",
      "   192                                                   acceptance = start_acceptance\n",
      "   193                                                   coords, to_swap, results, prev_iter, error = LoadRun(Ne, Ns, t, M, region_size, region_geometry,\n",
      "   194                                                                                                        step_size/Lx, 'cfl'+JK_coeffs, 'mod')\n",
      "   195                                                   if error is not None:\n",
      "   196                                                       print(error)\n",
      "   197                                                       return 1\n",
      "   198                                                   print(\n",
      "   199                                                       f\"Previous run loaded successfully. Starting at iteration {prev_iter}\")\n",
      "   200                                           \n",
      "   201                                               else:\n",
      "   202         1          3.0      3.0      0.0          acceptance: np.float64 = 0\n",
      "   203         1   54221591.0    5e+07      2.3          coords = RandomConfigSWAP(Ne, Lx, Ly, region_geometry, boundary)\n",
      "   204         2    6198380.0    3e+06      0.3          to_swap = AssignOrderToSwap(InsideRegion(Lx, Ly, coords,\n",
      "   205         1          3.0      3.0      0.0                                                   region_geometry, boundary))\n",
      "   206         1        259.0    259.0      0.0          results = np.zeros((M), dtype=np.float64)\n",
      "   207         1          2.0      2.0      0.0          prev_iter = 0\n",
      "   208                                           \n",
      "   209         1       3099.0   3099.0      0.0      from_swap = OrderFromSwap(to_swap)\n",
      "   210                                           \n",
      "   211         1        130.0    130.0      0.0      to_swap_tmp = np.copy(to_swap)\n",
      "   212         1         39.0     39.0      0.0      from_swap_tmp = np.copy(from_swap)\n",
      "   213                                           \n",
      "   214         2         20.0     10.0      0.0      coords_tmp = np.zeros(\n",
      "   215         1         10.0     10.0      0.0          (coords.shape[0], coords.shape[1]), dtype=np.complex128)\n",
      "   216         1        193.0    193.0      0.0      coords_tmp = np.copy(coords)\n",
      "   217                                           \n",
      "   218         1         11.0     11.0      0.0      JK_slogdet = np.zeros((2, 4), dtype=np.complex128)\n",
      "   219         1          7.0      7.0      0.0      JK_slogdet_tmp = np.zeros((2, 4), dtype=np.complex128)\n",
      "   220         2       6841.0   3420.5      0.0      jastrows = np.ones(\n",
      "   221         1          7.0      7.0      0.0          (2*Ne, 2*Ne, Ne, JK_coeffs_unique.shape[1]), dtype=np.complex128)\n",
      "   222         1         78.0     78.0      0.0      JK_matrix = np.zeros((Ne, Ne, 4), dtype=np.complex128)\n",
      "   223                                           \n",
      "   224         1         20.0     20.0      0.0      moved_particles = np.zeros(2, dtype=np.uint8)\n",
      "   225                                           \n",
      "   226         3         48.0     16.0      0.0      for cp in range(2):\n",
      "   227         4   18738575.0    5e+06      0.8          JK_slogdet[:, cp] = InitialWavefnCFL(t, Lx, coords[:, cp], Ks,\n",
      "   228         4         48.0     12.0      0.0                                               jastrows[cp*Ne:(cp+1)*Ne,\n",
      "   229         2         13.0      6.5      0.0                                                        cp*Ne:(cp+1)*Ne, ...],\n",
      "   230         2         14.0      7.0      0.0                                               JK_coeffs_unique,\n",
      "   231         2         15.0      7.5      0.0                                               JK_matrix[:, :, cp])\n",
      "   232                                           \n",
      "   233         1         58.0     58.0      0.0      JK_slogdet[0, 2:4], \\\n",
      "   234         3   20175355.0    7e+06      0.8          JK_slogdet[1, 2:4] = InitialWavefnSwapCFL(t, Lx, coords, Ks, jastrows,\n",
      "   235         1          1.0      1.0      0.0                                                    JK_coeffs_unique,\n",
      "   236         1         18.0     18.0      0.0                                                    JK_matrix[:, :, 2:], from_swap)\n",
      "   237         2    5061142.0    3e+06      0.2      update = InitialModCFL(Ne, Ns, t, coords, Ks, jastrows[:, :, 0, 0], JK_slogdet,\n",
      "   238         1          4.0      4.0      0.0                             from_swap, kCM, phi_1, phi_t)\n",
      "   239                                           \n",
      "   240         1       5668.0   5668.0      0.0      jastrows_tmp = np.copy(jastrows)\n",
      "   241         1        178.0    178.0      0.0      JK_matrix_tmp = np.copy(JK_matrix)\n",
      "   242                                           \n",
      "   243     50001     370032.0      7.4      0.0      for i in range(prev_iter, prev_iter+M):\n",
      "   244                                           \n",
      "   245     50000     276141.0      5.5      0.0          step_amplitude = 1\n",
      "   246    100000   44530870.0    445.3      1.9          nbr_A_changes = StepOneSwap(\n",
      "   247     50000     329008.0      6.6      0.0              Lx, t, step_size, coords_tmp, moved_particles, region_geometry, boundary)\n",
      "   248    150000    1786418.0     11.9      0.1          for cp in range(2):\n",
      "   249    200000 1420980994.0   7104.9     59.2              JK_slogdet_tmp[:, cp] = TmpWavefnCFL(t, Lx, coords_tmp[:, cp], Ks,\n",
      "   250    200000    2051314.0     10.3      0.1                                                   jastrows[cp*Ne:(cp+1)*Ne,\n",
      "   251    100000     753605.0      7.5      0.0                                                            cp*Ne:(cp+1)*Ne, ...],\n",
      "   252    200000    1661415.0      8.3      0.1                                                   jastrows_tmp[cp*Ne:(cp+1)*Ne,\n",
      "   253    100000     684058.0      6.8      0.0                                                                cp*Ne:(cp+1)*Ne, ...],\n",
      "   254    100000     393472.0      3.9      0.0                                                   JK_coeffs_unique,\n",
      "   255    100000    1136071.0     11.4      0.0                                                   JK_matrix_tmp[..., cp], moved_particles[cp])\n",
      "   256    200000   89645019.0    448.2      3.7              step_amplitude *= StepOneAmplitudeCFL(Ns, t, coords[:, cp], coords_tmp[:, cp],\n",
      "   257    200000    2231745.0     11.2      0.1                                                    jastrows[cp*Ne:(cp+1)*Ne,\n",
      "   258    100000     767952.0      7.7      0.0                                                             cp*Ne:(cp+1)*Ne, 0, 0],\n",
      "   259    200000    1764970.0      8.8      0.1                                                    jastrows_tmp[cp*Ne:(cp+1)*Ne,\n",
      "   260    100000     704297.0      7.0      0.0                                                                 cp*Ne:(cp+1)*Ne, 0, 0],\n",
      "   261    100000     948242.0      9.5      0.0                                                    JK_slogdet[:, cp],\n",
      "   262    100000     871650.0      8.7      0.0                                                    JK_slogdet_tmp[:, cp],\n",
      "   263    100000     722024.0      7.2      0.0                                                    moved_particles[cp],\n",
      "   264    100000     468432.0      4.7      0.0                                                    Ks, kCM, phi_1, phi_t)\n",
      "   265                                           \n",
      "   266     50000    3989500.0     79.8      0.2          if step_amplitude*np.conj(step_amplitude) > np.random.random():\n",
      "   267     23489     112734.0      4.8      0.0              accept_bit = 1\n",
      "   268     46978    3983790.0     84.8      0.2              UpdateOrderSwap(to_swap_tmp, from_swap_tmp,\n",
      "   269     23489      97459.0      4.1      0.0                              moved_particles, nbr_A_changes)\n",
      "   270     23489     982435.0     41.8      0.0              JK_slogdet_tmp[0, 2:4], \\\n",
      "   271     70467  610022711.0   8656.9     25.4                  JK_slogdet_tmp[1, 2:4] = TmpWavefnSwapCFL(t, Lx, coords_tmp, Ks,\n",
      "   272     23489     106746.0      4.5      0.0                                                            jastrows, jastrows_tmp,\n",
      "   273     23489      98986.0      4.2      0.0                                                            JK_coeffs_unique,\n",
      "   274     46978     469558.0     10.0      0.0                                                            JK_matrix_tmp[:, :,\n",
      "   275     46978     247716.0      5.3      0.0                                                                          2:4], moved_particles,\n",
      "   276     23489      90136.0      3.8      0.0                                                            to_swap_tmp, from_swap_tmp)\n",
      "   277                                           \n",
      "   278     46978   34555655.0    735.6      1.4              step_amplitude_swap = StepOneAmplitudeSwapCFL(Ns, t, coords, coords_tmp, Ks,\n",
      "   279     23489     347357.0     14.8      0.0                                                            jastrows[:, :, 0, 0],\n",
      "   280     46978     367989.0      7.8      0.0                                                            jastrows_tmp[:,\n",
      "   281     23489     128926.0      5.5      0.0                                                                         :, 0, 0],\n",
      "   282     23489     279193.0     11.9      0.0                                                            JK_slogdet[:, 2:4],\n",
      "   283     23489     244320.0     10.4      0.0                                                            JK_slogdet_tmp[:, 2:4],\n",
      "   284     23489      97432.0      4.1      0.0                                                            moved_particles,\n",
      "   285     23489     107540.0      4.6      0.0                                                            from_swap, from_swap_tmp,\n",
      "   286     23489     101889.0      4.3      0.0                                                            kCM, phi_1, phi_t)\n",
      "   287                                           \n",
      "   288     23489    1315082.0     56.0      0.1              update *= np.abs(step_amplitude_swap / step_amplitude)\n",
      "   289                                           \n",
      "   290     23489    1817194.0     77.4      0.1              np.copyto(coords, coords_tmp)\n",
      "   291     23489    1216330.0     51.8      0.1              np.copyto(to_swap, to_swap_tmp)\n",
      "   292     23489    1075318.0     45.8      0.0              np.copyto(from_swap, from_swap_tmp)\n",
      "   293     46978    9032019.0    192.3      0.4              ResetJastrowsCFL(jastrows_tmp, jastrows,\n",
      "   294     23489     386720.0     16.5      0.0                               JK_matrix_tmp[..., 0], JK_matrix[...,  0], moved_particles[0])\n",
      "   295     46978    8521486.0    181.4      0.4              ResetJastrowsCFL(jastrows_tmp, jastrows,\n",
      "   296     23489    1808952.0     77.0      0.1                               JK_matrix_tmp[..., 1], JK_matrix[...,  1], Ne+moved_particles[1])\n",
      "   297     23489    2574687.0    109.6      0.1              np.copyto(JK_matrix[..., 2], JK_matrix_tmp[..., 2])\n",
      "   298     23489    2530495.0    107.7      0.1              np.copyto(JK_matrix[..., 3], JK_matrix_tmp[..., 3])\n",
      "   299     23489    1133186.0     48.2      0.0              np.copyto(JK_slogdet, JK_slogdet_tmp)\n",
      "   300                                           \n",
      "   301                                                   else:\n",
      "   302     26511     139147.0      5.2      0.0              accept_bit = 0\n",
      "   303     26511    1911267.0     72.1      0.1              np.copyto(coords_tmp, coords)\n",
      "   304     26511    1310705.0     49.4      0.1              np.copyto(to_swap_tmp, to_swap)\n",
      "   305     26511    1237726.0     46.7      0.1              np.copyto(from_swap_tmp, from_swap)\n",
      "   306     53022   10744259.0    202.6      0.4              ResetJastrowsCFL(jastrows, jastrows_tmp,\n",
      "   307     26511     400515.0     15.1      0.0                               JK_matrix[..., 0], JK_matrix_tmp[...,  0], moved_particles[0])\n",
      "   308     53022   10332603.0    194.9      0.4              ResetJastrowsCFL(jastrows, jastrows_tmp,\n",
      "   309     26511    1734346.0     65.4      0.1                               JK_matrix[..., 1], JK_matrix_tmp[...,  1], Ne+moved_particles[1])\n",
      "   310     26511    2935232.0    110.7      0.1              np.copyto(JK_matrix_tmp[..., 2], JK_matrix[..., 2])\n",
      "   311     26511    2908044.0    109.7      0.1              np.copyto(JK_matrix_tmp[..., 3], JK_matrix[..., 3])\n",
      "   312                                           \n",
      "   313     50000     557806.0     11.2      0.0          results[i] = update\n",
      "   314     50000     892698.0     17.9      0.0          acceptance = (acceptance*i + accept_bit)/(i + 1)\n",
      "   315                                           \n",
      "   316     50000     890903.0     17.8      0.0          if (i+1-prev_iter) % (M//20) == 0:\n",
      "   317        40      41109.0   1027.7      0.0              print('Iteration', i+1, 'done, current acceptance ratio:',\n",
      "   318        20      12781.0    639.0      0.0                    np.round(acceptance*100, 2), '%')\n",
      "   319        20        171.0      8.6      0.0              if save_config:\n",
      "   320                                                           SaveConfig('cfl'+JK_coeffs, 'mod', Ne, Ns, Lx, Ly, t, step_size, region_geometry, region_size,\n",
      "   321                                                                      results, coords, to_swap)\n",
      "   322                                           \n",
      "   323         2       7928.0   3964.0      0.0      SaveResults('cfl'+JK_coeffs, 'mod', Ne, Ns, Lx, Ly, M0, t, step_size,\n",
      "   324         1          5.0      5.0      0.0                  results, save_results, region_geometry, region_size)"
     ]
    }
   ],
   "source": [
    "%lprun -f RunModSwapCFL RunModSwapCFL(37, 74, 1j, 50000, 100, 0.05, region, region_size=0.23, JK_coeffs=\"2\", save_config=False, save_results=False)"
   ]
  },
  {
   "cell_type": "markdown",
   "metadata": {},
   "source": [
    "### Optimisation to-do\n",
    "- for laughlin wavefn, store theta functions of current coords so we don't have to calcualte those O(n) again for the current step"
   ]
  },
  {
   "cell_type": "code",
   "execution_count": null,
   "metadata": {},
   "outputs": [],
   "source": [
    "from cmath import exp"
   ]
  },
  {
   "cell_type": "code",
   "execution_count": null,
   "metadata": {},
   "outputs": [],
   "source": [
    "@njit#(parallel=True)\n",
    "def ThetaFunction(z: np.complex128, t: np.complex128, a: np.float64,\n",
    "                  b: np.float64, n_max: np.uint32 = 1000\n",
    "                  ) -> np.complex128:\n",
    "    index = np.arange(-n_max, n_max, 1)\n",
    "    x = t*a + 2*(z+b)\n",
    "    terms = np.exp(1j*np.pi*(index+a)*(t*index + x))\n",
    "    return np.sum(terms)"
   ]
  },
  {
   "cell_type": "markdown",
   "metadata": {},
   "source": [
    "## How many theta functon terms to converge to machine precision"
   ]
  },
  {
   "cell_type": "code",
   "execution_count": null,
   "metadata": {},
   "outputs": [],
   "source": [
    "N = 60\n",
    "x, y = np.meshgrid(np.linspace(-2,2,N), np.linspace(-2,2,N), indexing='xy')\n",
    "z = x + 1j*y\n",
    "tf_grid_1 = np.zeros((N,N), dtype=np.complex128)\n",
    "tf_grid_2 = np.zeros((N,N), dtype=np.complex128)\n",
    "\n",
    "for i in range(N):\n",
    "    for j in range(N):\n",
    "        tf_grid_1[i,j] = ThetaFunction(z[i,j], 1j, 1/2, 1/2,6)\n",
    "        tf_grid_2[i,j] = ThetaFunction(z[i,j], 1j, 1/2, 1/2,11)"
   ]
  },
  {
   "cell_type": "code",
   "execution_count": null,
   "metadata": {},
   "outputs": [
    {
     "data": {
      "text/plain": [
       "(2.3828557978614704+0j)"
      ]
     },
     "execution_count": 35,
     "metadata": {},
     "output_type": "execute_result"
    }
   ],
   "source": [
    "ThetaFunction(-0.5-0.5*1j, 1j, 1/2, 1/2,2500)"
   ]
  },
  {
   "cell_type": "code",
   "execution_count": null,
   "metadata": {},
   "outputs": [
    {
     "data": {
      "text/plain": [
       "0.0"
      ]
     },
     "execution_count": 36,
     "metadata": {},
     "output_type": "execute_result"
    }
   ],
   "source": [
    "np.sum(np.real(tf_grid_1-tf_grid_2)**2)"
   ]
  },
  {
   "cell_type": "code",
   "execution_count": null,
   "metadata": {},
   "outputs": [
    {
     "data": {
      "text/plain": [
       "<matplotlib.colorbar.Colorbar at 0x1bc459f2650>"
      ]
     },
     "execution_count": 37,
     "metadata": {},
     "output_type": "execute_result"
    },
    {
     "data": {
      "image/png": "[encoded data removed]",
      "text/plain": [
       "<Figure size 640x480 with 2 Axes>"
      ]
     },
     "metadata": {},
     "output_type": "display_data"
    }
   ],
   "source": [
    "plt.imshow(np.real(tf_grid_1-tf_grid_2))\n",
    "plt.colorbar()"
   ]
  },
  {
   "cell_type": "code",
   "execution_count": null,
   "metadata": {},
   "outputs": [],
   "source": [
    "#@jit#(parallel=True)\n",
    "def TF1(z: np.complex128, t: np.complex128, a: np.float64,\n",
    "                  b: np.float64, n_max: np.uint32 = 50\n",
    "                  ) -> np.complex128:\n",
    "    s=0\n",
    "    x = t*a + 2*(z+b)\n",
    "    for i in range(-n_max, n_max, 1):\n",
    "        s += exp(1j*np.pi*(i+a)*(t*i + x))\n",
    "    \n",
    "    return s"
   ]
  },
  {
   "cell_type": "code",
   "execution_count": null,
   "metadata": {},
   "outputs": [
    {
     "name": "stdout",
     "output_type": "stream",
     "text": [
      "693 ns ± 1.18 ns per loop (mean ± std. dev. of 7 runs, 1,000,000 loops each)\n"
     ]
    }
   ],
   "source": [
    "%%timeit\n",
    "\n",
    "ThetaFunction(0.5+1*1j, 1j, 1/2, 1/2, 10)"
   ]
  },
  {
   "cell_type": "code",
   "execution_count": null,
   "metadata": {},
   "outputs": [
    {
     "name": "stdout",
     "output_type": "stream",
     "text": [
      "5.84 µs ± 51.8 ns per loop (mean ± std. dev. of 7 runs, 100,000 loops each)\n"
     ]
    }
   ],
   "source": [
    "%%timeit\n",
    "TF1(0.5+0.5*1j, 1j, 1/2, 1/2, 10)"
   ]
  },
  {
   "cell_type": "code",
   "execution_count": null,
   "metadata": {},
   "outputs": [
    {
     "data": {
      "text/plain": [
       "(-2.3828557978614704-2.9181567256807615e-16j)"
      ]
     },
     "execution_count": 51,
     "metadata": {},
     "output_type": "execute_result"
    }
   ],
   "source": [
    "ThetaFunction(0.5+0.5*1j, 1j, 1/2, 1/2)"
   ]
  },
  {
   "cell_type": "code",
   "execution_count": null,
   "metadata": {},
   "outputs": [
    {
     "data": {
      "text/plain": [
       "(-2.3828557978614704-2.9181567256807615e-16j)"
      ]
     },
     "execution_count": 47,
     "metadata": {},
     "output_type": "execute_result"
    }
   ],
   "source": [
    "ThetaFunction(0.5+0.5*1j, 1j, 1/2, 1/2)"
   ]
  },
  {
   "cell_type": "code",
   "execution_count": null,
   "metadata": {},
   "outputs": [],
   "source": []
  }
 ],
 "metadata": {
  "kernelspec": {
   "display_name": "base",
   "language": "python",
   "name": "python3"
  },
  "language_info": {
   "codemirror_mode": {
    "name": "ipython",
    "version": 3
   },
   "file_extension": ".py",
   "mimetype": "text/x-python",
   "name": "python",
   "nbconvert_exporter": "python",
   "pygments_lexer": "ipython3",
   "version": "3.10.12"
  }
 },
 "nbformat": 4,
 "nbformat_minor": 2
}
