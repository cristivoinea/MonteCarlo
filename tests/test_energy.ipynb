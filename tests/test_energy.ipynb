{
 "cells": [
  {
   "cell_type": "code",
   "execution_count": 1,
   "metadata": {},
   "outputs": [],
   "source": [
    "import numpy as np\n",
    "from MonteCarloTorus import RunCoulombEnergyLaughlin, RunCoulombEnergyOld, RunCoulombEnergyCFL"
   ]
  },
  {
   "cell_type": "code",
   "execution_count": 1,
   "metadata": {},
   "outputs": [
    {
     "ename": "NameError",
     "evalue": "name 'RunCoulombEnergyCFL' is not defined",
     "output_type": "error",
     "traceback": [
      "\u001b[1;31m---------------------------------------------------------------------------\u001b[0m",
      "\u001b[1;31mNameError\u001b[0m                                 Traceback (most recent call last)",
      "\u001b[1;32md:\\fizica\\phd\\MonteCarlo\\MonteCarlo\\test_energy.ipynb Cell 2\u001b[0m line \u001b[0;36m3\n\u001b[0;32m      <a href='vscode-notebook-cell:/d%3A/fizica/phd/MonteCarlo/MonteCarlo/test_energy.ipynb#W1sZmlsZQ%3D%3D?line=0'>1</a>\u001b[0m Ne \u001b[39m=\u001b[39m \u001b[39m37\u001b[39m\n\u001b[0;32m      <a href='vscode-notebook-cell:/d%3A/fizica/phd/MonteCarlo/MonteCarlo/test_energy.ipynb#W1sZmlsZQ%3D%3D?line=1'>2</a>\u001b[0m Ns \u001b[39m=\u001b[39m Ne\u001b[39m*\u001b[39m\u001b[39m2\u001b[39m\n\u001b[1;32m----> <a href='vscode-notebook-cell:/d%3A/fizica/phd/MonteCarlo/MonteCarlo/test_energy.ipynb#W1sZmlsZQ%3D%3D?line=2'>3</a>\u001b[0m RunCoulombEnergyCFL(Ne, Ns, \u001b[39m1\u001b[39mj, \u001b[39m100000\u001b[39m, \u001b[39m1e4\u001b[39m, \u001b[39m0.07\u001b[39m, save_config\u001b[39m=\u001b[39m\u001b[39mFalse\u001b[39;00m, save_result\u001b[39m=\u001b[39m\u001b[39mFalse\u001b[39;00m)\n",
      "\u001b[1;31mNameError\u001b[0m: name 'RunCoulombEnergyCFL' is not defined"
     ]
    }
   ],
   "source": [
    "Ne = 37\n",
    "Ns = Ne*2\n",
    "RunCoulombEnergyCFL(Ne, Ns, 1j, 100000, 1e4, 0.07, save_config=False, save_result=False)"
   ]
  },
  {
   "cell_type": "code",
   "execution_count": 2,
   "metadata": {},
   "outputs": [
    {
     "ename": "NameError",
     "evalue": "name 'RunCoulombEnergy' is not defined",
     "output_type": "error",
     "traceback": [
      "\u001b[1;31m---------------------------------------------------------------------------\u001b[0m",
      "\u001b[1;31mNameError\u001b[0m                                 Traceback (most recent call last)",
      "\u001b[1;32md:\\fizica\\phd\\MonteCarlo\\MonteCarlo\\test_energy.ipynb Cell 3\u001b[0m line \u001b[0;36m3\n\u001b[0;32m      <a href='vscode-notebook-cell:/d%3A/fizica/phd/MonteCarlo/MonteCarlo/test_energy.ipynb#W2sZmlsZQ%3D%3D?line=0'>1</a>\u001b[0m Ne \u001b[39m=\u001b[39m \u001b[39m10\u001b[39m\n\u001b[0;32m      <a href='vscode-notebook-cell:/d%3A/fizica/phd/MonteCarlo/MonteCarlo/test_energy.ipynb#W2sZmlsZQ%3D%3D?line=1'>2</a>\u001b[0m Ns \u001b[39m=\u001b[39m \u001b[39m30\u001b[39m\n\u001b[1;32m----> <a href='vscode-notebook-cell:/d%3A/fizica/phd/MonteCarlo/MonteCarlo/test_energy.ipynb#W2sZmlsZQ%3D%3D?line=2'>3</a>\u001b[0m RunCoulombEnergy(Ne, Ns, \u001b[39m1\u001b[39mj, \u001b[39m500000\u001b[39m, \u001b[39m1e4\u001b[39m, \u001b[39m0.1\u001b[39m, \u001b[39m'\u001b[39m\u001b[39mlaughlin\u001b[39m\u001b[39m'\u001b[39m, save_config\u001b[39m=\u001b[39m\u001b[39mTrue\u001b[39;00m, save_result\u001b[39m=\u001b[39m\u001b[39mTrue\u001b[39;00m)\n",
      "\u001b[1;31mNameError\u001b[0m: name 'RunCoulombEnergy' is not defined"
     ]
    }
   ],
   "source": [
    "Ne = 10\n",
    "Ns = 30\n",
    "RunCoulombEnergy(Ne, Ns, 1j, 500000, 1e4, 0.1, 'laughlin', save_config=True, save_result=True)"
   ]
  },
  {
   "cell_type": "code",
   "execution_count": 5,
   "metadata": {},
   "outputs": [],
   "source": [
    "result = np.load(\"laughlin_full_coulomb_Ne_10_Ns_30_t_1.00_none_0.000_step_0.100.npy\")\n",
    "\n",
    "from utilities import FullStats\n",
    "means, vars = FullStats(result[10000:])"
   ]
  },
  {
   "cell_type": "code",
   "execution_count": null,
   "metadata": {},
   "outputs": [],
   "source": [
    "import matplotlib.pyplot as plt\n",
    "\n",
    "plt.plot(np.arange(means.size), means)\n",
    "plt.plot(np.arange(means.size), vars)"
   ]
  },
  {
   "cell_type": "code",
   "execution_count": 10,
   "metadata": {},
   "outputs": [
    {
     "name": "stdout",
     "output_type": "stream",
     "text": [
      "Torus dimensions \n",
      "Lx =  13.729368492956533 \n",
      "Ly =  13.729368492956533\n",
      "Iteration 50000 done, current acceptance ratio: 51.29 %\n",
      "Iteration 100000 done, current acceptance ratio: 51.38 %\n",
      "Iteration 150000 done, current acceptance ratio: 51.4 %\n",
      "Iteration 200000 done, current acceptance ratio: 51.32 %\n",
      "Iteration 250000 done, current acceptance ratio: 51.22 %\n",
      "Iteration 300000 done, current acceptance ratio: 51.2 %\n",
      "Iteration 350000 done, current acceptance ratio: 51.2 %\n",
      "Iteration 400000 done, current acceptance ratio: 51.2 %\n",
      "Iteration 450000 done, current acceptance ratio: 51.2 %\n",
      "Iteration 500000 done, current acceptance ratio: 51.18 %\n",
      "Iteration 550000 done, current acceptance ratio: 51.18 %\n",
      "Iteration 600000 done, current acceptance ratio: 51.13 %\n",
      "Iteration 650000 done, current acceptance ratio: 51.12 %\n",
      "Iteration 700000 done, current acceptance ratio: 51.11 %\n",
      "Iteration 750000 done, current acceptance ratio: 51.11 %\n",
      "Iteration 800000 done, current acceptance ratio: 51.11 %\n",
      "Iteration 850000 done, current acceptance ratio: 51.15 %\n",
      "Iteration 900000 done, current acceptance ratio: 51.16 %\n",
      "Iteration 950000 done, current acceptance ratio: 51.15 %\n",
      "Iteration 1000000 done, current acceptance ratio: 51.16 %\n"
     ]
    }
   ],
   "source": [
    "Ne = 10\n",
    "Ns = 30\n",
    "result = RunCoulombEnergyOld(Ne, Ns, 1j, 1000000, 0.1, )"
   ]
  },
  {
   "cell_type": "code",
   "execution_count": 11,
   "metadata": {},
   "outputs": [
    {
     "data": {
      "text/plain": [
       "(-0.41046937456488103, 0.0004375397649168907)"
      ]
     },
     "execution_count": 11,
     "metadata": {},
     "output_type": "execute_result"
    }
   ],
   "source": [
    "from utilities import Stats\n",
    "\n",
    "Stats(result[100000:])"
   ]
  },
  {
   "cell_type": "code",
   "execution_count": null,
   "metadata": {},
   "outputs": [],
   "source": []
  }
 ],
 "metadata": {
  "kernelspec": {
   "display_name": "base",
   "language": "python",
   "name": "python3"
  },
  "language_info": {
   "codemirror_mode": {
    "name": "ipython",
    "version": 3
   },
   "file_extension": ".py",
   "mimetype": "text/x-python",
   "name": "python",
   "nbconvert_exporter": "python",
   "pygments_lexer": "ipython3",
   "version": "3.10.12"
  }
 },
 "nbformat": 4,
 "nbformat_minor": 2
}
