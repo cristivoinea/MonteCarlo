{
 "cells": [
  {
   "cell_type": "code",
   "execution_count": 1,
   "metadata": {},
   "outputs": [],
   "source": [
    "#import os\n",
    "#os.environ['NUMBA_NUM_THREADS'] = \"1\"\n",
    "import numpy as np\n",
    "#from MonteCarloTorusSWAP import RunPSwapCFL, RunModSwapCFL, RunSignSwapCFL\n",
    "from MonteCarloTorusCFL import RunPSwapCFL, RunModSwapCFL, RunSignSwapCFL"
   ]
  },
  {
   "cell_type": "code",
   "execution_count": 2,
   "metadata": {},
   "outputs": [],
   "source": [
    "Ne = 37\n",
    "Ns = 3*Ne\n",
    "t = 1j\n",
    "step_size = 0.05\n",
    "M = 10000\n",
    "M0 = 1000"
   ]
  },
  {
   "cell_type": "code",
   "execution_count": 3,
   "metadata": {},
   "outputs": [
    {
     "name": "stdout",
     "output_type": "stream",
     "text": [
      "Torus dimensions \n",
      "Lx =  26.408967588622886 \n",
      "Ly =  26.408967588622886\n",
      "Iteration 500 done, current acceptance ratio: 45.4 %\n",
      "Iteration 1000 done, current acceptance ratio: 40.1 %\n",
      "Iteration 1500 done, current acceptance ratio: 38.13 %\n",
      "Iteration 2000 done, current acceptance ratio: 36.95 %\n"
     ]
    },
    {
     "ename": "KeyboardInterrupt",
     "evalue": "",
     "output_type": "error",
     "traceback": [
      "\u001b[1;31m---------------------------------------------------------------------------\u001b[0m",
      "\u001b[1;31mKeyboardInterrupt\u001b[0m                         Traceback (most recent call last)",
      "Cell \u001b[1;32mIn[3], line 2\u001b[0m\n\u001b[0;32m      1\u001b[0m \u001b[38;5;66;03m#RunPSwapCFL(Ne, Ns, t, M, M0, step_size, 'circle', JK_coeffs='22', region_size=0.2750, save_config=True, save_results=True)\u001b[39;00m\n\u001b[1;32m----> 2\u001b[0m \u001b[43mRunSignSwapCFL\u001b[49m\u001b[43m(\u001b[49m\u001b[43mNe\u001b[49m\u001b[43m,\u001b[49m\u001b[43m \u001b[49m\u001b[43mNs\u001b[49m\u001b[43m,\u001b[49m\u001b[43m \u001b[49m\u001b[43mt\u001b[49m\u001b[43m,\u001b[49m\u001b[43mM\u001b[49m\u001b[38;5;241;43m=\u001b[39;49m\u001b[43mM\u001b[49m\u001b[43m,\u001b[49m\u001b[43mM0\u001b[49m\u001b[38;5;241;43m=\u001b[39;49m\u001b[43m \u001b[49m\u001b[43mM0\u001b[49m\u001b[43m,\u001b[49m\u001b[43m \u001b[49m\u001b[43mstep_size\u001b[49m\u001b[38;5;241;43m=\u001b[39;49m\u001b[43mstep_size\u001b[49m\u001b[43m,\u001b[49m\u001b[43m \u001b[49m\u001b[43mregion_geometry\u001b[49m\u001b[38;5;241;43m=\u001b[39;49m\u001b[38;5;124;43m'\u001b[39;49m\u001b[38;5;124;43mcircle\u001b[39;49m\u001b[38;5;124;43m'\u001b[39;49m\u001b[43m,\u001b[49m\u001b[43m \u001b[49m\u001b[43mJK_coeffs\u001b[49m\u001b[38;5;241;43m=\u001b[39;49m\u001b[38;5;124;43m'\u001b[39;49m\u001b[38;5;124;43m3\u001b[39;49m\u001b[38;5;124;43m'\u001b[39;49m\u001b[43m,\u001b[49m\u001b[43m \u001b[49m\u001b[43mregion_size\u001b[49m\u001b[38;5;241;43m=\u001b[39;49m\u001b[38;5;241;43m0.1500\u001b[39;49m\u001b[43m,\u001b[49m\u001b[43m \u001b[49m\u001b[43msave_config\u001b[49m\u001b[38;5;241;43m=\u001b[39;49m\u001b[38;5;28;43;01mFalse\u001b[39;49;00m\u001b[43m,\u001b[49m\u001b[43m \u001b[49m\u001b[43msave_results\u001b[49m\u001b[38;5;241;43m=\u001b[39;49m\u001b[38;5;28;43;01mFalse\u001b[39;49;00m\u001b[43m)\u001b[49m\n",
      "File \u001b[1;32md:\\fizica\\phd\\MonteCarlo\\MonteCarlo\\MonteCarloTorusCFL.py:437\u001b[0m, in \u001b[0;36mRunSignSwapCFL\u001b[1;34m(Ne, Ns, t, M, M0, step_size, region_geometry, region_size, JK_coeffs, kCM, phi_1, phi_t, save_config, save_results, start_acceptance)\u001b[0m\n\u001b[0;32m    432\u001b[0m nbr_A_changes \u001b[38;5;241m=\u001b[39m StepOneSwap(\n\u001b[0;32m    433\u001b[0m     Lx, t, step_size, coords_tmp, moved_particles, region_geometry, boundary)\n\u001b[0;32m    434\u001b[0m \u001b[38;5;28;01mfor\u001b[39;00m cp \u001b[38;5;129;01min\u001b[39;00m \u001b[38;5;28mrange\u001b[39m(\u001b[38;5;241m2\u001b[39m):\n\u001b[0;32m    436\u001b[0m     JK_slogdet_tmp[\u001b[38;5;241m0\u001b[39m, cp], \\\n\u001b[1;32m--> 437\u001b[0m         JK_slogdet_tmp[\u001b[38;5;241m1\u001b[39m, cp] \u001b[38;5;241m=\u001b[39m \u001b[43mTmpWavefnCFL\u001b[49m\u001b[43m(\u001b[49m\u001b[43mt\u001b[49m\u001b[43m,\u001b[49m\u001b[43m \u001b[49m\u001b[43mLx\u001b[49m\u001b[43m,\u001b[49m\u001b[43m \u001b[49m\u001b[43mcoords_tmp\u001b[49m\u001b[43m[\u001b[49m\u001b[43m:\u001b[49m\u001b[43m,\u001b[49m\u001b[43m \u001b[49m\u001b[43mcp\u001b[49m\u001b[43m]\u001b[49m\u001b[43m,\u001b[49m\u001b[43m \u001b[49m\u001b[43mKs\u001b[49m\u001b[43m,\u001b[49m\n\u001b[0;32m    438\u001b[0m \u001b[43m                                             \u001b[49m\u001b[43mjastrows\u001b[49m\u001b[43m[\u001b[49m\u001b[43mcp\u001b[49m\u001b[38;5;241;43m*\u001b[39;49m\u001b[43mNe\u001b[49m\u001b[43m:\u001b[49m\u001b[43m(\u001b[49m\u001b[43mcp\u001b[49m\u001b[38;5;241;43m+\u001b[39;49m\u001b[38;5;241;43m1\u001b[39;49m\u001b[43m)\u001b[49m\u001b[38;5;241;43m*\u001b[39;49m\u001b[43mNe\u001b[49m\u001b[43m,\u001b[49m\n\u001b[0;32m    439\u001b[0m \u001b[43m                                                      \u001b[49m\u001b[43mcp\u001b[49m\u001b[38;5;241;43m*\u001b[39;49m\u001b[43mNe\u001b[49m\u001b[43m:\u001b[49m\u001b[43m(\u001b[49m\u001b[43mcp\u001b[49m\u001b[38;5;241;43m+\u001b[39;49m\u001b[38;5;241;43m1\u001b[39;49m\u001b[43m)\u001b[49m\u001b[38;5;241;43m*\u001b[39;49m\u001b[43mNe\u001b[49m\u001b[43m,\u001b[49m\u001b[43m \u001b[49m\u001b[38;5;241;43m.\u001b[39;49m\u001b[38;5;241;43m.\u001b[39;49m\u001b[38;5;241;43m.\u001b[39;49m\u001b[43m]\u001b[49m\u001b[43m,\u001b[49m\n\u001b[0;32m    440\u001b[0m \u001b[43m                                             \u001b[49m\u001b[43mjastrows_tmp\u001b[49m\u001b[43m[\u001b[49m\u001b[43mcp\u001b[49m\u001b[38;5;241;43m*\u001b[39;49m\u001b[43mNe\u001b[49m\u001b[43m:\u001b[49m\u001b[43m(\u001b[49m\u001b[43mcp\u001b[49m\u001b[38;5;241;43m+\u001b[39;49m\u001b[38;5;241;43m1\u001b[39;49m\u001b[43m)\u001b[49m\u001b[38;5;241;43m*\u001b[39;49m\u001b[43mNe\u001b[49m\u001b[43m,\u001b[49m\n\u001b[0;32m    441\u001b[0m \u001b[43m                                                          \u001b[49m\u001b[43mcp\u001b[49m\u001b[38;5;241;43m*\u001b[39;49m\u001b[43mNe\u001b[49m\u001b[43m:\u001b[49m\u001b[43m(\u001b[49m\u001b[43mcp\u001b[49m\u001b[38;5;241;43m+\u001b[39;49m\u001b[38;5;241;43m1\u001b[39;49m\u001b[43m)\u001b[49m\u001b[38;5;241;43m*\u001b[39;49m\u001b[43mNe\u001b[49m\u001b[43m,\u001b[49m\u001b[43m \u001b[49m\u001b[38;5;241;43m.\u001b[39;49m\u001b[38;5;241;43m.\u001b[39;49m\u001b[38;5;241;43m.\u001b[39;49m\u001b[43m]\u001b[49m\u001b[43m,\u001b[49m\n\u001b[0;32m    442\u001b[0m \u001b[43m                                             \u001b[49m\u001b[43mJK_coeffs_unique\u001b[49m\u001b[43m,\u001b[49m\n\u001b[0;32m    443\u001b[0m \u001b[43m                                             \u001b[49m\u001b[43mJK_matrix_tmp\u001b[49m\u001b[43m[\u001b[49m\u001b[38;5;241;43m.\u001b[39;49m\u001b[38;5;241;43m.\u001b[39;49m\u001b[38;5;241;43m.\u001b[39;49m\u001b[43m,\u001b[49m\u001b[43m \u001b[49m\u001b[43mcp\u001b[49m\u001b[43m]\u001b[49m\u001b[43m,\u001b[49m\u001b[43m \u001b[49m\u001b[43mmoved_particles\u001b[49m\u001b[43m[\u001b[49m\u001b[43mcp\u001b[49m\u001b[43m]\u001b[49m\u001b[43m)\u001b[49m\n\u001b[0;32m    445\u001b[0m     step_amplitude \u001b[38;5;241m*\u001b[39m\u001b[38;5;241m=\u001b[39m StepOneAmplitudeCFL(Ns, t, coords[:, cp], coords_tmp[:, cp],\n\u001b[0;32m    446\u001b[0m                                           jastrows[cp\u001b[38;5;241m*\u001b[39mNe:(cp\u001b[38;5;241m+\u001b[39m\u001b[38;5;241m1\u001b[39m)\u001b[38;5;241m*\u001b[39mNe,\n\u001b[0;32m    447\u001b[0m                                                    cp\u001b[38;5;241m*\u001b[39mNe:(cp\u001b[38;5;241m+\u001b[39m\u001b[38;5;241m1\u001b[39m)\u001b[38;5;241m*\u001b[39mNe, \u001b[38;5;241m0\u001b[39m, \u001b[38;5;241m0\u001b[39m],\n\u001b[1;32m   (...)\u001b[0m\n\u001b[0;32m    452\u001b[0m                                           moved_particles[cp],\n\u001b[0;32m    453\u001b[0m                                           Ks, kCM, phi_1, phi_t)\n\u001b[0;32m    455\u001b[0m UpdateOrderSwap(to_swap_tmp, from_swap_tmp,\n\u001b[0;32m    456\u001b[0m                 moved_particles, nbr_A_changes)\n",
      "File \u001b[1;32md:\\fizica\\phd\\MonteCarlo\\MonteCarlo\\WavefnCFL.py:177\u001b[0m, in \u001b[0;36mTmpWavefnCFL\u001b[1;34m(t, Lx, coords_tmp, Ks, jastrows, jastrows_tmp, JK_coeffs, JK_matrix_tmp, moved_particle)\u001b[0m\n\u001b[0;32m    170\u001b[0m \u001b[38;5;28;01mdef\u001b[39;00m \u001b[38;5;21mTmpWavefnCFL\u001b[39m(t: np\u001b[38;5;241m.\u001b[39mcomplex128, Lx: np\u001b[38;5;241m.\u001b[39mfloat64,\n\u001b[0;32m    171\u001b[0m                  coords_tmp: np\u001b[38;5;241m.\u001b[39marray, Ks: np\u001b[38;5;241m.\u001b[39marray,\n\u001b[0;32m    172\u001b[0m                  jastrows: np\u001b[38;5;241m.\u001b[39marray, jastrows_tmp: np\u001b[38;5;241m.\u001b[39marray,\n\u001b[0;32m    173\u001b[0m                  JK_coeffs: np\u001b[38;5;241m.\u001b[39marray,\n\u001b[0;32m    174\u001b[0m                  JK_matrix_tmp: np\u001b[38;5;241m.\u001b[39marray, moved_particle: np\u001b[38;5;241m.\u001b[39muint16\n\u001b[0;32m    175\u001b[0m                  ) \u001b[38;5;241m-\u001b[39m\u001b[38;5;241m>\u001b[39m (np\u001b[38;5;241m.\u001b[39mcomplex128, np\u001b[38;5;241m.\u001b[39mfloat64):\n\u001b[1;32m--> 177\u001b[0m     \u001b[43mUpdateJastrowsCFL\u001b[49m\u001b[43m(\u001b[49m\u001b[43mt\u001b[49m\u001b[43m,\u001b[49m\u001b[43m \u001b[49m\u001b[43mLx\u001b[49m\u001b[43m,\u001b[49m\u001b[43m \u001b[49m\u001b[43mcoords_tmp\u001b[49m\u001b[43m,\u001b[49m\u001b[43m \u001b[49m\u001b[43mKs\u001b[49m\u001b[43m,\u001b[49m\u001b[43m \u001b[49m\u001b[43mjastrows\u001b[49m\u001b[43m,\u001b[49m\u001b[43m \u001b[49m\u001b[43mjastrows_tmp\u001b[49m\u001b[43m,\u001b[49m\n\u001b[0;32m    178\u001b[0m \u001b[43m                      \u001b[49m\u001b[43mJK_coeffs\u001b[49m\u001b[43m,\u001b[49m\u001b[43m \u001b[49m\u001b[43mJK_matrix_tmp\u001b[49m\u001b[43m,\u001b[49m\u001b[43m \u001b[49m\u001b[43mmoved_particle\u001b[49m\u001b[43m)\u001b[49m\n\u001b[0;32m    179\u001b[0m     \u001b[38;5;28;01mreturn\u001b[39;00m np\u001b[38;5;241m.\u001b[39mlinalg\u001b[38;5;241m.\u001b[39mslogdet(JK_matrix_tmp)\n",
      "\u001b[1;31mKeyboardInterrupt\u001b[0m: "
     ]
    }
   ],
   "source": [
    "#RunPSwapCFL(Ne, Ns, t, M, M0, step_size, 'circle', JK_coeffs='22', region_size=0.2750, save_config=True, save_results=True)\n",
    "RunSignSwapCFL(Ne, Ns, t,M=M,M0= M0, step_size=step_size, region_geometry='circle', JK_coeffs='3', region_size=0.1500, save_config=False, save_results=False)"
   ]
  },
  {
   "cell_type": "code",
   "execution_count": null,
   "metadata": {},
   "outputs": [],
   "source": [
    "results = np.load(\"cfl22_p_results_Ne_37_Ns_148_t_1.00_circle_0.2875_step_0.032.npy\")\n",
    "results.size\n",
    "#np.save(\"cfl22_p_results_Ne_37_Ns_148_t_1.00_circle_0.2875_step_0.032.npy\", results[:5000000])"
   ]
  },
  {
   "cell_type": "code",
   "execution_count": null,
   "metadata": {},
   "outputs": [],
   "source": [
    "from utilities import SaveResults\n",
    "SaveResults('cfl22', 'p', Ne, Ns, 30.49444909262305, 30.49444909262305, M0, t, step_size*30.49444909262305, results, True, 'circle', 0.2875)"
   ]
  },
  {
   "cell_type": "code",
   "execution_count": null,
   "metadata": {},
   "outputs": [],
   "source": [
    "RunPSwapCFL(Ne, Ns, t, M, M0, step_size, 'circle', region_size=0.2125, save_config=True, save_results=True)"
   ]
  },
  {
   "cell_type": "code",
   "execution_count": null,
   "metadata": {},
   "outputs": [],
   "source": [
    "for boundary in np.arange(0.30, 0.401, 0.01):\n",
    "        RunPSwapCFL(Ne, Ns, t, M, M0, step_size, 'circle', boundary=boundary, save_config=True, save_result=True)"
   ]
  },
  {
   "cell_type": "code",
   "execution_count": null,
   "metadata": {},
   "outputs": [],
   "source": [
    "Ne = 12\n",
    "Ns = 2*Ne\n",
    "t = 1j\n",
    "step_size = 0.087\n",
    "M = 5000000\n",
    "M0 = 100000"
   ]
  },
  {
   "cell_type": "code",
   "execution_count": null,
   "metadata": {},
   "outputs": [],
   "source": [
    "for boundary in np.arange(0.34, 0.341, 0.01):\n",
    "        RunPSwapCFL(Ne, Ns, t, M, M0, step_size, 'circle', boundary=boundary, save_config=True, save_result=True)"
   ]
  },
  {
   "cell_type": "code",
   "execution_count": null,
   "metadata": {},
   "outputs": [],
   "source": []
  }
 ],
 "metadata": {
  "kernelspec": {
   "display_name": "base",
   "language": "python",
   "name": "python3"
  },
  "language_info": {
   "codemirror_mode": {
    "name": "ipython",
    "version": 3
   },
   "file_extension": ".py",
   "mimetype": "text/x-python",
   "name": "python",
   "nbconvert_exporter": "python",
   "pygments_lexer": "ipython3",
   "version": "3.10.12"
  }
 },
 "nbformat": 4,
 "nbformat_minor": 2
}
