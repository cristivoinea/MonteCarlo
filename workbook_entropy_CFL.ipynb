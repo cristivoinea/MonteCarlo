{
 "cells": [
  {
   "cell_type": "code",
   "execution_count": 1,
   "metadata": {},
   "outputs": [],
   "source": [
    "NUMBA_NUM_THREADS=1"
   ]
  },
  {
   "cell_type": "code",
   "execution_count": 2,
   "metadata": {},
   "outputs": [],
   "source": [
    "import numpy as npy\n",
    "from src.MonteCarloTorusCFL import MonteCarloTorusCFL "
   ]
  },
  {
   "cell_type": "code",
   "execution_count": 10,
   "metadata": {},
   "outputs": [
    {
     "name": "stdout",
     "output_type": "stream",
     "text": [
      "Torus dimensions \n",
      "Lx =  15.247224546311525 \n",
      "Ly =  15.247224546311525\n"
     ]
    }
   ],
   "source": [
    "cfl = MonteCarloTorusCFL(Ne=37, Ns=37, t=1j, nbr_iter=10000, nbr_nonthermal=1000, region_geometry='circle',\n",
    "                         region_size=0.1000, step_size=0.040, JK_coeffs='0', acceptance_ratio = 0,\n",
    "                         save_config=False,save_results=False)"
   ]
  },
  {
   "cell_type": "code",
   "execution_count": 11,
   "metadata": {},
   "outputs": [
    {
     "name": "stdout",
     "output_type": "stream",
     "text": [
      "Iteration 500 done, current acceptance ratio: 51.2 %\n",
      "Iteration 1000 done, current acceptance ratio: 53.0 %\n",
      "Iteration 1500 done, current acceptance ratio: 51.07 %\n",
      "Iteration 2000 done, current acceptance ratio: 51.7 %\n",
      "Iteration 2500 done, current acceptance ratio: 52.04 %\n",
      "Iteration 3000 done, current acceptance ratio: 51.73 %\n",
      "Iteration 3500 done, current acceptance ratio: 51.77 %\n",
      "Iteration 4000 done, current acceptance ratio: 51.58 %\n",
      "Iteration 4500 done, current acceptance ratio: 52.09 %\n",
      "Iteration 5000 done, current acceptance ratio: 52.04 %\n",
      "Iteration 5500 done, current acceptance ratio: 51.82 %\n",
      "Iteration 6000 done, current acceptance ratio: 51.38 %\n",
      "Iteration 6500 done, current acceptance ratio: 51.28 %\n",
      "Iteration 7000 done, current acceptance ratio: 51.21 %\n",
      "Iteration 7500 done, current acceptance ratio: 51.03 %\n",
      "Iteration 8000 done, current acceptance ratio: 51.02 %\n",
      "Iteration 8500 done, current acceptance ratio: 51.35 %\n",
      "Iteration 9000 done, current acceptance ratio: 51.21 %\n",
      "Iteration 9500 done, current acceptance ratio: 51.22 %\n",
      "Iteration 10000 done, current acceptance ratio: 51.45 %\n",
      "\n",
      "Mean (real) = 0.5375495921842395 \n",
      " Var (real) = 0.4261033192898107\n",
      "\n",
      "Mean (imag) = 0.07035429406603685 \n",
      " Var (imag) = 0.28006585320060307\n"
     ]
    }
   ],
   "source": [
    "cfl.RunSwapSign()"
   ]
  },
  {
   "cell_type": "code",
   "execution_count": 1,
   "metadata": {},
   "outputs": [],
   "source": [
    "#import os\n",
    "#os.environ['NUMBA_NUM_THREADS'] = \"1\"\n",
    "import numpy as np\n",
    "#from MonteCarloTorusSWAP import RunPSwapCFL, RunModSwapCFL, RunSignSwapCFL\n",
    "from MonteCarloTorusCFL import RunPSwapCFL, RunModSwapCFL, RunSignSwapCFL"
   ]
  },
  {
   "cell_type": "code",
   "execution_count": 2,
   "metadata": {},
   "outputs": [],
   "source": [
    "Ne = 37\n",
    "Ns = 2*Ne\n",
    "t = 1j\n",
    "step_size = 0.05\n",
    "M = 10000\n",
    "M0 = 1000"
   ]
  },
  {
   "cell_type": "code",
   "execution_count": 3,
   "metadata": {},
   "outputs": [
    {
     "name": "stdout",
     "output_type": "stream",
     "text": [
      "Torus dimensions \n",
      "Lx =  21.56283174194172 \n",
      "Ly =  21.56283174194172\n",
      "Iteration 500 done, current acceptance ratio: 50.6 %\n",
      "Iteration 1000 done, current acceptance ratio: 49.6 %\n",
      "Iteration 1500 done, current acceptance ratio: 49.33 %\n",
      "Iteration 2000 done, current acceptance ratio: 49.2 %\n",
      "Iteration 2500 done, current acceptance ratio: 48.32 %\n",
      "Iteration 3000 done, current acceptance ratio: 47.6 %\n",
      "Iteration 3500 done, current acceptance ratio: 47.17 %\n",
      "Iteration 4000 done, current acceptance ratio: 47.15 %\n",
      "Iteration 4500 done, current acceptance ratio: 46.89 %\n",
      "Iteration 5000 done, current acceptance ratio: 46.52 %\n",
      "Iteration 5500 done, current acceptance ratio: 46.47 %\n",
      "Iteration 6000 done, current acceptance ratio: 46.42 %\n",
      "Iteration 6500 done, current acceptance ratio: 46.49 %\n",
      "Iteration 7000 done, current acceptance ratio: 46.34 %\n",
      "Iteration 7500 done, current acceptance ratio: 46.17 %\n",
      "Iteration 8000 done, current acceptance ratio: 46.5 %\n",
      "Iteration 8500 done, current acceptance ratio: 46.69 %\n",
      "Iteration 9000 done, current acceptance ratio: 46.66 %\n",
      "Iteration 9500 done, current acceptance ratio: 46.65 %\n",
      "Iteration 10000 done, current acceptance ratio: 46.51 %\n",
      "\n",
      "Mean = 0.16701882120289557 \n",
      " Var = 0.6307075920976634\n"
     ]
    }
   ],
   "source": [
    "#RunPSwapCFL(Ne, Ns, t, M, M0, step_size, 'circle', JK_coeffs='22', region_size=0.2750, save_config=True, save_results=True)\n",
    "RunModSwapCFL(Ne, Ns, t,M=M,M0= M0, step_size=step_size, region_geometry='circle', JK_coeffs='2', region_size=0.1500, save_config=False, save_results=False)"
   ]
  },
  {
   "cell_type": "code",
   "execution_count": null,
   "metadata": {},
   "outputs": [],
   "source": [
    "results = np.load(\"cfl22_p_results_Ne_37_Ns_148_t_1.00_circle_0.2875_step_0.032.npy\")\n",
    "results.size\n",
    "#np.save(\"cfl22_p_results_Ne_37_Ns_148_t_1.00_circle_0.2875_step_0.032.npy\", results[:5000000])"
   ]
  },
  {
   "cell_type": "code",
   "execution_count": null,
   "metadata": {},
   "outputs": [],
   "source": [
    "from utilities import SaveResults\n",
    "SaveResults('cfl22', 'p', Ne, Ns, 30.49444909262305, 30.49444909262305, M0, t, step_size*30.49444909262305, results, True, 'circle', 0.2875)"
   ]
  },
  {
   "cell_type": "code",
   "execution_count": null,
   "metadata": {},
   "outputs": [],
   "source": [
    "RunPSwapCFL(Ne, Ns, t, M, M0, step_size, 'circle', region_size=0.2125, save_config=True, save_results=True)"
   ]
  },
  {
   "cell_type": "code",
   "execution_count": null,
   "metadata": {},
   "outputs": [],
   "source": [
    "for boundary in np.arange(0.30, 0.401, 0.01):\n",
    "        RunPSwapCFL(Ne, Ns, t, M, M0, step_size, 'circle', boundary=boundary, save_config=True, save_result=True)"
   ]
  },
  {
   "cell_type": "code",
   "execution_count": null,
   "metadata": {},
   "outputs": [],
   "source": [
    "Ne = 12\n",
    "Ns = 2*Ne\n",
    "t = 1j\n",
    "step_size = 0.087\n",
    "M = 5000000\n",
    "M0 = 100000"
   ]
  },
  {
   "cell_type": "code",
   "execution_count": null,
   "metadata": {},
   "outputs": [],
   "source": [
    "for boundary in np.arange(0.34, 0.341, 0.01):\n",
    "        RunPSwapCFL(Ne, Ns, t, M, M0, step_size, 'circle', boundary=boundary, save_config=True, save_result=True)"
   ]
  },
  {
   "cell_type": "code",
   "execution_count": null,
   "metadata": {},
   "outputs": [],
   "source": []
  }
 ],
 "metadata": {
  "kernelspec": {
   "display_name": "base",
   "language": "python",
   "name": "python3"
  },
  "language_info": {
   "codemirror_mode": {
    "name": "ipython",
    "version": 3
   },
   "file_extension": ".py",
   "mimetype": "text/x-python",
   "name": "python",
   "nbconvert_exporter": "python",
   "pygments_lexer": "ipython3",
   "version": "3.10.12"
  }
 },
 "nbformat": 4,
 "nbformat_minor": 2
}
